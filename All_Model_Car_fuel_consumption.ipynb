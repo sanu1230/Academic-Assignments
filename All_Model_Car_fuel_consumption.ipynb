{
  "nbformat": 4,
  "nbformat_minor": 0,
  "metadata": {
    "kernelspec": {
      "display_name": "Python 3",
      "language": "python",
      "name": "python3"
    },
    "language_info": {
      "codemirror_mode": {
        "name": "ipython",
        "version": 3
      },
      "file_extension": ".py",
      "mimetype": "text/x-python",
      "name": "python",
      "nbconvert_exporter": "python",
      "pygments_lexer": "ipython3",
      "version": "3.7.1"
    },
    "colab": {
      "name": "All Model - Car fuel consumption",
      "provenance": [],
      "collapsed_sections": [
        "vAOMjOJagYJ-"
      ],
      "toc_visible": true,
      "include_colab_link": true
    }
  },
  "cells": [
    {
      "cell_type": "markdown",
      "metadata": {
        "id": "view-in-github",
        "colab_type": "text"
      },
      "source": [
        "<a href=\"https://colab.research.google.com/github/sanu1230/Assignments/blob/master/All_Model_Car_fuel_consumption.ipynb\" target=\"_parent\"><img src=\"https://colab.research.google.com/assets/colab-badge.svg\" alt=\"Open In Colab\"/></a>"
      ]
    },
    {
      "cell_type": "markdown",
      "metadata": {
        "id": "TBcUx4J_gYCQ",
        "colab_type": "text"
      },
      "source": [
        "# Assignment Solution"
      ]
    },
    {
      "cell_type": "markdown",
      "metadata": {
        "id": "ToSYIciwgYCS",
        "colab_type": "text"
      },
      "source": [
        "# Fuel Consumption dataset"
      ]
    },
    {
      "cell_type": "markdown",
      "metadata": {
        "id": "b4Wnipr2gYCT",
        "colab_type": "text"
      },
      "source": [
        "### Dataset Description  <a id='fuel'>\n",
        "    \n",
        "**Objective**\n",
        "Our objective is to predict the fuel consumption so that we can economize the fuel consumption\n",
        "\n",
        "Columns\n",
        "\n",
        "1.Payload-Describes the loaded cargo.\n",
        "\n",
        "2.Reliability-Probability of this route to be on time according to historical data.\n",
        "\n",
        "3.Season-Describes the weather condition. 0 is good weather and 1 is bad weather\n",
        "\n",
        "4.Net-This is a discrete quantitative variable that describes the quality of the roadnet. 1 is bad quality, 2 is mediocre and 3 is good quality\n",
        "\n",
        "5.Fuel-The dependent variable. It is describing the fuel consumption of a truck when doing this route\n",
        "\n",
        "6.LoadValue-This is the value of the cargo of the truck.\n",
        "\n",
        "7.TransmissionType-Truck can have automatic or manual transmission."
      ]
    },
    {
      "cell_type": "markdown",
      "metadata": {
        "id": "oFDtogfOgYCU",
        "colab_type": "text"
      },
      "source": [
        "### 1. Importing packages and dataset <a id='packages'>"
      ]
    },
    {
      "cell_type": "code",
      "metadata": {
        "id": "XMnJ7VhYgYCV",
        "colab_type": "code",
        "colab": {
          "base_uri": "https://localhost:8080/",
          "height": 70
        },
        "outputId": "b3331212-45aa-43d8-a9c9-baeaa88c0903"
      },
      "source": [
        "# Importing the libraries\n",
        "import numpy as np\n",
        "import pandas as pd\n",
        "import matplotlib.pyplot as plt\n",
        "import seaborn as sns"
      ],
      "execution_count": null,
      "outputs": [
        {
          "output_type": "stream",
          "text": [
            "/usr/local/lib/python3.6/dist-packages/statsmodels/tools/_testing.py:19: FutureWarning: pandas.util.testing is deprecated. Use the functions in the public API at pandas.testing instead.\n",
            "  import pandas.util.testing as tm\n"
          ],
          "name": "stderr"
        }
      ]
    },
    {
      "cell_type": "code",
      "metadata": {
        "id": "jVKV3-t8hnr7",
        "colab_type": "code",
        "colab": {
          "base_uri": "https://localhost:8080/",
          "height": 121
        },
        "outputId": "713f2d5e-ac16-4635-a14d-8e12744d112c"
      },
      "source": [
        "from google.colab import drive\n",
        "drive.mount('/content/drive')"
      ],
      "execution_count": null,
      "outputs": [
        {
          "output_type": "stream",
          "text": [
            "Go to this URL in a browser: https://accounts.google.com/o/oauth2/auth?client_id=947318989803-6bn6qk8qdgf4n4g3pfee6491hc0brc4i.apps.googleusercontent.com&redirect_uri=urn%3aietf%3awg%3aoauth%3a2.0%3aoob&response_type=code&scope=email%20https%3a%2f%2fwww.googleapis.com%2fauth%2fdocs.test%20https%3a%2f%2fwww.googleapis.com%2fauth%2fdrive%20https%3a%2f%2fwww.googleapis.com%2fauth%2fdrive.photos.readonly%20https%3a%2f%2fwww.googleapis.com%2fauth%2fpeopleapi.readonly\n",
            "\n",
            "Enter your authorization code:\n",
            "··········\n",
            "Mounted at /content/drive\n"
          ],
          "name": "stdout"
        }
      ]
    },
    {
      "cell_type": "code",
      "metadata": {
        "id": "DG1hB-DDgYCc",
        "colab_type": "code",
        "colab": {}
      },
      "source": [
        "# Reading the dataset\n",
        "fuel = pd.read_csv('/content/drive/My Drive/Colab Notebooks/UpX/ML Projects/kaggle.csv')"
      ],
      "execution_count": null,
      "outputs": []
    },
    {
      "cell_type": "markdown",
      "metadata": {
        "id": "WWu-1g_agYCg",
        "colab_type": "text"
      },
      "source": [
        "### 2. Exploring the dataset  <a id='explore'>"
      ]
    },
    {
      "cell_type": "code",
      "metadata": {
        "id": "0Xgp5YyQgYCh",
        "colab_type": "code",
        "colab": {
          "base_uri": "https://localhost:8080/",
          "height": 195
        },
        "outputId": "73016e74-140a-462c-a789-a11ca5e8fd9a"
      },
      "source": [
        "# Head of the dataset\n",
        "fuel.head()"
      ],
      "execution_count": null,
      "outputs": [
        {
          "output_type": "execute_result",
          "data": {
            "text/html": [
              "<div>\n",
              "<style scoped>\n",
              "    .dataframe tbody tr th:only-of-type {\n",
              "        vertical-align: middle;\n",
              "    }\n",
              "\n",
              "    .dataframe tbody tr th {\n",
              "        vertical-align: top;\n",
              "    }\n",
              "\n",
              "    .dataframe thead th {\n",
              "        text-align: right;\n",
              "    }\n",
              "</style>\n",
              "<table border=\"1\" class=\"dataframe\">\n",
              "  <thead>\n",
              "    <tr style=\"text-align: right;\">\n",
              "      <th></th>\n",
              "      <th>Unnamed: 0</th>\n",
              "      <th>Payload</th>\n",
              "      <th>Reliability</th>\n",
              "      <th>Season</th>\n",
              "      <th>Net</th>\n",
              "      <th>Fuel</th>\n",
              "      <th>LoadValue</th>\n",
              "      <th>TransmissionType</th>\n",
              "    </tr>\n",
              "  </thead>\n",
              "  <tbody>\n",
              "    <tr>\n",
              "      <th>0</th>\n",
              "      <td>0</td>\n",
              "      <td>268.003362</td>\n",
              "      <td>88.942169</td>\n",
              "      <td>0</td>\n",
              "      <td>3</td>\n",
              "      <td>13.033955</td>\n",
              "      <td>1130.150394</td>\n",
              "      <td>automatic</td>\n",
              "    </tr>\n",
              "    <tr>\n",
              "      <th>1</th>\n",
              "      <td>1</td>\n",
              "      <td>270.695677</td>\n",
              "      <td>86.018913</td>\n",
              "      <td>0</td>\n",
              "      <td>3</td>\n",
              "      <td>12.843801</td>\n",
              "      <td>1137.342936</td>\n",
              "      <td>manual</td>\n",
              "    </tr>\n",
              "    <tr>\n",
              "      <th>2</th>\n",
              "      <td>2</td>\n",
              "      <td>268.346849</td>\n",
              "      <td>85.945960</td>\n",
              "      <td>0</td>\n",
              "      <td>3</td>\n",
              "      <td>12.500423</td>\n",
              "      <td>1319.950261</td>\n",
              "      <td>automatic</td>\n",
              "    </tr>\n",
              "    <tr>\n",
              "      <th>3</th>\n",
              "      <td>3</td>\n",
              "      <td>253.712697</td>\n",
              "      <td>87.986605</td>\n",
              "      <td>0</td>\n",
              "      <td>3</td>\n",
              "      <td>11.987058</td>\n",
              "      <td>1662.979622</td>\n",
              "      <td>automatic</td>\n",
              "    </tr>\n",
              "    <tr>\n",
              "      <th>4</th>\n",
              "      <td>4</td>\n",
              "      <td>240.949546</td>\n",
              "      <td>83.871310</td>\n",
              "      <td>0</td>\n",
              "      <td>3</td>\n",
              "      <td>12.248381</td>\n",
              "      <td>1674.107415</td>\n",
              "      <td>manual</td>\n",
              "    </tr>\n",
              "  </tbody>\n",
              "</table>\n",
              "</div>"
            ],
            "text/plain": [
              "   Unnamed: 0     Payload  Reliability  ...       Fuel    LoadValue  TransmissionType\n",
              "0           0  268.003362    88.942169  ...  13.033955  1130.150394         automatic\n",
              "1           1  270.695677    86.018913  ...  12.843801  1137.342936            manual\n",
              "2           2  268.346849    85.945960  ...  12.500423  1319.950261         automatic\n",
              "3           3  253.712697    87.986605  ...  11.987058  1662.979622         automatic\n",
              "4           4  240.949546    83.871310  ...  12.248381  1674.107415            manual\n",
              "\n",
              "[5 rows x 8 columns]"
            ]
          },
          "metadata": {
            "tags": []
          },
          "execution_count": 23
        }
      ]
    },
    {
      "cell_type": "code",
      "metadata": {
        "id": "IXVH_yKzgYCm",
        "colab_type": "code",
        "colab": {}
      },
      "source": [
        "# Removing the Unnamed: 0 column\n",
        "fuel = fuel.drop('Unnamed: 0',1)"
      ],
      "execution_count": null,
      "outputs": []
    },
    {
      "cell_type": "code",
      "metadata": {
        "id": "fFjPxbkVgYCr",
        "colab_type": "code",
        "colab": {
          "base_uri": "https://localhost:8080/",
          "height": 34
        },
        "outputId": "a238745f-f291-42e0-b91a-a27b8b795f92"
      },
      "source": [
        "# Shape of the dataset\n",
        "fuel.shape"
      ],
      "execution_count": null,
      "outputs": [
        {
          "output_type": "execute_result",
          "data": {
            "text/plain": [
              "(4493, 7)"
            ]
          },
          "metadata": {
            "tags": []
          },
          "execution_count": 25
        }
      ]
    },
    {
      "cell_type": "code",
      "metadata": {
        "id": "ZEBAC53pgYCv",
        "colab_type": "code",
        "colab": {
          "base_uri": "https://localhost:8080/",
          "height": 252
        },
        "outputId": "9c1265bd-b26c-415e-e692-2fe39c559e61"
      },
      "source": [
        "# Info of the dataset\n",
        "fuel.info()"
      ],
      "execution_count": null,
      "outputs": [
        {
          "output_type": "stream",
          "text": [
            "<class 'pandas.core.frame.DataFrame'>\n",
            "RangeIndex: 4493 entries, 0 to 4492\n",
            "Data columns (total 7 columns):\n",
            " #   Column            Non-Null Count  Dtype  \n",
            "---  ------            --------------  -----  \n",
            " 0   Payload           4493 non-null   float64\n",
            " 1   Reliability       4493 non-null   float64\n",
            " 2   Season            4493 non-null   int64  \n",
            " 3   Net               4493 non-null   int64  \n",
            " 4   Fuel              4493 non-null   float64\n",
            " 5   LoadValue         4493 non-null   float64\n",
            " 6   TransmissionType  4493 non-null   object \n",
            "dtypes: float64(4), int64(2), object(1)\n",
            "memory usage: 245.8+ KB\n"
          ],
          "name": "stdout"
        }
      ]
    },
    {
      "cell_type": "markdown",
      "metadata": {
        "id": "0Bo1oeY1gYC0",
        "colab_type": "text"
      },
      "source": [
        "### 3. Performing Descriptive Statistics on the dataset"
      ]
    },
    {
      "cell_type": "code",
      "metadata": {
        "id": "hnFr_X01gYC6",
        "colab_type": "code",
        "colab": {
          "base_uri": "https://localhost:8080/",
          "height": 284
        },
        "outputId": "be70485c-a0c4-47c6-d922-5fb6cee88094"
      },
      "source": [
        "# Summary statistics\n",
        "fuel.describe()"
      ],
      "execution_count": null,
      "outputs": [
        {
          "output_type": "execute_result",
          "data": {
            "text/html": [
              "<div>\n",
              "<style scoped>\n",
              "    .dataframe tbody tr th:only-of-type {\n",
              "        vertical-align: middle;\n",
              "    }\n",
              "\n",
              "    .dataframe tbody tr th {\n",
              "        vertical-align: top;\n",
              "    }\n",
              "\n",
              "    .dataframe thead th {\n",
              "        text-align: right;\n",
              "    }\n",
              "</style>\n",
              "<table border=\"1\" class=\"dataframe\">\n",
              "  <thead>\n",
              "    <tr style=\"text-align: right;\">\n",
              "      <th></th>\n",
              "      <th>Payload</th>\n",
              "      <th>Reliability</th>\n",
              "      <th>Season</th>\n",
              "      <th>Net</th>\n",
              "      <th>Fuel</th>\n",
              "      <th>LoadValue</th>\n",
              "    </tr>\n",
              "  </thead>\n",
              "  <tbody>\n",
              "    <tr>\n",
              "      <th>count</th>\n",
              "      <td>4493.000000</td>\n",
              "      <td>4493.000000</td>\n",
              "      <td>4493.000000</td>\n",
              "      <td>4493.000000</td>\n",
              "      <td>4493.000000</td>\n",
              "      <td>4493.000000</td>\n",
              "    </tr>\n",
              "    <tr>\n",
              "      <th>mean</th>\n",
              "      <td>284.053496</td>\n",
              "      <td>70.184271</td>\n",
              "      <td>0.146227</td>\n",
              "      <td>2.380147</td>\n",
              "      <td>16.508160</td>\n",
              "      <td>854.382437</td>\n",
              "    </tr>\n",
              "    <tr>\n",
              "      <th>std</th>\n",
              "      <td>12.344016</td>\n",
              "      <td>6.665746</td>\n",
              "      <td>0.353373</td>\n",
              "      <td>0.557214</td>\n",
              "      <td>1.846029</td>\n",
              "      <td>249.432115</td>\n",
              "    </tr>\n",
              "    <tr>\n",
              "      <th>min</th>\n",
              "      <td>228.025383</td>\n",
              "      <td>48.145788</td>\n",
              "      <td>0.000000</td>\n",
              "      <td>1.000000</td>\n",
              "      <td>11.298344</td>\n",
              "      <td>152.690191</td>\n",
              "    </tr>\n",
              "    <tr>\n",
              "      <th>25%</th>\n",
              "      <td>276.898803</td>\n",
              "      <td>65.418693</td>\n",
              "      <td>0.000000</td>\n",
              "      <td>2.000000</td>\n",
              "      <td>15.169328</td>\n",
              "      <td>674.397696</td>\n",
              "    </tr>\n",
              "    <tr>\n",
              "      <th>50%</th>\n",
              "      <td>286.560013</td>\n",
              "      <td>70.238216</td>\n",
              "      <td>0.000000</td>\n",
              "      <td>2.000000</td>\n",
              "      <td>16.442109</td>\n",
              "      <td>830.769184</td>\n",
              "    </tr>\n",
              "    <tr>\n",
              "      <th>75%</th>\n",
              "      <td>293.842742</td>\n",
              "      <td>74.921809</td>\n",
              "      <td>0.000000</td>\n",
              "      <td>3.000000</td>\n",
              "      <td>17.773924</td>\n",
              "      <td>1010.278817</td>\n",
              "    </tr>\n",
              "    <tr>\n",
              "      <th>max</th>\n",
              "      <td>299.999307</td>\n",
              "      <td>90.315143</td>\n",
              "      <td>1.000000</td>\n",
              "      <td>3.000000</td>\n",
              "      <td>23.335635</td>\n",
              "      <td>1967.946647</td>\n",
              "    </tr>\n",
              "  </tbody>\n",
              "</table>\n",
              "</div>"
            ],
            "text/plain": [
              "           Payload  Reliability  ...         Fuel    LoadValue\n",
              "count  4493.000000  4493.000000  ...  4493.000000  4493.000000\n",
              "mean    284.053496    70.184271  ...    16.508160   854.382437\n",
              "std      12.344016     6.665746  ...     1.846029   249.432115\n",
              "min     228.025383    48.145788  ...    11.298344   152.690191\n",
              "25%     276.898803    65.418693  ...    15.169328   674.397696\n",
              "50%     286.560013    70.238216  ...    16.442109   830.769184\n",
              "75%     293.842742    74.921809  ...    17.773924  1010.278817\n",
              "max     299.999307    90.315143  ...    23.335635  1967.946647\n",
              "\n",
              "[8 rows x 6 columns]"
            ]
          },
          "metadata": {
            "tags": []
          },
          "execution_count": 27
        }
      ]
    },
    {
      "cell_type": "markdown",
      "metadata": {
        "id": "joLnt_ysgYC_",
        "colab_type": "text"
      },
      "source": [
        "**As we could see the max and min are almost same for all the columns so no need of scaling**"
      ]
    },
    {
      "cell_type": "markdown",
      "metadata": {
        "id": "GMqdgwlHgYDA",
        "colab_type": "text"
      },
      "source": [
        "### 4. Checking for null values  <a id='null'>"
      ]
    },
    {
      "cell_type": "code",
      "metadata": {
        "id": "cMFPSRgJgYDB",
        "colab_type": "code",
        "colab": {
          "base_uri": "https://localhost:8080/",
          "height": 151
        },
        "outputId": "150b8485-9ffe-499f-8490-d2f15c074aaf"
      },
      "source": [
        "# Null values check\n",
        "fuel.isnull().sum()"
      ],
      "execution_count": null,
      "outputs": [
        {
          "output_type": "execute_result",
          "data": {
            "text/plain": [
              "Payload             0\n",
              "Reliability         0\n",
              "Season              0\n",
              "Net                 0\n",
              "Fuel                0\n",
              "LoadValue           0\n",
              "TransmissionType    0\n",
              "dtype: int64"
            ]
          },
          "metadata": {
            "tags": []
          },
          "execution_count": 28
        }
      ]
    },
    {
      "cell_type": "markdown",
      "metadata": {
        "id": "PCcVdr97gYDG",
        "colab_type": "text"
      },
      "source": [
        "**We could see that there are no null values present in the dataset**"
      ]
    },
    {
      "cell_type": "markdown",
      "metadata": {
        "id": "u3WnYfmrgYDH",
        "colab_type": "text"
      },
      "source": [
        "### 5. Data Visualizations on the dataset <a id='dv'>"
      ]
    },
    {
      "cell_type": "code",
      "metadata": {
        "id": "wTSSb5D3gYDH",
        "colab_type": "code",
        "colab": {
          "base_uri": "https://localhost:8080/",
          "height": 296
        },
        "outputId": "6d7477df-e854-43c7-c397-bedbfd8b0943"
      },
      "source": [
        "# Countplot for Transmission Type\n",
        "sns.countplot(x='TransmissionType',data=fuel)"
      ],
      "execution_count": null,
      "outputs": [
        {
          "output_type": "execute_result",
          "data": {
            "text/plain": [
              "<matplotlib.axes._subplots.AxesSubplot at 0x7f529ac73cf8>"
            ]
          },
          "metadata": {
            "tags": []
          },
          "execution_count": 29
        },
        {
          "output_type": "display_data",
          "data": {
            "image/png": "[encoded data removed]",
            "text/plain": [
              "<Figure size 432x288 with 1 Axes>"
            ]
          },
          "metadata": {
            "tags": [],
            "needs_background": "light"
          }
        }
      ]
    },
    {
      "cell_type": "markdown",
      "metadata": {
        "id": "tlTvFFGZgYDM",
        "colab_type": "text"
      },
      "source": [
        "**We could see there are more cars of the Transmission Type manual this may be due to the cost difference between them**"
      ]
    },
    {
      "cell_type": "code",
      "metadata": {
        "id": "r8J_qgmCgYDN",
        "colab_type": "code",
        "colab": {
          "base_uri": "https://localhost:8080/",
          "height": 296
        },
        "outputId": "dcdb7625-4836-4115-cd55-d839a433fb36"
      },
      "source": [
        "# Swarmplot for Transmission Type vs Fuel\n",
        "sns.swarmplot(x='TransmissionType',y='Fuel',data=fuel)"
      ],
      "execution_count": null,
      "outputs": [
        {
          "output_type": "execute_result",
          "data": {
            "text/plain": [
              "<matplotlib.axes._subplots.AxesSubplot at 0x7f529a9fd6d8>"
            ]
          },
          "metadata": {
            "tags": []
          },
          "execution_count": 30
        },
        {
          "output_type": "display_data",
          "data": {
            "image/png": "[encoded data removed]",
            "text/plain": [
              "<Figure size 432x288 with 1 Axes>"
            ]
          },
          "metadata": {
            "tags": [],
            "needs_background": "light"
          }
        }
      ]
    },
    {
      "cell_type": "markdown",
      "metadata": {
        "id": "fXvzNJHKgYDR",
        "colab_type": "text"
      },
      "source": [
        "**We could see that the fuel consumption is almost same for both the Transmission Type so fuel consumption is not dependent on Transmission Type**"
      ]
    },
    {
      "cell_type": "code",
      "metadata": {
        "id": "aTCq7bmbgYDS",
        "colab_type": "code",
        "colab": {
          "base_uri": "https://localhost:8080/",
          "height": 296
        },
        "outputId": "d264420e-2417-457e-800e-b022f0974ed3"
      },
      "source": [
        "# Boxplot for Season vs Fuel\n",
        "sns.boxplot(x='Season', y='Fuel', data=fuel)"
      ],
      "execution_count": null,
      "outputs": [
        {
          "output_type": "execute_result",
          "data": {
            "text/plain": [
              "<matplotlib.axes._subplots.AxesSubplot at 0x7f529a9f30f0>"
            ]
          },
          "metadata": {
            "tags": []
          },
          "execution_count": 31
        },
        {
          "output_type": "display_data",
          "data": {
            "image/png": "[encoded data removed]",
            "text/plain": [
              "<Figure size 432x288 with 1 Axes>"
            ]
          },
          "metadata": {
            "tags": [],
            "needs_background": "light"
          }
        }
      ]
    },
    {
      "cell_type": "markdown",
      "metadata": {
        "id": "38xHjaWlgYDV",
        "colab_type": "text"
      },
      "source": [
        "**We could see that most of the fuel consumption happened when the weather is good although even some happened during when weather is bad this may be due to some uncontrollable circumstances**"
      ]
    },
    {
      "cell_type": "markdown",
      "metadata": {
        "id": "Kw2JgiBAgYDW",
        "colab_type": "text"
      },
      "source": [
        "Lets check if Reliability has any effect on weather conditions"
      ]
    },
    {
      "cell_type": "code",
      "metadata": {
        "id": "0iC3RDr9gYDX",
        "colab_type": "code",
        "colab": {
          "base_uri": "https://localhost:8080/",
          "height": 296
        },
        "outputId": "3c66999c-49c5-4d8d-ceba-3a745541efd0"
      },
      "source": [
        "# Barplot for Season vs Reliability\n",
        "sns.barplot(x='Season',y='Reliability',data=fuel)"
      ],
      "execution_count": null,
      "outputs": [
        {
          "output_type": "execute_result",
          "data": {
            "text/plain": [
              "<matplotlib.axes._subplots.AxesSubplot at 0x7f529a94be80>"
            ]
          },
          "metadata": {
            "tags": []
          },
          "execution_count": 32
        },
        {
          "output_type": "display_data",
          "data": {
            "image/png": "[encoded data removed]",
            "text/plain": [
              "<Figure size 432x288 with 1 Axes>"
            ]
          },
          "metadata": {
            "tags": [],
            "needs_background": "light"
          }
        }
      ]
    },
    {
      "cell_type": "markdown",
      "metadata": {
        "id": "YYWiMqlygYDa",
        "colab_type": "text"
      },
      "source": [
        "**Well we could see that the Reliability is less for when weather condition is bad so there have been delays in reaching the destination**"
      ]
    },
    {
      "cell_type": "markdown",
      "metadata": {
        "id": "-4zYxdbvgYDb",
        "colab_type": "text"
      },
      "source": [
        "Lets check how Fuel Consumption related to Reliability"
      ]
    },
    {
      "cell_type": "code",
      "metadata": {
        "id": "NOXn_iYkgYDd",
        "colab_type": "code",
        "colab": {
          "base_uri": "https://localhost:8080/",
          "height": 296
        },
        "outputId": "a355ae8c-d8dd-460e-b7e9-7ed9c235cbe6"
      },
      "source": [
        "# Regression plot for Reliability vs Fuel\n",
        "sns.regplot(x='Reliability',y='Fuel',data=fuel)"
      ],
      "execution_count": null,
      "outputs": [
        {
          "output_type": "execute_result",
          "data": {
            "text/plain": [
              "<matplotlib.axes._subplots.AxesSubplot at 0x7f529a92dc18>"
            ]
          },
          "metadata": {
            "tags": []
          },
          "execution_count": 33
        },
        {
          "output_type": "display_data",
          "data": {
            "image/png": "[encoded data removed]",
            "text/plain": [
              "<Figure size 432x288 with 1 Axes>"
            ]
          },
          "metadata": {
            "tags": [],
            "needs_background": "light"
          }
        }
      ]
    },
    {
      "cell_type": "markdown",
      "metadata": {
        "id": "rSiII_m4gYDh",
        "colab_type": "text"
      },
      "source": [
        "**We coul see Fuel and Reliability are in a negative linear relationship with each other so with increase in fuel consumption the reliability decreases which means if people try to keep up their travel time on track then there is chance of fuel consumption to be reduced**"
      ]
    },
    {
      "cell_type": "markdown",
      "metadata": {
        "id": "rRFvaVFqgYDh",
        "colab_type": "text"
      },
      "source": [
        "Lets check if there is relationship between fuel consumption and roadnet quality"
      ]
    },
    {
      "cell_type": "code",
      "metadata": {
        "id": "yRUaMLNwgYDi",
        "colab_type": "code",
        "colab": {
          "base_uri": "https://localhost:8080/",
          "height": 296
        },
        "outputId": "b617c717-c969-4515-ff82-728192804fc6"
      },
      "source": [
        "# Barplot for Net vs Fuel\n",
        "sns.barplot(x='Net',y='Fuel',data=fuel)"
      ],
      "execution_count": null,
      "outputs": [
        {
          "output_type": "execute_result",
          "data": {
            "text/plain": [
              "<matplotlib.axes._subplots.AxesSubplot at 0x7f529a92de10>"
            ]
          },
          "metadata": {
            "tags": []
          },
          "execution_count": 34
        },
        {
          "output_type": "display_data",
          "data": {
            "image/png": "[encoded data removed]",
            "text/plain": [
              "<Figure size 432x288 with 1 Axes>"
            ]
          },
          "metadata": {
            "tags": [],
            "needs_background": "light"
          }
        }
      ]
    },
    {
      "cell_type": "markdown",
      "metadata": {
        "id": "BLhww6HYgYDm",
        "colab_type": "text"
      },
      "source": [
        "**We could see a decreasing trend so with increase in quality the fuel consumption gets reduced (ie) the more the good quality the less the fuel consumption**"
      ]
    },
    {
      "cell_type": "code",
      "metadata": {
        "id": "CIU7HLXNgYDn",
        "colab_type": "code",
        "colab": {
          "base_uri": "https://localhost:8080/",
          "height": 386
        },
        "outputId": "c6d9df6d-421f-46fc-f9f2-9c3f3e26d85d"
      },
      "source": [
        "# Linear Regression plot for Load Value vs Fuel\n",
        "sns.lmplot(x='LoadValue',y='Fuel',data=fuel)"
      ],
      "execution_count": null,
      "outputs": [
        {
          "output_type": "execute_result",
          "data": {
            "text/plain": [
              "<seaborn.axisgrid.FacetGrid at 0x7f529a8b3940>"
            ]
          },
          "metadata": {
            "tags": []
          },
          "execution_count": 35
        },
        {
          "output_type": "display_data",
          "data": {
            "image/png": "[encoded data removed]",
            "text/plain": [
              "<Figure size 360x360 with 1 Axes>"
            ]
          },
          "metadata": {
            "tags": [],
            "needs_background": "light"
          }
        }
      ]
    },
    {
      "cell_type": "markdown",
      "metadata": {
        "id": "03arOlXNgYDq",
        "colab_type": "text"
      },
      "source": [
        "**We could see that with increase in LoadValue the Fuel consumption decreases this may be due to the increased weight in the truck,as weight is very much more the speed of the truck decreases thereby fuel consumption also reduces**"
      ]
    },
    {
      "cell_type": "code",
      "metadata": {
        "id": "y5lk9BKNgYDq",
        "colab_type": "code",
        "colab": {
          "base_uri": "https://localhost:8080/",
          "height": 296
        },
        "outputId": "abce1dc3-0848-49af-9dcc-3cc43670145c"
      },
      "source": [
        "# Scatterplot for Payload vs Fuel\n",
        "sns.scatterplot(x='Payload',y='Fuel',data=fuel)"
      ],
      "execution_count": null,
      "outputs": [
        {
          "output_type": "execute_result",
          "data": {
            "text/plain": [
              "<matplotlib.axes._subplots.AxesSubplot at 0x7f529a781860>"
            ]
          },
          "metadata": {
            "tags": []
          },
          "execution_count": 36
        },
        {
          "output_type": "display_data",
          "data": {
            "image/png": "[encoded data removed]",
            "text/plain": [
              "<Figure size 432x288 with 1 Axes>"
            ]
          },
          "metadata": {
            "tags": [],
            "needs_background": "light"
          }
        }
      ]
    },
    {
      "cell_type": "markdown",
      "metadata": {
        "id": "AHYGEQJsgYDu",
        "colab_type": "text"
      },
      "source": [
        "**We could see that with increase in Payload the Fuel consumption also increases but stops at a point**"
      ]
    },
    {
      "cell_type": "markdown",
      "metadata": {
        "id": "kVgKijrRgYDv",
        "colab_type": "text"
      },
      "source": [
        "### 6. Label Encoding  <a id='le'>"
      ]
    },
    {
      "cell_type": "code",
      "metadata": {
        "id": "nD_DBwVCkakg",
        "colab_type": "code",
        "colab": {
          "base_uri": "https://localhost:8080/",
          "height": 252
        },
        "outputId": "17d503ed-3fac-45e7-c18c-031223ee7b70"
      },
      "source": [
        "fuel.info()"
      ],
      "execution_count": null,
      "outputs": [
        {
          "output_type": "stream",
          "text": [
            "<class 'pandas.core.frame.DataFrame'>\n",
            "RangeIndex: 4493 entries, 0 to 4492\n",
            "Data columns (total 7 columns):\n",
            " #   Column            Non-Null Count  Dtype  \n",
            "---  ------            --------------  -----  \n",
            " 0   Payload           4493 non-null   float64\n",
            " 1   Reliability       4493 non-null   float64\n",
            " 2   Season            4493 non-null   int64  \n",
            " 3   Net               4493 non-null   int64  \n",
            " 4   Fuel              4493 non-null   float64\n",
            " 5   LoadValue         4493 non-null   float64\n",
            " 6   TransmissionType  4493 non-null   object \n",
            "dtypes: float64(4), int64(2), object(1)\n",
            "memory usage: 245.8+ KB\n"
          ],
          "name": "stdout"
        }
      ]
    },
    {
      "cell_type": "code",
      "metadata": {
        "id": "EVHyzkvvgYDv",
        "colab_type": "code",
        "colab": {}
      },
      "source": [
        "# Label encoding the Transmission Type\n",
        "fuel['TransmissionType'] = fuel['TransmissionType'].map({'manual':0,'automatic':1})"
      ],
      "execution_count": null,
      "outputs": []
    },
    {
      "cell_type": "markdown",
      "metadata": {
        "id": "BLGanmURgYDy",
        "colab_type": "text"
      },
      "source": [
        "### 7. Perform all the models including Boosting and analyze the metrics"
      ]
    },
    {
      "cell_type": "code",
      "metadata": {
        "id": "DdDgQhdzgYDz",
        "colab_type": "code",
        "colab": {}
      },
      "source": [
        "# Assigning x and y variables\n",
        "x = fuel.drop('Fuel',1)\n",
        "y = fuel['Fuel']"
      ],
      "execution_count": null,
      "outputs": []
    },
    {
      "cell_type": "code",
      "metadata": {
        "id": "n0K_lfkmgYD1",
        "colab_type": "code",
        "colab": {}
      },
      "source": [
        "# Importing train test split and splitting the dataset\n",
        "from sklearn.model_selection import train_test_split\n",
        "x_train,x_test,y_train,y_test = train_test_split(x,y,test_size=0.3,random_state=2)"
      ],
      "execution_count": null,
      "outputs": []
    },
    {
      "cell_type": "markdown",
      "metadata": {
        "id": "Mtk-1GtVgYD5",
        "colab_type": "text"
      },
      "source": [
        "### Linear Regression  <a id='lr'>"
      ]
    },
    {
      "cell_type": "code",
      "metadata": {
        "id": "MmMKa9t-gYD6",
        "colab_type": "code",
        "colab": {}
      },
      "source": [
        "# Importing Linear Regression and fitting the model\n",
        "from sklearn.linear_model import LinearRegression\n",
        "lr = LinearRegression()\n",
        "lr.fit(x_train,y_train)\n",
        "lr_pred = lr.predict(x_test)"
      ],
      "execution_count": null,
      "outputs": []
    },
    {
      "cell_type": "code",
      "metadata": {
        "id": "ldDu3fG2gYD9",
        "colab_type": "code",
        "colab": {}
      },
      "source": [
        "# Importing metrics and evaluating the model\n",
        "from sklearn import metrics"
      ],
      "execution_count": null,
      "outputs": []
    },
    {
      "cell_type": "code",
      "metadata": {
        "id": "eNq0beKSgYEC",
        "colab_type": "code",
        "colab": {
          "base_uri": "https://localhost:8080/",
          "height": 34
        },
        "outputId": "e818bbcb-33bf-46a4-90b3-9975586e4f61"
      },
      "source": [
        "# RMSE score \n",
        "lr_rmse = np.sqrt(metrics.mean_squared_error(lr_pred,y_test))\n",
        "lr_rmse"
      ],
      "execution_count": null,
      "outputs": [
        {
          "output_type": "execute_result",
          "data": {
            "text/plain": [
              "0.7409445173489099"
            ]
          },
          "metadata": {
            "tags": []
          },
          "execution_count": 67
        }
      ]
    },
    {
      "cell_type": "code",
      "metadata": {
        "id": "9h5HLSb6gYEF",
        "colab_type": "code",
        "colab": {
          "base_uri": "https://localhost:8080/",
          "height": 34
        },
        "outputId": "048fd58a-d471-4d33-dc46-b05851931bab"
      },
      "source": [
        "# R2 score\n",
        "lr_r2score = metrics.r2_score(lr_pred,y_test)\n",
        "lr_r2score"
      ],
      "execution_count": null,
      "outputs": [
        {
          "output_type": "execute_result",
          "data": {
            "text/plain": [
              "0.81014105128368"
            ]
          },
          "metadata": {
            "tags": []
          },
          "execution_count": 68
        }
      ]
    },
    {
      "cell_type": "code",
      "metadata": {
        "id": "xVRK5N8hgYEI",
        "colab_type": "code",
        "colab": {
          "base_uri": "https://localhost:8080/",
          "height": 34
        },
        "outputId": "f5a8de64-7e7f-4000-ba89-5534981dd3a0"
      },
      "source": [
        "# Train score\n",
        "lr_train = lr.score(x_train,y_train)\n",
        "lr_train"
      ],
      "execution_count": null,
      "outputs": [
        {
          "output_type": "execute_result",
          "data": {
            "text/plain": [
              "0.832447131734486"
            ]
          },
          "metadata": {
            "tags": []
          },
          "execution_count": 69
        }
      ]
    },
    {
      "cell_type": "code",
      "metadata": {
        "id": "euNKN-BngYEL",
        "colab_type": "code",
        "colab": {
          "base_uri": "https://localhost:8080/",
          "height": 34
        },
        "outputId": "06767b58-adf8-4fbf-de4d-1563226a91d3"
      },
      "source": [
        "# Test score\n",
        "lr_test = lr.score(x_test,y_test)\n",
        "lr_test"
      ],
      "execution_count": null,
      "outputs": [
        {
          "output_type": "execute_result",
          "data": {
            "text/plain": [
              "0.839161695155499"
            ]
          },
          "metadata": {
            "tags": []
          },
          "execution_count": 70
        }
      ]
    },
    {
      "cell_type": "markdown",
      "metadata": {
        "id": "e7Ja8S7UgYEO",
        "colab_type": "text"
      },
      "source": [
        "### Decision Tree  <a id='dt'>"
      ]
    },
    {
      "cell_type": "code",
      "metadata": {
        "id": "BWZQQI6jgYEP",
        "colab_type": "code",
        "colab": {}
      },
      "source": [
        "# Importing Decision Tree and performing decision tree\n",
        "from sklearn.tree import DecisionTreeRegressor\n",
        "dt = DecisionTreeRegressor()\n",
        "dt.fit(x_train,y_train)\n",
        "dt_pred = dt.predict(x_test)"
      ],
      "execution_count": null,
      "outputs": []
    },
    {
      "cell_type": "code",
      "metadata": {
        "id": "0Lb89YPhgYES",
        "colab_type": "code",
        "colab": {
          "base_uri": "https://localhost:8080/",
          "height": 34
        },
        "outputId": "23ff57c4-7e6d-4b15-cc19-a5abb035dcfb"
      },
      "source": [
        "# RMSE score for Decision Tree\n",
        "dt_rmse = np.sqrt(metrics.mean_squared_error(dt_pred,y_test))\n",
        "dt_rmse"
      ],
      "execution_count": null,
      "outputs": [
        {
          "output_type": "execute_result",
          "data": {
            "text/plain": [
              "1.0398227073250375"
            ]
          },
          "metadata": {
            "tags": []
          },
          "execution_count": 72
        }
      ]
    },
    {
      "cell_type": "code",
      "metadata": {
        "id": "ys1XQkb7gYEY",
        "colab_type": "code",
        "colab": {
          "base_uri": "https://localhost:8080/",
          "height": 34
        },
        "outputId": "604d3c91-d574-4b8f-fd54-fd3dfcb8c76b"
      },
      "source": [
        "# R2 score for Decision Tree\n",
        "dt_r2score = metrics.r2_score(dt_pred,y_test)\n",
        "dt_r2score"
      ],
      "execution_count": null,
      "outputs": [
        {
          "output_type": "execute_result",
          "data": {
            "text/plain": [
              "0.7052133308396961"
            ]
          },
          "metadata": {
            "tags": []
          },
          "execution_count": 73
        }
      ]
    },
    {
      "cell_type": "code",
      "metadata": {
        "id": "kscEbuD1gYEb",
        "colab_type": "code",
        "colab": {
          "base_uri": "https://localhost:8080/",
          "height": 34
        },
        "outputId": "362d55f5-9a72-484f-ad57-e2c8c3ac3ddf"
      },
      "source": [
        "# Train score for Decision Tree\n",
        "dt_train = dt.score(x_train,y_train)\n",
        "dt_train"
      ],
      "execution_count": null,
      "outputs": [
        {
          "output_type": "execute_result",
          "data": {
            "text/plain": [
              "0.9999999999815217"
            ]
          },
          "metadata": {
            "tags": []
          },
          "execution_count": 74
        }
      ]
    },
    {
      "cell_type": "code",
      "metadata": {
        "id": "_9YlJRn2gYEg",
        "colab_type": "code",
        "colab": {
          "base_uri": "https://localhost:8080/",
          "height": 34
        },
        "outputId": "ed00e528-68a0-4508-ddd0-760edbc54676"
      },
      "source": [
        "# Test score for Decision Tree\n",
        "dt_test = dt.score(x_test,y_test)\n",
        "dt_test"
      ],
      "execution_count": null,
      "outputs": [
        {
          "output_type": "execute_result",
          "data": {
            "text/plain": [
              "0.6832353541245365"
            ]
          },
          "metadata": {
            "tags": []
          },
          "execution_count": 75
        }
      ]
    },
    {
      "cell_type": "markdown",
      "metadata": {
        "id": "hp7aT99jgYEk",
        "colab_type": "text"
      },
      "source": [
        "**Parameter Tuning**"
      ]
    },
    {
      "cell_type": "code",
      "metadata": {
        "id": "s1mLq0z1gYEk",
        "colab_type": "code",
        "colab": {
          "base_uri": "https://localhost:8080/",
          "height": 353
        },
        "outputId": "5b99d4d8-21d5-476f-c62a-5102eefdb96f"
      },
      "source": [
        "# Importing Randomizedsearchcv and finding out optimal parameters for Decision Tree\n",
        "from sklearn.model_selection import RandomizedSearchCV\n",
        "params = {'max_depth': np.arange(1,20),'criterion':['mse','mae']}\n",
        "dt = DecisionTreeRegressor()\n",
        "tree = RandomizedSearchCV(dt, params, cv=3 , return_train_score = True) # RandomizedSearchCV\n",
        "tree.fit(x,y)# Fit"
      ],
      "execution_count": null,
      "outputs": [
        {
          "output_type": "execute_result",
          "data": {
            "text/plain": [
              "RandomizedSearchCV(cv=3, error_score=nan,\n",
              "                   estimator=DecisionTreeRegressor(ccp_alpha=0.0,\n",
              "                                                   criterion='mse',\n",
              "                                                   max_depth=None,\n",
              "                                                   max_features=None,\n",
              "                                                   max_leaf_nodes=None,\n",
              "                                                   min_impurity_decrease=0.0,\n",
              "                                                   min_impurity_split=None,\n",
              "                                                   min_samples_leaf=1,\n",
              "                                                   min_samples_split=2,\n",
              "                                                   min_weight_fraction_leaf=0.0,\n",
              "                                                   presort='deprecated',\n",
              "                                                   random_state=None,\n",
              "                                                   splitter='best'),\n",
              "                   iid='deprecated', n_iter=10, n_jobs=None,\n",
              "                   param_distributions={'criterion': ['mse', 'mae'],\n",
              "                                        'max_depth': array([ 1,  2,  3,  4,  5,  6,  7,  8,  9, 10, 11, 12, 13, 14, 15, 16, 17,\n",
              "       18, 19])},\n",
              "                   pre_dispatch='2*n_jobs', random_state=None, refit=True,\n",
              "                   return_train_score=True, scoring=None, verbose=0)"
            ]
          },
          "metadata": {
            "tags": []
          },
          "execution_count": 76
        }
      ]
    },
    {
      "cell_type": "code",
      "metadata": {
        "id": "8RfSdNJZgYEn",
        "colab_type": "code",
        "colab": {
          "base_uri": "https://localhost:8080/",
          "height": 34
        },
        "outputId": "0d4888d7-55ed-40a7-abe3-e975e1454a53"
      },
      "source": [
        "# optimal parameters\n",
        "tree.best_params_"
      ],
      "execution_count": null,
      "outputs": [
        {
          "output_type": "execute_result",
          "data": {
            "text/plain": [
              "{'criterion': 'mse', 'max_depth': 5}"
            ]
          },
          "metadata": {
            "tags": []
          },
          "execution_count": 77
        }
      ]
    },
    {
      "cell_type": "code",
      "metadata": {
        "id": "k2V1mpx0gYEp",
        "colab_type": "code",
        "colab": {}
      },
      "source": [
        "# Fitting the model and training and testing after parameter tuning\n",
        "dtr = DecisionTreeRegressor(criterion='mse',max_depth=5)\n",
        "dtr.fit(x_train,y_train)\n",
        "dtr_pred = dtr.predict(x_test)"
      ],
      "execution_count": null,
      "outputs": []
    },
    {
      "cell_type": "code",
      "metadata": {
        "id": "jKkerWcfgYEt",
        "colab_type": "code",
        "colab": {
          "base_uri": "https://localhost:8080/",
          "height": 34
        },
        "outputId": "5e4b2b4e-1435-4ac8-a7b3-8a6a9e30e64c"
      },
      "source": [
        "# RMSE score for DT after parameter tuning\n",
        "dt_tune_rmse = np.sqrt(metrics.mean_squared_error(dtr_pred,y_test))\n",
        "dt_tune_rmse"
      ],
      "execution_count": null,
      "outputs": [
        {
          "output_type": "execute_result",
          "data": {
            "text/plain": [
              "0.7461256556514206"
            ]
          },
          "metadata": {
            "tags": []
          },
          "execution_count": 85
        }
      ]
    },
    {
      "cell_type": "code",
      "metadata": {
        "id": "9qvvUei7gYEx",
        "colab_type": "code",
        "colab": {
          "base_uri": "https://localhost:8080/",
          "height": 34
        },
        "outputId": "81545460-1a54-482d-fb42-2782fe6c0754"
      },
      "source": [
        "# R2 score for DT after parameter tuning\n",
        "dt_tune_r2score = metrics.r2_score(dtr_pred,y_test)\n",
        "dt_tune_r2score"
      ],
      "execution_count": null,
      "outputs": [
        {
          "output_type": "execute_result",
          "data": {
            "text/plain": [
              "0.8102404873308289"
            ]
          },
          "metadata": {
            "tags": []
          },
          "execution_count": 86
        }
      ]
    },
    {
      "cell_type": "code",
      "metadata": {
        "id": "dlPw4xAtgYE1",
        "colab_type": "code",
        "colab": {
          "base_uri": "https://localhost:8080/",
          "height": 34
        },
        "outputId": "4946e4c7-65fd-48da-ab2c-a78ecd33ba4a"
      },
      "source": [
        "# Train score for DT after parameter tuning\n",
        "dt_tune_train = dtr.score(x_train,y_train)\n",
        "dt_tune_train"
      ],
      "execution_count": null,
      "outputs": [
        {
          "output_type": "execute_result",
          "data": {
            "text/plain": [
              "0.8418850811468499"
            ]
          },
          "metadata": {
            "tags": []
          },
          "execution_count": 87
        }
      ]
    },
    {
      "cell_type": "code",
      "metadata": {
        "id": "eF-Bj4uwgYE7",
        "colab_type": "code",
        "colab": {
          "base_uri": "https://localhost:8080/",
          "height": 34
        },
        "outputId": "1499cc67-2b1c-4441-bba0-cecbbd2d2157"
      },
      "source": [
        "# Test score for DT after parameter tuning\n",
        "dt_tune_test = dtr.score(x_test,y_test)\n",
        "dt_tune_test"
      ],
      "execution_count": null,
      "outputs": [
        {
          "output_type": "execute_result",
          "data": {
            "text/plain": [
              "0.8369044706439455"
            ]
          },
          "metadata": {
            "tags": []
          },
          "execution_count": 88
        }
      ]
    },
    {
      "cell_type": "markdown",
      "metadata": {
        "id": "UYALWxtLgYFG",
        "colab_type": "text"
      },
      "source": [
        "### Random Forest  <a id='rf'>"
      ]
    },
    {
      "cell_type": "code",
      "metadata": {
        "id": "-I5TQGAbgYFH",
        "colab_type": "code",
        "colab": {}
      },
      "source": [
        "# Importing Random Forest Regressor and fitting the model\n",
        "from sklearn.ensemble import RandomForestRegressor\n",
        "rf = RandomForestRegressor()\n",
        "rf.fit(x_train,y_train)\n",
        "rf_pred = rf.predict(x_test)"
      ],
      "execution_count": null,
      "outputs": []
    },
    {
      "cell_type": "code",
      "metadata": {
        "id": "y-YpuOzogYFT",
        "colab_type": "code",
        "colab": {
          "base_uri": "https://localhost:8080/",
          "height": 34
        },
        "outputId": "ae85799a-1a93-48e3-f2f2-207010a8ce12"
      },
      "source": [
        "# RMSE score for Random Forest\n",
        "rf_rmse = np.sqrt(metrics.mean_squared_error(rf_pred,y_test))\n",
        "rf_rmse"
      ],
      "execution_count": null,
      "outputs": [
        {
          "output_type": "execute_result",
          "data": {
            "text/plain": [
              "0.7746671189719746"
            ]
          },
          "metadata": {
            "tags": []
          },
          "execution_count": 90
        }
      ]
    },
    {
      "cell_type": "code",
      "metadata": {
        "id": "G43n6echgYFX",
        "colab_type": "code",
        "colab": {
          "base_uri": "https://localhost:8080/",
          "height": 34
        },
        "outputId": "7437b9ee-02f3-4e72-d9d8-b5f663c04a41"
      },
      "source": [
        "# R2 Score for Random Forest\n",
        "rf_r2score = metrics.r2_score(rf_pred,y_test)\n",
        "rf_r2score"
      ],
      "execution_count": null,
      "outputs": [
        {
          "output_type": "execute_result",
          "data": {
            "text/plain": [
              "0.8018836172136"
            ]
          },
          "metadata": {
            "tags": []
          },
          "execution_count": 91
        }
      ]
    },
    {
      "cell_type": "code",
      "metadata": {
        "id": "xpdbaThHgYFm",
        "colab_type": "code",
        "colab": {
          "base_uri": "https://localhost:8080/",
          "height": 34
        },
        "outputId": "83890270-e63b-4dd9-fdf7-fa097bffc902"
      },
      "source": [
        "# Train score for Random Forest\n",
        "rf_train = rf.score(x_train,y_train)\n",
        "rf_train"
      ],
      "execution_count": null,
      "outputs": [
        {
          "output_type": "execute_result",
          "data": {
            "text/plain": [
              "0.9733768987944913"
            ]
          },
          "metadata": {
            "tags": []
          },
          "execution_count": 92
        }
      ]
    },
    {
      "cell_type": "code",
      "metadata": {
        "id": "fabbWwnXgYFq",
        "colab_type": "code",
        "colab": {
          "base_uri": "https://localhost:8080/",
          "height": 34
        },
        "outputId": "a49064ed-d16b-47bd-f6dc-8279f743bccd"
      },
      "source": [
        "# Test score for Random Forest\n",
        "rf_test = rf.score(x_test,y_test)\n",
        "rf_test"
      ],
      "execution_count": null,
      "outputs": [
        {
          "output_type": "execute_result",
          "data": {
            "text/plain": [
              "0.8241880646311694"
            ]
          },
          "metadata": {
            "tags": []
          },
          "execution_count": 93
        }
      ]
    },
    {
      "cell_type": "markdown",
      "metadata": {
        "id": "PoTWE9UwgYFv",
        "colab_type": "text"
      },
      "source": [
        "**Parameter Tuning**"
      ]
    },
    {
      "cell_type": "code",
      "metadata": {
        "id": "H9kZhjZugYFy",
        "colab_type": "code",
        "colab": {
          "base_uri": "https://localhost:8080/",
          "height": 403
        },
        "outputId": "b34949cf-f360-47c7-a9f9-e0c5ea6b75c8"
      },
      "source": [
        "# Using Randomized SearchCV and finding optimal parameters\n",
        "rf = RandomForestRegressor()\n",
        "params1 = {'n_estimators': np.arange(1,20),'criterion':['mse','mae']}\n",
        "forest = RandomizedSearchCV(rf, params, cv=3 , return_train_score = True) # GridSearchCV\n",
        "forest.fit(x,y)# Fit"
      ],
      "execution_count": null,
      "outputs": [
        {
          "output_type": "execute_result",
          "data": {
            "text/plain": [
              "RandomizedSearchCV(cv=3, error_score=nan,\n",
              "                   estimator=RandomForestRegressor(bootstrap=True,\n",
              "                                                   ccp_alpha=0.0,\n",
              "                                                   criterion='mse',\n",
              "                                                   max_depth=None,\n",
              "                                                   max_features='auto',\n",
              "                                                   max_leaf_nodes=None,\n",
              "                                                   max_samples=None,\n",
              "                                                   min_impurity_decrease=0.0,\n",
              "                                                   min_impurity_split=None,\n",
              "                                                   min_samples_leaf=1,\n",
              "                                                   min_samples_split=2,\n",
              "                                                   min_weight_fraction_leaf=0.0,\n",
              "                                                   n_estimators=100,\n",
              "                                                   n_jobs=None, oob_score=False,\n",
              "                                                   random_state=None, verbose=0,\n",
              "                                                   warm_start=False),\n",
              "                   iid='deprecated', n_iter=10, n_jobs=None,\n",
              "                   param_distributions={'criterion': ['mse', 'mae'],\n",
              "                                        'max_depth': array([ 1,  2,  3,  4,  5,  6,  7,  8,  9, 10, 11, 12, 13, 14, 15, 16, 17,\n",
              "       18, 19])},\n",
              "                   pre_dispatch='2*n_jobs', random_state=None, refit=True,\n",
              "                   return_train_score=True, scoring=None, verbose=0)"
            ]
          },
          "metadata": {
            "tags": []
          },
          "execution_count": 94
        }
      ]
    },
    {
      "cell_type": "code",
      "metadata": {
        "id": "vYgbOtPygYF4",
        "colab_type": "code",
        "colab": {},
        "outputId": "69110993-8688-44a3-9a7a-7c96f4a1bfe8"
      },
      "source": [
        "# optimal parameters\n",
        "forest.best_params_"
      ],
      "execution_count": null,
      "outputs": [
        {
          "output_type": "execute_result",
          "data": {
            "text/plain": [
              "{'max_depth': 5, 'criterion': 'mse'}"
            ]
          },
          "metadata": {
            "tags": []
          },
          "execution_count": 30
        }
      ]
    },
    {
      "cell_type": "code",
      "metadata": {
        "id": "zFhbZdP2gYF-",
        "colab_type": "code",
        "colab": {}
      },
      "source": [
        "# Random Forest after parameter tuning\n",
        "rfr = RandomForestRegressor(criterion='mse',max_depth=5)\n",
        "rfr.fit(x_train,y_train)\n",
        "rfr_pred = rfr.predict(x_test)"
      ],
      "execution_count": null,
      "outputs": []
    },
    {
      "cell_type": "code",
      "metadata": {
        "id": "E0YQFBk2gYGI",
        "colab_type": "code",
        "colab": {
          "base_uri": "https://localhost:8080/",
          "height": 34
        },
        "outputId": "36b5f3b8-4ae3-469a-90e3-d1e0f9c28e79"
      },
      "source": [
        "# RMSE score  for Random Forest after parameter tuning\n",
        "rf_tune_rmse = np.sqrt(metrics.mean_squared_error(rfr_pred,y_test))\n",
        "rf_tune_rmse"
      ],
      "execution_count": null,
      "outputs": [
        {
          "output_type": "execute_result",
          "data": {
            "text/plain": [
              "0.7389024695203493"
            ]
          },
          "metadata": {
            "tags": []
          },
          "execution_count": 96
        }
      ]
    },
    {
      "cell_type": "code",
      "metadata": {
        "id": "Fy6MuQokgYGL",
        "colab_type": "code",
        "colab": {
          "base_uri": "https://localhost:8080/",
          "height": 34
        },
        "outputId": "9348476b-e300-4073-f3f7-8d0726757aee"
      },
      "source": [
        "# R2 score for Random Forest after parameter tuning\n",
        "rf_tune_r2score = metrics.r2_score(rfr_pred,y_test)\n",
        "rf_tune_r2score"
      ],
      "execution_count": null,
      "outputs": [
        {
          "output_type": "execute_result",
          "data": {
            "text/plain": [
              "0.8136944683217625"
            ]
          },
          "metadata": {
            "tags": []
          },
          "execution_count": 97
        }
      ]
    },
    {
      "cell_type": "code",
      "metadata": {
        "id": "64QKB1dsgYGP",
        "colab_type": "code",
        "colab": {
          "base_uri": "https://localhost:8080/",
          "height": 34
        },
        "outputId": "a23ac8ab-770b-4e7c-cfcc-1354aecb32f2"
      },
      "source": [
        "# Train score for Random Forest after parameter tuning\n",
        "rf_tune_train = rfr.score(x_train,y_train)\n",
        "rf_tune_train"
      ],
      "execution_count": null,
      "outputs": [
        {
          "output_type": "execute_result",
          "data": {
            "text/plain": [
              "0.8462659806899918"
            ]
          },
          "metadata": {
            "tags": []
          },
          "execution_count": 98
        }
      ]
    },
    {
      "cell_type": "code",
      "metadata": {
        "id": "cAAr0jIWgYGV",
        "colab_type": "code",
        "colab": {
          "base_uri": "https://localhost:8080/",
          "height": 34
        },
        "outputId": "9e12d304-d210-44fb-e698-51b6832675a2"
      },
      "source": [
        "# Test score for Random Forest after parameter tuning\n",
        "rf_tune_test = rfr.score(x_test,y_test)\n",
        "rf_tune_test"
      ],
      "execution_count": null,
      "outputs": [
        {
          "output_type": "execute_result",
          "data": {
            "text/plain": [
              "0.8400470162902959"
            ]
          },
          "metadata": {
            "tags": []
          },
          "execution_count": 99
        }
      ]
    },
    {
      "cell_type": "markdown",
      "metadata": {
        "id": "tXIXWEn0gYGZ",
        "colab_type": "text"
      },
      "source": [
        "###  Support Vector Machine <a id = 'svm'>"
      ]
    },
    {
      "cell_type": "code",
      "metadata": {
        "id": "IxgGv304gYGa",
        "colab_type": "code",
        "colab": {}
      },
      "source": [
        "# Importing Support Vector Regressor and fitting the model\n",
        "from sklearn.svm import SVR\n",
        "svm = SVR()\n",
        "svm.fit(x_train,y_train)\n",
        "svm_pred = svm.predict(x_test)"
      ],
      "execution_count": null,
      "outputs": []
    },
    {
      "cell_type": "code",
      "metadata": {
        "id": "4-XExtUZgYGd",
        "colab_type": "code",
        "colab": {
          "base_uri": "https://localhost:8080/",
          "height": 34
        },
        "outputId": "9d658ddd-e4aa-45b8-ede2-c870d5e847a9"
      },
      "source": [
        "# RMSE score for SVM\n",
        "svm_rmse = np.sqrt(metrics.mean_squared_error(svm_pred,y_test))\n",
        "svm_rmse"
      ],
      "execution_count": null,
      "outputs": [
        {
          "output_type": "execute_result",
          "data": {
            "text/plain": [
              "1.4438079275629983"
            ]
          },
          "metadata": {
            "tags": []
          },
          "execution_count": 101
        }
      ]
    },
    {
      "cell_type": "code",
      "metadata": {
        "id": "gP9FLpcigYGj",
        "colab_type": "code",
        "colab": {
          "base_uri": "https://localhost:8080/",
          "height": 34
        },
        "outputId": "7132357e-6ae5-4ca8-bfc8-4e640e16ace2"
      },
      "source": [
        "# R2 score for SVM\n",
        "svm_r2score = metrics.r2_score(svm_pred,y_test)\n",
        "svm_r2score"
      ],
      "execution_count": null,
      "outputs": [
        {
          "output_type": "execute_result",
          "data": {
            "text/plain": [
              "-0.7348353989027532"
            ]
          },
          "metadata": {
            "tags": []
          },
          "execution_count": 102
        }
      ]
    },
    {
      "cell_type": "code",
      "metadata": {
        "id": "ybHEZtBsgYGo",
        "colab_type": "code",
        "colab": {
          "base_uri": "https://localhost:8080/",
          "height": 34
        },
        "outputId": "716241df-0dfd-49b1-c8e9-66303278e30a"
      },
      "source": [
        "# Train score for SVM\n",
        "svm_train = svm.score(x_train,y_train)\n",
        "svm_train"
      ],
      "execution_count": null,
      "outputs": [
        {
          "output_type": "execute_result",
          "data": {
            "text/plain": [
              "0.4050798575032244"
            ]
          },
          "metadata": {
            "tags": []
          },
          "execution_count": 103
        }
      ]
    },
    {
      "cell_type": "code",
      "metadata": {
        "id": "eJ4zFRuXgYGu",
        "colab_type": "code",
        "colab": {
          "base_uri": "https://localhost:8080/",
          "height": 34
        },
        "outputId": "6c450c5b-46e4-454f-d408-1b5fa0b05e4b"
      },
      "source": [
        "# Test score for SVM\n",
        "svm_test = svm.score(x_test,y_test)\n",
        "svm_test"
      ],
      "execution_count": null,
      "outputs": [
        {
          "output_type": "execute_result",
          "data": {
            "text/plain": [
              "0.38928729668551754"
            ]
          },
          "metadata": {
            "tags": []
          },
          "execution_count": 104
        }
      ]
    },
    {
      "cell_type": "markdown",
      "metadata": {
        "id": "auJhUirOgYGx",
        "colab_type": "text"
      },
      "source": [
        "**Parameter Tuning**"
      ]
    },
    {
      "cell_type": "code",
      "metadata": {
        "id": "CSR9_1FogYGx",
        "colab_type": "code",
        "colab": {
          "base_uri": "https://localhost:8080/",
          "height": 337
        },
        "outputId": "eea17d32-3336-45aa-a5ff-82d7a93fd2d1"
      },
      "source": [
        "# Using Randomized Search cv to find the optimal parameters\n",
        "params2 = {'kernel':['linear','rbf'],'C': [0.01, 0.1, 1, 10],'gamma': [0.01,0.1,1,10]}\n",
        "svr = SVR()\n",
        "support = RandomizedSearchCV(svr, params2, cv=3 , return_train_score = True) # RandomizedSearchCV\n",
        "support.fit(x,y)# Fit"
      ],
      "execution_count": null,
      "outputs": [
        {
          "output_type": "error",
          "ename": "KeyboardInterrupt",
          "evalue": "ignored",
          "traceback": [
            "\u001b[0;31m---------------------------------------------------------------------------\u001b[0m",
            "\u001b[0;31mKeyboardInterrupt\u001b[0m                         Traceback (most recent call last)",
            "\u001b[0;32m<ipython-input-105-f05980403ddc>\u001b[0m in \u001b[0;36m<module>\u001b[0;34m()\u001b[0m\n\u001b[1;32m      3\u001b[0m \u001b[0msvr\u001b[0m \u001b[0;34m=\u001b[0m \u001b[0mSVR\u001b[0m\u001b[0;34m(\u001b[0m\u001b[0;34m)\u001b[0m\u001b[0;34m\u001b[0m\u001b[0;34m\u001b[0m\u001b[0m\n\u001b[1;32m      4\u001b[0m \u001b[0msupport\u001b[0m \u001b[0;34m=\u001b[0m \u001b[0mRandomizedSearchCV\u001b[0m\u001b[0;34m(\u001b[0m\u001b[0msvr\u001b[0m\u001b[0;34m,\u001b[0m \u001b[0mparams2\u001b[0m\u001b[0;34m,\u001b[0m \u001b[0mcv\u001b[0m\u001b[0;34m=\u001b[0m\u001b[0;36m3\u001b[0m \u001b[0;34m,\u001b[0m \u001b[0mreturn_train_score\u001b[0m \u001b[0;34m=\u001b[0m \u001b[0;32mTrue\u001b[0m\u001b[0;34m)\u001b[0m \u001b[0;31m# RandomizedSearchCV\u001b[0m\u001b[0;34m\u001b[0m\u001b[0;34m\u001b[0m\u001b[0m\n\u001b[0;32m----> 5\u001b[0;31m \u001b[0msupport\u001b[0m\u001b[0;34m.\u001b[0m\u001b[0mfit\u001b[0m\u001b[0;34m(\u001b[0m\u001b[0mx\u001b[0m\u001b[0;34m,\u001b[0m\u001b[0my\u001b[0m\u001b[0;34m)\u001b[0m\u001b[0;31m# Fit\u001b[0m\u001b[0;34m\u001b[0m\u001b[0;34m\u001b[0m\u001b[0m\n\u001b[0m",
            "\u001b[0;32m/usr/local/lib/python3.6/dist-packages/sklearn/model_selection/_search.py\u001b[0m in \u001b[0;36mfit\u001b[0;34m(self, X, y, groups, **fit_params)\u001b[0m\n\u001b[1;32m    708\u001b[0m                 \u001b[0;32mreturn\u001b[0m \u001b[0mresults\u001b[0m\u001b[0;34m\u001b[0m\u001b[0;34m\u001b[0m\u001b[0m\n\u001b[1;32m    709\u001b[0m \u001b[0;34m\u001b[0m\u001b[0m\n\u001b[0;32m--> 710\u001b[0;31m             \u001b[0mself\u001b[0m\u001b[0;34m.\u001b[0m\u001b[0m_run_search\u001b[0m\u001b[0;34m(\u001b[0m\u001b[0mevaluate_candidates\u001b[0m\u001b[0;34m)\u001b[0m\u001b[0;34m\u001b[0m\u001b[0;34m\u001b[0m\u001b[0m\n\u001b[0m\u001b[1;32m    711\u001b[0m \u001b[0;34m\u001b[0m\u001b[0m\n\u001b[1;32m    712\u001b[0m         \u001b[0;31m# For multi-metric evaluation, store the best_index_, best_params_ and\u001b[0m\u001b[0;34m\u001b[0m\u001b[0;34m\u001b[0m\u001b[0;34m\u001b[0m\u001b[0m\n",
            "\u001b[0;32m/usr/local/lib/python3.6/dist-packages/sklearn/model_selection/_search.py\u001b[0m in \u001b[0;36m_run_search\u001b[0;34m(self, evaluate_candidates)\u001b[0m\n\u001b[1;32m   1482\u001b[0m         evaluate_candidates(ParameterSampler(\n\u001b[1;32m   1483\u001b[0m             \u001b[0mself\u001b[0m\u001b[0;34m.\u001b[0m\u001b[0mparam_distributions\u001b[0m\u001b[0;34m,\u001b[0m \u001b[0mself\u001b[0m\u001b[0;34m.\u001b[0m\u001b[0mn_iter\u001b[0m\u001b[0;34m,\u001b[0m\u001b[0;34m\u001b[0m\u001b[0;34m\u001b[0m\u001b[0m\n\u001b[0;32m-> 1484\u001b[0;31m             random_state=self.random_state))\n\u001b[0m",
            "\u001b[0;32m/usr/local/lib/python3.6/dist-packages/sklearn/model_selection/_search.py\u001b[0m in \u001b[0;36mevaluate_candidates\u001b[0;34m(candidate_params)\u001b[0m\n\u001b[1;32m    687\u001b[0m                                \u001b[0;32mfor\u001b[0m \u001b[0mparameters\u001b[0m\u001b[0;34m,\u001b[0m \u001b[0;34m(\u001b[0m\u001b[0mtrain\u001b[0m\u001b[0;34m,\u001b[0m \u001b[0mtest\u001b[0m\u001b[0;34m)\u001b[0m\u001b[0;34m\u001b[0m\u001b[0;34m\u001b[0m\u001b[0m\n\u001b[1;32m    688\u001b[0m                                in product(candidate_params,\n\u001b[0;32m--> 689\u001b[0;31m                                           cv.split(X, y, groups)))\n\u001b[0m\u001b[1;32m    690\u001b[0m \u001b[0;34m\u001b[0m\u001b[0m\n\u001b[1;32m    691\u001b[0m                 \u001b[0;32mif\u001b[0m \u001b[0mlen\u001b[0m\u001b[0;34m(\u001b[0m\u001b[0mout\u001b[0m\u001b[0;34m)\u001b[0m \u001b[0;34m<\u001b[0m \u001b[0;36m1\u001b[0m\u001b[0;34m:\u001b[0m\u001b[0;34m\u001b[0m\u001b[0;34m\u001b[0m\u001b[0m\n",
            "\u001b[0;32m/usr/local/lib/python3.6/dist-packages/joblib/parallel.py\u001b[0m in \u001b[0;36m__call__\u001b[0;34m(self, iterable)\u001b[0m\n\u001b[1;32m   1030\u001b[0m                 \u001b[0mself\u001b[0m\u001b[0;34m.\u001b[0m\u001b[0m_iterating\u001b[0m \u001b[0;34m=\u001b[0m \u001b[0mself\u001b[0m\u001b[0;34m.\u001b[0m\u001b[0m_original_iterator\u001b[0m \u001b[0;32mis\u001b[0m \u001b[0;32mnot\u001b[0m \u001b[0;32mNone\u001b[0m\u001b[0;34m\u001b[0m\u001b[0;34m\u001b[0m\u001b[0m\n\u001b[1;32m   1031\u001b[0m \u001b[0;34m\u001b[0m\u001b[0m\n\u001b[0;32m-> 1032\u001b[0;31m             \u001b[0;32mwhile\u001b[0m \u001b[0mself\u001b[0m\u001b[0;34m.\u001b[0m\u001b[0mdispatch_one_batch\u001b[0m\u001b[0;34m(\u001b[0m\u001b[0miterator\u001b[0m\u001b[0;34m)\u001b[0m\u001b[0;34m:\u001b[0m\u001b[0;34m\u001b[0m\u001b[0;34m\u001b[0m\u001b[0m\n\u001b[0m\u001b[1;32m   1033\u001b[0m                 \u001b[0;32mpass\u001b[0m\u001b[0;34m\u001b[0m\u001b[0;34m\u001b[0m\u001b[0m\n\u001b[1;32m   1034\u001b[0m \u001b[0;34m\u001b[0m\u001b[0m\n",
            "\u001b[0;32m/usr/local/lib/python3.6/dist-packages/joblib/parallel.py\u001b[0m in \u001b[0;36mdispatch_one_batch\u001b[0;34m(self, iterator)\u001b[0m\n\u001b[1;32m    845\u001b[0m                 \u001b[0;32mreturn\u001b[0m \u001b[0;32mFalse\u001b[0m\u001b[0;34m\u001b[0m\u001b[0;34m\u001b[0m\u001b[0m\n\u001b[1;32m    846\u001b[0m             \u001b[0;32melse\u001b[0m\u001b[0;34m:\u001b[0m\u001b[0;34m\u001b[0m\u001b[0;34m\u001b[0m\u001b[0m\n\u001b[0;32m--> 847\u001b[0;31m                 \u001b[0mself\u001b[0m\u001b[0;34m.\u001b[0m\u001b[0m_dispatch\u001b[0m\u001b[0;34m(\u001b[0m\u001b[0mtasks\u001b[0m\u001b[0;34m)\u001b[0m\u001b[0;34m\u001b[0m\u001b[0;34m\u001b[0m\u001b[0m\n\u001b[0m\u001b[1;32m    848\u001b[0m                 \u001b[0;32mreturn\u001b[0m \u001b[0;32mTrue\u001b[0m\u001b[0;34m\u001b[0m\u001b[0;34m\u001b[0m\u001b[0m\n\u001b[1;32m    849\u001b[0m \u001b[0;34m\u001b[0m\u001b[0m\n",
            "\u001b[0;32m/usr/local/lib/python3.6/dist-packages/joblib/parallel.py\u001b[0m in \u001b[0;36m_dispatch\u001b[0;34m(self, batch)\u001b[0m\n\u001b[1;32m    763\u001b[0m         \u001b[0;32mwith\u001b[0m \u001b[0mself\u001b[0m\u001b[0;34m.\u001b[0m\u001b[0m_lock\u001b[0m\u001b[0;34m:\u001b[0m\u001b[0;34m\u001b[0m\u001b[0;34m\u001b[0m\u001b[0m\n\u001b[1;32m    764\u001b[0m             \u001b[0mjob_idx\u001b[0m \u001b[0;34m=\u001b[0m \u001b[0mlen\u001b[0m\u001b[0;34m(\u001b[0m\u001b[0mself\u001b[0m\u001b[0;34m.\u001b[0m\u001b[0m_jobs\u001b[0m\u001b[0;34m)\u001b[0m\u001b[0;34m\u001b[0m\u001b[0;34m\u001b[0m\u001b[0m\n\u001b[0;32m--> 765\u001b[0;31m             \u001b[0mjob\u001b[0m \u001b[0;34m=\u001b[0m \u001b[0mself\u001b[0m\u001b[0;34m.\u001b[0m\u001b[0m_backend\u001b[0m\u001b[0;34m.\u001b[0m\u001b[0mapply_async\u001b[0m\u001b[0;34m(\u001b[0m\u001b[0mbatch\u001b[0m\u001b[0;34m,\u001b[0m \u001b[0mcallback\u001b[0m\u001b[0;34m=\u001b[0m\u001b[0mcb\u001b[0m\u001b[0;34m)\u001b[0m\u001b[0;34m\u001b[0m\u001b[0;34m\u001b[0m\u001b[0m\n\u001b[0m\u001b[1;32m    766\u001b[0m             \u001b[0;31m# A job can complete so quickly than its callback is\u001b[0m\u001b[0;34m\u001b[0m\u001b[0;34m\u001b[0m\u001b[0;34m\u001b[0m\u001b[0m\n\u001b[1;32m    767\u001b[0m             \u001b[0;31m# called before we get here, causing self._jobs to\u001b[0m\u001b[0;34m\u001b[0m\u001b[0;34m\u001b[0m\u001b[0;34m\u001b[0m\u001b[0m\n",
            "\u001b[0;32m/usr/local/lib/python3.6/dist-packages/joblib/_parallel_backends.py\u001b[0m in \u001b[0;36mapply_async\u001b[0;34m(self, func, callback)\u001b[0m\n\u001b[1;32m    206\u001b[0m     \u001b[0;32mdef\u001b[0m \u001b[0mapply_async\u001b[0m\u001b[0;34m(\u001b[0m\u001b[0mself\u001b[0m\u001b[0;34m,\u001b[0m \u001b[0mfunc\u001b[0m\u001b[0;34m,\u001b[0m \u001b[0mcallback\u001b[0m\u001b[0;34m=\u001b[0m\u001b[0;32mNone\u001b[0m\u001b[0;34m)\u001b[0m\u001b[0;34m:\u001b[0m\u001b[0;34m\u001b[0m\u001b[0;34m\u001b[0m\u001b[0m\n\u001b[1;32m    207\u001b[0m         \u001b[0;34m\"\"\"Schedule a func to be run\"\"\"\u001b[0m\u001b[0;34m\u001b[0m\u001b[0;34m\u001b[0m\u001b[0m\n\u001b[0;32m--> 208\u001b[0;31m         \u001b[0mresult\u001b[0m \u001b[0;34m=\u001b[0m \u001b[0mImmediateResult\u001b[0m\u001b[0;34m(\u001b[0m\u001b[0mfunc\u001b[0m\u001b[0;34m)\u001b[0m\u001b[0;34m\u001b[0m\u001b[0;34m\u001b[0m\u001b[0m\n\u001b[0m\u001b[1;32m    209\u001b[0m         \u001b[0;32mif\u001b[0m \u001b[0mcallback\u001b[0m\u001b[0;34m:\u001b[0m\u001b[0;34m\u001b[0m\u001b[0;34m\u001b[0m\u001b[0m\n\u001b[1;32m    210\u001b[0m             \u001b[0mcallback\u001b[0m\u001b[0;34m(\u001b[0m\u001b[0mresult\u001b[0m\u001b[0;34m)\u001b[0m\u001b[0;34m\u001b[0m\u001b[0;34m\u001b[0m\u001b[0m\n",
            "\u001b[0;32m/usr/local/lib/python3.6/dist-packages/joblib/_parallel_backends.py\u001b[0m in \u001b[0;36m__init__\u001b[0;34m(self, batch)\u001b[0m\n\u001b[1;32m    570\u001b[0m         \u001b[0;31m# Don't delay the application, to avoid keeping the input\u001b[0m\u001b[0;34m\u001b[0m\u001b[0;34m\u001b[0m\u001b[0;34m\u001b[0m\u001b[0m\n\u001b[1;32m    571\u001b[0m         \u001b[0;31m# arguments in memory\u001b[0m\u001b[0;34m\u001b[0m\u001b[0;34m\u001b[0m\u001b[0;34m\u001b[0m\u001b[0m\n\u001b[0;32m--> 572\u001b[0;31m         \u001b[0mself\u001b[0m\u001b[0;34m.\u001b[0m\u001b[0mresults\u001b[0m \u001b[0;34m=\u001b[0m \u001b[0mbatch\u001b[0m\u001b[0;34m(\u001b[0m\u001b[0;34m)\u001b[0m\u001b[0;34m\u001b[0m\u001b[0;34m\u001b[0m\u001b[0m\n\u001b[0m\u001b[1;32m    573\u001b[0m \u001b[0;34m\u001b[0m\u001b[0m\n\u001b[1;32m    574\u001b[0m     \u001b[0;32mdef\u001b[0m \u001b[0mget\u001b[0m\u001b[0;34m(\u001b[0m\u001b[0mself\u001b[0m\u001b[0;34m)\u001b[0m\u001b[0;34m:\u001b[0m\u001b[0;34m\u001b[0m\u001b[0;34m\u001b[0m\u001b[0m\n",
            "\u001b[0;32m/usr/local/lib/python3.6/dist-packages/joblib/parallel.py\u001b[0m in \u001b[0;36m__call__\u001b[0;34m(self)\u001b[0m\n\u001b[1;32m    251\u001b[0m         \u001b[0;32mwith\u001b[0m \u001b[0mparallel_backend\u001b[0m\u001b[0;34m(\u001b[0m\u001b[0mself\u001b[0m\u001b[0;34m.\u001b[0m\u001b[0m_backend\u001b[0m\u001b[0;34m,\u001b[0m \u001b[0mn_jobs\u001b[0m\u001b[0;34m=\u001b[0m\u001b[0mself\u001b[0m\u001b[0;34m.\u001b[0m\u001b[0m_n_jobs\u001b[0m\u001b[0;34m)\u001b[0m\u001b[0;34m:\u001b[0m\u001b[0;34m\u001b[0m\u001b[0;34m\u001b[0m\u001b[0m\n\u001b[1;32m    252\u001b[0m             return [func(*args, **kwargs)\n\u001b[0;32m--> 253\u001b[0;31m                     for func, args, kwargs in self.items]\n\u001b[0m\u001b[1;32m    254\u001b[0m \u001b[0;34m\u001b[0m\u001b[0m\n\u001b[1;32m    255\u001b[0m     \u001b[0;32mdef\u001b[0m \u001b[0m__reduce__\u001b[0m\u001b[0;34m(\u001b[0m\u001b[0mself\u001b[0m\u001b[0;34m)\u001b[0m\u001b[0;34m:\u001b[0m\u001b[0;34m\u001b[0m\u001b[0;34m\u001b[0m\u001b[0m\n",
            "\u001b[0;32m/usr/local/lib/python3.6/dist-packages/joblib/parallel.py\u001b[0m in \u001b[0;36m<listcomp>\u001b[0;34m(.0)\u001b[0m\n\u001b[1;32m    251\u001b[0m         \u001b[0;32mwith\u001b[0m \u001b[0mparallel_backend\u001b[0m\u001b[0;34m(\u001b[0m\u001b[0mself\u001b[0m\u001b[0;34m.\u001b[0m\u001b[0m_backend\u001b[0m\u001b[0;34m,\u001b[0m \u001b[0mn_jobs\u001b[0m\u001b[0;34m=\u001b[0m\u001b[0mself\u001b[0m\u001b[0;34m.\u001b[0m\u001b[0m_n_jobs\u001b[0m\u001b[0;34m)\u001b[0m\u001b[0;34m:\u001b[0m\u001b[0;34m\u001b[0m\u001b[0;34m\u001b[0m\u001b[0m\n\u001b[1;32m    252\u001b[0m             return [func(*args, **kwargs)\n\u001b[0;32m--> 253\u001b[0;31m                     for func, args, kwargs in self.items]\n\u001b[0m\u001b[1;32m    254\u001b[0m \u001b[0;34m\u001b[0m\u001b[0m\n\u001b[1;32m    255\u001b[0m     \u001b[0;32mdef\u001b[0m \u001b[0m__reduce__\u001b[0m\u001b[0;34m(\u001b[0m\u001b[0mself\u001b[0m\u001b[0;34m)\u001b[0m\u001b[0;34m:\u001b[0m\u001b[0;34m\u001b[0m\u001b[0;34m\u001b[0m\u001b[0m\n",
            "\u001b[0;32m/usr/local/lib/python3.6/dist-packages/sklearn/model_selection/_validation.py\u001b[0m in \u001b[0;36m_fit_and_score\u001b[0;34m(estimator, X, y, scorer, train, test, verbose, parameters, fit_params, return_train_score, return_parameters, return_n_test_samples, return_times, return_estimator, error_score)\u001b[0m\n\u001b[1;32m    513\u001b[0m             \u001b[0mestimator\u001b[0m\u001b[0;34m.\u001b[0m\u001b[0mfit\u001b[0m\u001b[0;34m(\u001b[0m\u001b[0mX_train\u001b[0m\u001b[0;34m,\u001b[0m \u001b[0;34m**\u001b[0m\u001b[0mfit_params\u001b[0m\u001b[0;34m)\u001b[0m\u001b[0;34m\u001b[0m\u001b[0;34m\u001b[0m\u001b[0m\n\u001b[1;32m    514\u001b[0m         \u001b[0;32melse\u001b[0m\u001b[0;34m:\u001b[0m\u001b[0;34m\u001b[0m\u001b[0;34m\u001b[0m\u001b[0m\n\u001b[0;32m--> 515\u001b[0;31m             \u001b[0mestimator\u001b[0m\u001b[0;34m.\u001b[0m\u001b[0mfit\u001b[0m\u001b[0;34m(\u001b[0m\u001b[0mX_train\u001b[0m\u001b[0;34m,\u001b[0m \u001b[0my_train\u001b[0m\u001b[0;34m,\u001b[0m \u001b[0;34m**\u001b[0m\u001b[0mfit_params\u001b[0m\u001b[0;34m)\u001b[0m\u001b[0;34m\u001b[0m\u001b[0;34m\u001b[0m\u001b[0m\n\u001b[0m\u001b[1;32m    516\u001b[0m \u001b[0;34m\u001b[0m\u001b[0m\n\u001b[1;32m    517\u001b[0m     \u001b[0;32mexcept\u001b[0m \u001b[0mException\u001b[0m \u001b[0;32mas\u001b[0m \u001b[0me\u001b[0m\u001b[0;34m:\u001b[0m\u001b[0;34m\u001b[0m\u001b[0;34m\u001b[0m\u001b[0m\n",
            "\u001b[0;32m/usr/local/lib/python3.6/dist-packages/sklearn/svm/_base.py\u001b[0m in \u001b[0;36mfit\u001b[0;34m(self, X, y, sample_weight)\u001b[0m\n\u001b[1;32m    197\u001b[0m \u001b[0;34m\u001b[0m\u001b[0m\n\u001b[1;32m    198\u001b[0m         \u001b[0mseed\u001b[0m \u001b[0;34m=\u001b[0m \u001b[0mrnd\u001b[0m\u001b[0;34m.\u001b[0m\u001b[0mrandint\u001b[0m\u001b[0;34m(\u001b[0m\u001b[0mnp\u001b[0m\u001b[0;34m.\u001b[0m\u001b[0miinfo\u001b[0m\u001b[0;34m(\u001b[0m\u001b[0;34m'i'\u001b[0m\u001b[0;34m)\u001b[0m\u001b[0;34m.\u001b[0m\u001b[0mmax\u001b[0m\u001b[0;34m)\u001b[0m\u001b[0;34m\u001b[0m\u001b[0;34m\u001b[0m\u001b[0m\n\u001b[0;32m--> 199\u001b[0;31m         \u001b[0mfit\u001b[0m\u001b[0;34m(\u001b[0m\u001b[0mX\u001b[0m\u001b[0;34m,\u001b[0m \u001b[0my\u001b[0m\u001b[0;34m,\u001b[0m \u001b[0msample_weight\u001b[0m\u001b[0;34m,\u001b[0m \u001b[0msolver_type\u001b[0m\u001b[0;34m,\u001b[0m \u001b[0mkernel\u001b[0m\u001b[0;34m,\u001b[0m \u001b[0mrandom_seed\u001b[0m\u001b[0;34m=\u001b[0m\u001b[0mseed\u001b[0m\u001b[0;34m)\u001b[0m\u001b[0;34m\u001b[0m\u001b[0;34m\u001b[0m\u001b[0m\n\u001b[0m\u001b[1;32m    200\u001b[0m         \u001b[0;31m# see comment on the other call to np.iinfo in this file\u001b[0m\u001b[0;34m\u001b[0m\u001b[0;34m\u001b[0m\u001b[0;34m\u001b[0m\u001b[0m\n\u001b[1;32m    201\u001b[0m \u001b[0;34m\u001b[0m\u001b[0m\n",
            "\u001b[0;32m/usr/local/lib/python3.6/dist-packages/sklearn/svm/_base.py\u001b[0m in \u001b[0;36m_dense_fit\u001b[0;34m(self, X, y, sample_weight, solver_type, kernel, random_seed)\u001b[0m\n\u001b[1;32m    256\u001b[0m                 \u001b[0mcache_size\u001b[0m\u001b[0;34m=\u001b[0m\u001b[0mself\u001b[0m\u001b[0;34m.\u001b[0m\u001b[0mcache_size\u001b[0m\u001b[0;34m,\u001b[0m \u001b[0mcoef0\u001b[0m\u001b[0;34m=\u001b[0m\u001b[0mself\u001b[0m\u001b[0;34m.\u001b[0m\u001b[0mcoef0\u001b[0m\u001b[0;34m,\u001b[0m\u001b[0;34m\u001b[0m\u001b[0;34m\u001b[0m\u001b[0m\n\u001b[1;32m    257\u001b[0m                 \u001b[0mgamma\u001b[0m\u001b[0;34m=\u001b[0m\u001b[0mself\u001b[0m\u001b[0;34m.\u001b[0m\u001b[0m_gamma\u001b[0m\u001b[0;34m,\u001b[0m \u001b[0mepsilon\u001b[0m\u001b[0;34m=\u001b[0m\u001b[0mself\u001b[0m\u001b[0;34m.\u001b[0m\u001b[0mepsilon\u001b[0m\u001b[0;34m,\u001b[0m\u001b[0;34m\u001b[0m\u001b[0;34m\u001b[0m\u001b[0m\n\u001b[0;32m--> 258\u001b[0;31m                 max_iter=self.max_iter, random_seed=random_seed)\n\u001b[0m\u001b[1;32m    259\u001b[0m \u001b[0;34m\u001b[0m\u001b[0m\n\u001b[1;32m    260\u001b[0m         \u001b[0mself\u001b[0m\u001b[0;34m.\u001b[0m\u001b[0m_warn_from_fit_status\u001b[0m\u001b[0;34m(\u001b[0m\u001b[0;34m)\u001b[0m\u001b[0;34m\u001b[0m\u001b[0;34m\u001b[0m\u001b[0m\n",
            "\u001b[0;31mKeyboardInterrupt\u001b[0m: "
          ]
        }
      ]
    },
    {
      "cell_type": "code",
      "metadata": {
        "id": "dRQNxAgFgYG2",
        "colab_type": "code",
        "colab": {}
      },
      "source": [
        "# optimal parameters\n",
        "support.best_params_"
      ],
      "execution_count": null,
      "outputs": []
    },
    {
      "cell_type": "code",
      "metadata": {
        "id": "sJuEUvDlgYG5",
        "colab_type": "code",
        "colab": {}
      },
      "source": [
        "# Fitting the model and training and testing\n",
        "svrr = SVR(C = 1,gamma = 0.01,kernel = 'linear')\n",
        "svrr.fit(x_train, y_train)\n",
        "svrr_pred = svrr.predict(x_test)"
      ],
      "execution_count": null,
      "outputs": []
    },
    {
      "cell_type": "code",
      "metadata": {
        "id": "R8MtsqsZgYG9",
        "colab_type": "code",
        "colab": {}
      },
      "source": [
        "# RMSE score for SVM after parameter tuning\n",
        "svm_tune_rmse = np.sqrt(metrics.mean_squared_error(svrr_pred,y_test))"
      ],
      "execution_count": null,
      "outputs": []
    },
    {
      "cell_type": "code",
      "metadata": {
        "id": "Gl_DNVWOgYHB",
        "colab_type": "code",
        "colab": {},
        "outputId": "f85e2765-7f9a-4065-bf8d-2e38678c9595"
      },
      "source": [
        "svm_tune_rmse"
      ],
      "execution_count": null,
      "outputs": [
        {
          "output_type": "execute_result",
          "data": {
            "text/plain": [
              "0.7566153671313828"
            ]
          },
          "metadata": {
            "tags": []
          },
          "execution_count": 38
        }
      ]
    },
    {
      "cell_type": "code",
      "metadata": {
        "id": "UXcyI78egYHH",
        "colab_type": "code",
        "colab": {},
        "outputId": "ac1d0143-5546-4511-9b10-d2a076469c71"
      },
      "source": [
        "# R2 score for SVM after parameter tuning\n",
        "svm_tune_r2score = metrics.r2_score(svrr_pred,y_test)\n",
        "svm_tune_r2score"
      ],
      "execution_count": null,
      "outputs": [
        {
          "output_type": "execute_result",
          "data": {
            "text/plain": [
              "0.7836985190815362"
            ]
          },
          "metadata": {
            "tags": []
          },
          "execution_count": 113
        }
      ]
    },
    {
      "cell_type": "code",
      "metadata": {
        "id": "8wbgVkKPgYHJ",
        "colab_type": "code",
        "colab": {},
        "outputId": "8fec0617-4e30-4710-9ae3-476d2a0ccb57"
      },
      "source": [
        "# Train score for SVM after parameter tuning\n",
        "svm_tune_train = svrr.score(x_train,y_train)\n",
        "svm_tune_train"
      ],
      "execution_count": null,
      "outputs": [
        {
          "output_type": "execute_result",
          "data": {
            "text/plain": [
              "0.8285310604865921"
            ]
          },
          "metadata": {
            "tags": []
          },
          "execution_count": 114
        }
      ]
    },
    {
      "cell_type": "code",
      "metadata": {
        "id": "t1xEnSs4gYHO",
        "colab_type": "code",
        "colab": {},
        "outputId": "3e91fa39-4d89-4b28-86b3-4d983e988b31"
      },
      "source": [
        "# Test score for SVM after parameter tuning\n",
        "svm_tune_test = svrr.score(x_test,y_test)\n",
        "svm_tune_test"
      ],
      "execution_count": null,
      "outputs": [
        {
          "output_type": "execute_result",
          "data": {
            "text/plain": [
              "0.8307628410602835"
            ]
          },
          "metadata": {
            "tags": []
          },
          "execution_count": 115
        }
      ]
    },
    {
      "cell_type": "markdown",
      "metadata": {
        "id": "wYmbzci-gYHQ",
        "colab_type": "text"
      },
      "source": [
        "###  KNearest Neighbors <a id = 'knn'>"
      ]
    },
    {
      "cell_type": "code",
      "metadata": {
        "id": "o01dinPmgYHQ",
        "colab_type": "code",
        "colab": {}
      },
      "source": [
        "# Importing KNearest Neighbors and fitting the model\n",
        "from sklearn.neighbors import KNeighborsRegressor\n",
        "knn = KNeighborsRegressor()\n",
        "knn.fit(x_train,y_train)\n",
        "knn_pred = knn.predict(x_test)"
      ],
      "execution_count": null,
      "outputs": []
    },
    {
      "cell_type": "code",
      "metadata": {
        "id": "H3vickI9gYHV",
        "colab_type": "code",
        "colab": {},
        "outputId": "48f9e4a7-1a47-4050-aae6-c9664893817f"
      },
      "source": [
        "# RMSE score for KNN\n",
        "knn_rmse = np.sqrt(metrics.mean_squared_error(knn_pred,y_test))\n",
        "knn_rmse"
      ],
      "execution_count": null,
      "outputs": [
        {
          "output_type": "execute_result",
          "data": {
            "text/plain": [
              "0.9165258122300527"
            ]
          },
          "metadata": {
            "tags": []
          },
          "execution_count": 40
        }
      ]
    },
    {
      "cell_type": "code",
      "metadata": {
        "id": "YNL3rWYtgYHY",
        "colab_type": "code",
        "colab": {},
        "outputId": "e93b8135-1085-4eef-f5ad-dfd0e7274daa"
      },
      "source": [
        "# R2 score for KNN\n",
        "knn_r2score = metrics.r2_score(knn_pred,y_test)\n",
        "knn_r2score"
      ],
      "execution_count": null,
      "outputs": [
        {
          "output_type": "execute_result",
          "data": {
            "text/plain": [
              "0.7181102544175033"
            ]
          },
          "metadata": {
            "tags": []
          },
          "execution_count": 41
        }
      ]
    },
    {
      "cell_type": "code",
      "metadata": {
        "id": "EZr5TewqgYHf",
        "colab_type": "code",
        "colab": {},
        "outputId": "0638b8b4-cc3d-4012-f297-33f0ad4e28c9"
      },
      "source": [
        "# Train score for KNN\n",
        "knn_train = knn.score(x_train,y_train)\n",
        "knn_train"
      ],
      "execution_count": null,
      "outputs": [
        {
          "output_type": "execute_result",
          "data": {
            "text/plain": [
              "0.8413113611216566"
            ]
          },
          "metadata": {
            "tags": []
          },
          "execution_count": 42
        }
      ]
    },
    {
      "cell_type": "code",
      "metadata": {
        "id": "vpo8CQTXgYHi",
        "colab_type": "code",
        "colab": {},
        "outputId": "df4b5367-4444-4eb8-8f5c-15b5e72986a2"
      },
      "source": [
        "# Test score for KNN\n",
        "knn_test = knn.score(x_test,y_test)\n",
        "knn_test"
      ],
      "execution_count": null,
      "outputs": [
        {
          "output_type": "execute_result",
          "data": {
            "text/plain": [
              "0.7516667846499204"
            ]
          },
          "metadata": {
            "tags": []
          },
          "execution_count": 43
        }
      ]
    },
    {
      "cell_type": "markdown",
      "metadata": {
        "id": "N5YaMUfogYHl",
        "colab_type": "text"
      },
      "source": [
        "**Parameter Tuning**"
      ]
    },
    {
      "cell_type": "code",
      "metadata": {
        "id": "hveKv0lXgYHo",
        "colab_type": "code",
        "colab": {},
        "outputId": "0cd2583f-903d-4272-ed68-94fd6b1a66b1"
      },
      "source": [
        "# Finding optimal parameters using Randomized Search CV\n",
        "params4 = {'leaf_size':np.arange(1,50),'n_neighbors':np.arange(1,30),'p':[1,2]}\n",
        "knn = KNeighborsRegressor()\n",
        "neighbor = RandomizedSearchCV(knn, params4, cv=3 , return_train_score = True) # RandomizedSearchCV\n",
        "neighbor.fit(x,y)"
      ],
      "execution_count": null,
      "outputs": [
        {
          "output_type": "execute_result",
          "data": {
            "text/plain": [
              "RandomizedSearchCV(cv=3, error_score='raise-deprecating',\n",
              "                   estimator=KNeighborsRegressor(algorithm='auto', leaf_size=30,\n",
              "                                                 metric='minkowski',\n",
              "                                                 metric_params=None,\n",
              "                                                 n_jobs=None, n_neighbors=5,\n",
              "                                                 p=2, weights='uniform'),\n",
              "                   iid='warn', n_iter=10, n_jobs=None,\n",
              "                   param_distributions={'leaf_size': array([ 1,  2,  3,  4,  5,  6,  7,  8,  9, 10, 11, 12, 13, 14, 15, 16, 17,\n",
              "       18, 19, 20, 21, 22, 23, 24, 25, 26, 27, 28, 29, 30, 31, 32, 33, 34,\n",
              "       35, 36, 37, 38, 39, 40, 41, 42, 43, 44, 45, 46, 47, 48, 49]),\n",
              "                                        'n_neighbors': array([ 1,  2,  3,  4,  5,  6,  7,  8,  9, 10, 11, 12, 13, 14, 15, 16, 17,\n",
              "       18, 19, 20, 21, 22, 23, 24, 25, 26, 27, 28, 29]),\n",
              "                                        'p': [1, 2]},\n",
              "                   pre_dispatch='2*n_jobs', random_state=None, refit=True,\n",
              "                   return_train_score=True, scoring=None, verbose=0)"
            ]
          },
          "metadata": {
            "tags": []
          },
          "execution_count": 52
        }
      ]
    },
    {
      "cell_type": "code",
      "metadata": {
        "id": "N0qP22NSgYHr",
        "colab_type": "code",
        "colab": {},
        "outputId": "840810e1-f19c-4805-a551-3130174a1314"
      },
      "source": [
        "# Optimal parameters\n",
        "neighbor.best_params_"
      ],
      "execution_count": null,
      "outputs": [
        {
          "output_type": "execute_result",
          "data": {
            "text/plain": [
              "{'p': 2, 'n_neighbors': 5, 'leaf_size': 27}"
            ]
          },
          "metadata": {
            "tags": []
          },
          "execution_count": 53
        }
      ]
    },
    {
      "cell_type": "code",
      "metadata": {
        "id": "_NKQh--qgYHv",
        "colab_type": "code",
        "colab": {}
      },
      "source": [
        "# Fitting the model and training and testing\n",
        "knn = KNeighborsRegressor(n_neighbors=5,p=2,leaf_size=27)\n",
        "knn.fit(x_train,y_train)\n",
        "knnr_pred = knn.predict(x_test)"
      ],
      "execution_count": null,
      "outputs": []
    },
    {
      "cell_type": "code",
      "metadata": {
        "id": "IGjCLaxDgYHy",
        "colab_type": "code",
        "colab": {},
        "outputId": "f60656b4-a887-4152-96a8-81cc4cbd0831"
      },
      "source": [
        "# RMSE score for KNN after parameter tuning\n",
        "knn_tune_rmse = np.sqrt(metrics.mean_squared_error(knnr_pred,y_test))\n",
        "knn_tune_rmse"
      ],
      "execution_count": null,
      "outputs": [
        {
          "output_type": "execute_result",
          "data": {
            "text/plain": [
              "0.9165258122300527"
            ]
          },
          "metadata": {
            "tags": []
          },
          "execution_count": 55
        }
      ]
    },
    {
      "cell_type": "code",
      "metadata": {
        "id": "Weu74G9XgYH1",
        "colab_type": "code",
        "colab": {},
        "outputId": "82975914-fc85-44e9-a774-6d384db4ca96"
      },
      "source": [
        "# R2 score for KNN after parameter tuning\n",
        "knn_tune_r2score = metrics.r2_score(knnr_pred,y_test)\n",
        "knn_tune_r2score"
      ],
      "execution_count": null,
      "outputs": [
        {
          "output_type": "execute_result",
          "data": {
            "text/plain": [
              "0.7181102544175033"
            ]
          },
          "metadata": {
            "tags": []
          },
          "execution_count": 56
        }
      ]
    },
    {
      "cell_type": "code",
      "metadata": {
        "id": "1U3hokJJgYH5",
        "colab_type": "code",
        "colab": {},
        "outputId": "c44518f5-be2f-443f-8fdc-ca6e5b57969a"
      },
      "source": [
        "# Train score for KNN after parameter tuning\n",
        "knn_tune_train = knn.score(x_train,y_train)\n",
        "knn_tune_train"
      ],
      "execution_count": null,
      "outputs": [
        {
          "output_type": "execute_result",
          "data": {
            "text/plain": [
              "0.8413113611216566"
            ]
          },
          "metadata": {
            "tags": []
          },
          "execution_count": 57
        }
      ]
    },
    {
      "cell_type": "code",
      "metadata": {
        "id": "NDApXBEbgYH9",
        "colab_type": "code",
        "colab": {},
        "outputId": "f5f37953-7c7d-424a-9336-419a060e3312"
      },
      "source": [
        "# Test score for KNN after parameter tuning\n",
        "knn_tune_test = knn.score(x_test,y_test)\n",
        "knn_tune_test"
      ],
      "execution_count": null,
      "outputs": [
        {
          "output_type": "execute_result",
          "data": {
            "text/plain": [
              "0.7516667846499204"
            ]
          },
          "metadata": {
            "tags": []
          },
          "execution_count": 58
        }
      ]
    },
    {
      "cell_type": "markdown",
      "metadata": {
        "id": "bbxKAqeRgYH_",
        "colab_type": "text"
      },
      "source": [
        "### Ada Boost Classifier <a id = 'ada'>"
      ]
    },
    {
      "cell_type": "code",
      "metadata": {
        "id": "PjTqEZuPgYH_",
        "colab_type": "code",
        "colab": {}
      },
      "source": [
        "# Fitting the Ada Boost model\n",
        "from sklearn.ensemble import AdaBoostRegressor\n",
        "ab = AdaBoostRegressor()\n",
        "ab.fit(x_train,y_train)\n",
        "ab_pred = ab.predict(x_test)"
      ],
      "execution_count": null,
      "outputs": []
    },
    {
      "cell_type": "code",
      "metadata": {
        "id": "L7uHhFdNgYIC",
        "colab_type": "code",
        "colab": {},
        "outputId": "3daffd44-6974-49a8-f8d6-5683412a2d3e"
      },
      "source": [
        "# RMSE score for Ada Boost\n",
        "ab_rmse = np.sqrt(metrics.mean_squared_error(ab_pred,y_test))\n",
        "ab_rmse"
      ],
      "execution_count": null,
      "outputs": [
        {
          "output_type": "execute_result",
          "data": {
            "text/plain": [
              "0.6728944753876197"
            ]
          },
          "metadata": {
            "tags": []
          },
          "execution_count": 60
        }
      ]
    },
    {
      "cell_type": "code",
      "metadata": {
        "id": "BTSlKoWogYIH",
        "colab_type": "code",
        "colab": {},
        "outputId": "9a95be28-5af8-4b17-9239-95ea755876dd"
      },
      "source": [
        "# R2 score for Ada Boost\n",
        "ab_r2score = metrics.r2_score(ab_pred,y_test)\n",
        "ab_r2score"
      ],
      "execution_count": null,
      "outputs": [
        {
          "output_type": "execute_result",
          "data": {
            "text/plain": [
              "0.8561651538190438"
            ]
          },
          "metadata": {
            "tags": []
          },
          "execution_count": 61
        }
      ]
    },
    {
      "cell_type": "code",
      "metadata": {
        "id": "C0-BVzs7gYIL",
        "colab_type": "code",
        "colab": {},
        "outputId": "9a8c01b6-5715-43ca-dcc2-44dcd18454fe"
      },
      "source": [
        "# Train score for Ada Boost\n",
        "ab_train = ab.score(x_train,y_train)\n",
        "ab_train"
      ],
      "execution_count": null,
      "outputs": [
        {
          "output_type": "execute_result",
          "data": {
            "text/plain": [
              "0.8703715241645449"
            ]
          },
          "metadata": {
            "tags": []
          },
          "execution_count": 62
        }
      ]
    },
    {
      "cell_type": "code",
      "metadata": {
        "id": "nXhwpflmgYIO",
        "colab_type": "code",
        "colab": {},
        "outputId": "725d57b6-082c-4ea8-f5ce-9d0c5488f264"
      },
      "source": [
        "# Test score for Ada Boost\n",
        "ab_test = ab.score(x_test,y_test)\n",
        "ab_test"
      ],
      "execution_count": null,
      "outputs": [
        {
          "output_type": "execute_result",
          "data": {
            "text/plain": [
              "0.8661435398338077"
            ]
          },
          "metadata": {
            "tags": []
          },
          "execution_count": 63
        }
      ]
    },
    {
      "cell_type": "markdown",
      "metadata": {
        "id": "OsqkKnR3gYIQ",
        "colab_type": "text"
      },
      "source": [
        "**Parameter Tuning**"
      ]
    },
    {
      "cell_type": "code",
      "metadata": {
        "id": "o2240rbcgYIQ",
        "colab_type": "code",
        "colab": {},
        "outputId": "6b3113d7-58e4-480d-8698-0795d3d554ba"
      },
      "source": [
        "# Finding the optimal parameters for Ada Boost Regressor using Randomized Search CV\n",
        "\n",
        "param_grid1 = {\"n_estimators\": range(5,20,2) ,  \n",
        "              \"learning_rate\": [0.01,0.05,0.1,0.5,1],'loss':['linear','square','exponential']}\n",
        " \n",
        "\n",
        "AB = RandomizedSearchCV(ab,param_distributions=param_grid1,\n",
        "                           cv = 5,\n",
        "                           n_jobs=-1,\n",
        "                           verbose=2)\n",
        "AB.fit(x,y)"
      ],
      "execution_count": null,
      "outputs": [
        {
          "output_type": "stream",
          "text": [
            "Fitting 5 folds for each of 10 candidates, totalling 50 fits\n"
          ],
          "name": "stdout"
        },
        {
          "output_type": "stream",
          "text": [
            "[Parallel(n_jobs=-1)]: Using backend LokyBackend with 8 concurrent workers.\n",
            "[Parallel(n_jobs=-1)]: Done  25 tasks      | elapsed:    3.4s\n",
            "[Parallel(n_jobs=-1)]: Done  50 out of  50 | elapsed:    3.9s finished\n",
            "C:\\Users\\sudha\\Anaconda3\\lib\\site-packages\\sklearn\\model_selection\\_search.py:814: DeprecationWarning: The default of the `iid` parameter will change from True to False in version 0.22 and will be removed in 0.24. This will change numeric results when test-set sizes are unequal.\n",
            "  DeprecationWarning)\n"
          ],
          "name": "stderr"
        },
        {
          "output_type": "execute_result",
          "data": {
            "text/plain": [
              "RandomizedSearchCV(cv=5, error_score='raise-deprecating',\n",
              "                   estimator=AdaBoostRegressor(base_estimator=None,\n",
              "                                               learning_rate=1.0, loss='linear',\n",
              "                                               n_estimators=50,\n",
              "                                               random_state=None),\n",
              "                   iid='warn', n_iter=10, n_jobs=-1,\n",
              "                   param_distributions={'learning_rate': [0.01, 0.05, 0.1, 0.5,\n",
              "                                                          1],\n",
              "                                        'loss': ['linear', 'square',\n",
              "                                                 'exponential'],\n",
              "                                        'n_estimators': range(5, 20, 2)},\n",
              "                   pre_dispatch='2*n_jobs', random_state=None, refit=True,\n",
              "                   return_train_score=False, scoring=None, verbose=2)"
            ]
          },
          "metadata": {
            "tags": []
          },
          "execution_count": 64
        }
      ]
    },
    {
      "cell_type": "code",
      "metadata": {
        "id": "1hV5fAN5gYIS",
        "colab_type": "code",
        "colab": {},
        "outputId": "0be0566c-49bc-4a95-82bd-fa9326f707d7"
      },
      "source": [
        "# optimal parameters\n",
        "AB.best_params_"
      ],
      "execution_count": null,
      "outputs": [
        {
          "output_type": "execute_result",
          "data": {
            "text/plain": [
              "{'n_estimators': 15, 'loss': 'linear', 'learning_rate': 1}"
            ]
          },
          "metadata": {
            "tags": []
          },
          "execution_count": 65
        }
      ]
    },
    {
      "cell_type": "code",
      "metadata": {
        "id": "wBa5fJKkgYIW",
        "colab_type": "code",
        "colab": {}
      },
      "source": [
        "# Fitting the model after parameter tuning\n",
        "abr = AdaBoostRegressor(n_estimators=15,learning_rate=1,loss='linear')\n",
        "abr.fit(x_train,y_train)\n",
        "abr_pred = abr.predict(x_test)"
      ],
      "execution_count": null,
      "outputs": []
    },
    {
      "cell_type": "code",
      "metadata": {
        "id": "CD8LgzJdgYIY",
        "colab_type": "code",
        "colab": {},
        "outputId": "5afd9f2c-7c6a-4eba-f841-c379644c840d"
      },
      "source": [
        "# RMSE score for Ada Boost after parameter tuning\n",
        "ab_tune_rmse = np.sqrt(metrics.mean_squared_error(abr_pred,y_test))\n",
        "ab_tune_rmse"
      ],
      "execution_count": null,
      "outputs": [
        {
          "output_type": "execute_result",
          "data": {
            "text/plain": [
              "0.6679217107391998"
            ]
          },
          "metadata": {
            "tags": []
          },
          "execution_count": 67
        }
      ]
    },
    {
      "cell_type": "code",
      "metadata": {
        "id": "s1b0-ut0gYIa",
        "colab_type": "code",
        "colab": {},
        "outputId": "80532e1b-4a41-413a-c56d-c33badec42da"
      },
      "source": [
        "# R2 score for Ada Boost after parameter tuning\n",
        "ab_tune_r2score = metrics.r2_score(abr_pred,y_test)\n",
        "ab_tune_r2score"
      ],
      "execution_count": null,
      "outputs": [
        {
          "output_type": "execute_result",
          "data": {
            "text/plain": [
              "0.8573789752947754"
            ]
          },
          "metadata": {
            "tags": []
          },
          "execution_count": 68
        }
      ]
    },
    {
      "cell_type": "code",
      "metadata": {
        "id": "b2eH_C6tgYIc",
        "colab_type": "code",
        "colab": {},
        "outputId": "fcbdc7ab-814c-4318-a8b2-60311f5c337f"
      },
      "source": [
        "# Train score for Ada Boost after parameter tuning\n",
        "ab_tune_train = abr.score(x_train,y_train)\n",
        "ab_tune_train"
      ],
      "execution_count": null,
      "outputs": [
        {
          "output_type": "execute_result",
          "data": {
            "text/plain": [
              "0.8720604462738495"
            ]
          },
          "metadata": {
            "tags": []
          },
          "execution_count": 69
        }
      ]
    },
    {
      "cell_type": "code",
      "metadata": {
        "id": "qpC-9HmAgYIe",
        "colab_type": "code",
        "colab": {},
        "outputId": "1fa7474f-78ca-49a0-d73a-61c91335b1f9"
      },
      "source": [
        "# Test score for Ada Boost after parameter tuning\n",
        "ab_tune_test = abr.score(x_test,y_test)\n",
        "ab_tune_test"
      ],
      "execution_count": null,
      "outputs": [
        {
          "output_type": "execute_result",
          "data": {
            "text/plain": [
              "0.8681146575439123"
            ]
          },
          "metadata": {
            "tags": []
          },
          "execution_count": 70
        }
      ]
    },
    {
      "cell_type": "markdown",
      "metadata": {
        "id": "uvEyH43XgYIg",
        "colab_type": "text"
      },
      "source": [
        "### Gradient Boosting <a id = 'grad'>"
      ]
    },
    {
      "cell_type": "code",
      "metadata": {
        "id": "QyIwXE8-gYIh",
        "colab_type": "code",
        "colab": {}
      },
      "source": [
        "# Fitting the Gradient Boost model\n",
        "from sklearn.ensemble import GradientBoostingRegressor\n",
        "gb = GradientBoostingRegressor()\n",
        "gb.fit(x_train,y_train)\n",
        "gb_pred = gb.predict(x_test)"
      ],
      "execution_count": null,
      "outputs": []
    },
    {
      "cell_type": "code",
      "metadata": {
        "id": "ZeEzkCTlgYIi",
        "colab_type": "code",
        "colab": {},
        "outputId": "d77e7d07-8a0c-4d23-c53a-a57040f598c2"
      },
      "source": [
        "# RMSE score for Gradient Boosting\n",
        "gb_rmse = np.sqrt(metrics.mean_squared_error(gb_pred,y_test))\n",
        "gb_rmse"
      ],
      "execution_count": null,
      "outputs": [
        {
          "output_type": "execute_result",
          "data": {
            "text/plain": [
              "0.6514405930394478"
            ]
          },
          "metadata": {
            "tags": []
          },
          "execution_count": 72
        }
      ]
    },
    {
      "cell_type": "code",
      "metadata": {
        "id": "yl0vui8qgYIk",
        "colab_type": "code",
        "colab": {},
        "outputId": "5ee9c56c-2bc5-48c4-ae21-97675eb96781"
      },
      "source": [
        "# R2 score for Gradient Boosting\n",
        "gb_r2score = metrics.r2_score(gb_pred,y_test)\n",
        "gb_r2score"
      ],
      "execution_count": null,
      "outputs": [
        {
          "output_type": "execute_result",
          "data": {
            "text/plain": [
              "0.8612112215718744"
            ]
          },
          "metadata": {
            "tags": []
          },
          "execution_count": 73
        }
      ]
    },
    {
      "cell_type": "code",
      "metadata": {
        "id": "m8Bf876FgYIm",
        "colab_type": "code",
        "colab": {},
        "outputId": "668b6135-f226-424b-8be8-ce784c7587aa"
      },
      "source": [
        "# Train score for Gradient Boosting\n",
        "gb_train = gb.score(x_train,y_train)\n",
        "gb_train"
      ],
      "execution_count": null,
      "outputs": [
        {
          "output_type": "execute_result",
          "data": {
            "text/plain": [
              "0.893617014364923"
            ]
          },
          "metadata": {
            "tags": []
          },
          "execution_count": 74
        }
      ]
    },
    {
      "cell_type": "code",
      "metadata": {
        "id": "-Uj-G5oQgYIo",
        "colab_type": "code",
        "colab": {},
        "outputId": "b8598c6d-0cbb-486a-9bd0-348facfd6a3b"
      },
      "source": [
        "# Test score for Gradient Boosting\n",
        "gb_test = gb.score(x_test,y_test)\n",
        "gb_test"
      ],
      "execution_count": null,
      "outputs": [
        {
          "output_type": "execute_result",
          "data": {
            "text/plain": [
              "0.8745429576392305"
            ]
          },
          "metadata": {
            "tags": []
          },
          "execution_count": 75
        }
      ]
    },
    {
      "cell_type": "markdown",
      "metadata": {
        "id": "vTiq0RULgYIv",
        "colab_type": "text"
      },
      "source": [
        "**Parameter tuning**"
      ]
    },
    {
      "cell_type": "code",
      "metadata": {
        "id": "Rq9i47jcgYIv",
        "colab_type": "code",
        "colab": {},
        "outputId": "dcb46821-da92-4c61-8ee5-2a3026827645"
      },
      "source": [
        "# Finding the optimal parameters For Gradient Boosting Regressor using Randomized Search CV\n",
        "\n",
        "param_grid1 = {\"n_estimators\": range(5,20,2) ,  \n",
        "              \"learning_rate\": [0.01,0.05,0.1,0.5,1]}\n",
        " \n",
        "\n",
        "GB = RandomizedSearchCV(gb,param_distributions=param_grid1,\n",
        "                           cv = 5,\n",
        "                           n_jobs=-1,\n",
        "                           verbose=2)\n",
        "GB.fit(x,y)"
      ],
      "execution_count": null,
      "outputs": [
        {
          "output_type": "stream",
          "text": [
            "Fitting 5 folds for each of 10 candidates, totalling 50 fits\n"
          ],
          "name": "stdout"
        },
        {
          "output_type": "stream",
          "text": [
            "[Parallel(n_jobs=-1)]: Using backend LokyBackend with 8 concurrent workers.\n",
            "[Parallel(n_jobs=-1)]: Done   9 out of  50 | elapsed:    0.0s remaining:    0.4s\n",
            "[Parallel(n_jobs=-1)]: Done  50 out of  50 | elapsed:    0.5s finished\n",
            "C:\\Users\\sudha\\Anaconda3\\lib\\site-packages\\sklearn\\model_selection\\_search.py:814: DeprecationWarning: The default of the `iid` parameter will change from True to False in version 0.22 and will be removed in 0.24. This will change numeric results when test-set sizes are unequal.\n",
            "  DeprecationWarning)\n"
          ],
          "name": "stderr"
        },
        {
          "output_type": "execute_result",
          "data": {
            "text/plain": [
              "RandomizedSearchCV(cv=5, error_score='raise-deprecating',\n",
              "                   estimator=GradientBoostingRegressor(alpha=0.9,\n",
              "                                                       criterion='friedman_mse',\n",
              "                                                       init=None,\n",
              "                                                       learning_rate=0.1,\n",
              "                                                       loss='ls', max_depth=3,\n",
              "                                                       max_features=None,\n",
              "                                                       max_leaf_nodes=None,\n",
              "                                                       min_impurity_decrease=0.0,\n",
              "                                                       min_impurity_split=None,\n",
              "                                                       min_samples_leaf=1,\n",
              "                                                       min_samples_split=2,\n",
              "                                                       min_weight_fraction_leaf=0.0,\n",
              "                                                       n_estimators=100,\n",
              "                                                       n_iter_no_change=None,\n",
              "                                                       presort='auto',\n",
              "                                                       random_state=None,\n",
              "                                                       subsample=1.0,\n",
              "                                                       tol=0.0001,\n",
              "                                                       validation_fraction=0.1,\n",
              "                                                       verbose=0,\n",
              "                                                       warm_start=False),\n",
              "                   iid='warn', n_iter=10, n_jobs=-1,\n",
              "                   param_distributions={'learning_rate': [0.01, 0.05, 0.1, 0.5,\n",
              "                                                          1],\n",
              "                                        'n_estimators': range(5, 20, 2)},\n",
              "                   pre_dispatch='2*n_jobs', random_state=None, refit=True,\n",
              "                   return_train_score=False, scoring=None, verbose=2)"
            ]
          },
          "metadata": {
            "tags": []
          },
          "execution_count": 76
        }
      ]
    },
    {
      "cell_type": "code",
      "metadata": {
        "id": "YqujjRUbgYIy",
        "colab_type": "code",
        "colab": {},
        "outputId": "0c06987b-b59e-48ea-c427-50b4ae7fbdce"
      },
      "source": [
        "# optimal parameters\n",
        "GB.best_params_"
      ],
      "execution_count": null,
      "outputs": [
        {
          "output_type": "execute_result",
          "data": {
            "text/plain": [
              "{'n_estimators': 5, 'learning_rate': 0.5}"
            ]
          },
          "metadata": {
            "tags": []
          },
          "execution_count": 77
        }
      ]
    },
    {
      "cell_type": "code",
      "metadata": {
        "id": "F1GZO2OhgYI1",
        "colab_type": "code",
        "colab": {}
      },
      "source": [
        "# Fitting the Gradient model after parameter tuning\n",
        "gbr = GradientBoostingRegressor(n_estimators=5,learning_rate=0.5)\n",
        "gbr.fit(x_train,y_train)\n",
        "gbr_pred = gbr.predict(x_test)"
      ],
      "execution_count": null,
      "outputs": []
    },
    {
      "cell_type": "code",
      "metadata": {
        "id": "YbujQyAsgYI4",
        "colab_type": "code",
        "colab": {},
        "outputId": "b630aa25-ecaa-4a3d-a623-ebd28a012449"
      },
      "source": [
        "# RMSE score for Gradient Boosting after parameter tuning\n",
        "gb_tune_rmse = np.sqrt(metrics.mean_squared_error(gbr_pred,y_test))\n",
        "gb_tune_rmse"
      ],
      "execution_count": null,
      "outputs": [
        {
          "output_type": "execute_result",
          "data": {
            "text/plain": [
              "0.6549504201479838"
            ]
          },
          "metadata": {
            "tags": []
          },
          "execution_count": 79
        }
      ]
    },
    {
      "cell_type": "code",
      "metadata": {
        "id": "BfOKrBexgYI-",
        "colab_type": "code",
        "colab": {},
        "outputId": "977ab228-0313-4e74-bb49-c06a245d15f4"
      },
      "source": [
        "# R2 score for Gradient Boosting after parameter tuning\n",
        "gb_tune_r2score = metrics.r2_score(gbr_pred,y_test)\n",
        "gb_tune_r2score"
      ],
      "execution_count": null,
      "outputs": [
        {
          "output_type": "execute_result",
          "data": {
            "text/plain": [
              "0.8502749934340004"
            ]
          },
          "metadata": {
            "tags": []
          },
          "execution_count": 80
        }
      ]
    },
    {
      "cell_type": "code",
      "metadata": {
        "id": "jjZ5-JX3gYJA",
        "colab_type": "code",
        "colab": {},
        "outputId": "9716b356-6d07-4a84-b391-2f00eff5f4a6"
      },
      "source": [
        "# Train score for Gradient Boosting after parameter tuning\n",
        "gb_tune_train = gbr.score(x_train,y_train)\n",
        "gb_tune_train"
      ],
      "execution_count": null,
      "outputs": [
        {
          "output_type": "execute_result",
          "data": {
            "text/plain": [
              "0.8804970491302089"
            ]
          },
          "metadata": {
            "tags": []
          },
          "execution_count": 81
        }
      ]
    },
    {
      "cell_type": "code",
      "metadata": {
        "id": "ebXqs5U6gYJC",
        "colab_type": "code",
        "colab": {},
        "outputId": "8903aad0-334e-4533-d5cd-fab1655bc65b"
      },
      "source": [
        "# Test score for parameter tuning\n",
        "gb_tune_test = gbr.score(x_test,y_test)\n",
        "gb_tune_test"
      ],
      "execution_count": null,
      "outputs": [
        {
          "output_type": "execute_result",
          "data": {
            "text/plain": [
              "0.873187442667573"
            ]
          },
          "metadata": {
            "tags": []
          },
          "execution_count": 82
        }
      ]
    },
    {
      "cell_type": "markdown",
      "metadata": {
        "id": "6R-H9mV4gYJE",
        "colab_type": "text"
      },
      "source": [
        "### XG Boost <a id = 'xgb'>"
      ]
    },
    {
      "cell_type": "code",
      "metadata": {
        "id": "G76NAA6pgYJF",
        "colab_type": "code",
        "colab": {}
      },
      "source": [
        "from xgboost.sklearn import XGBRegressor"
      ],
      "execution_count": null,
      "outputs": []
    },
    {
      "cell_type": "code",
      "metadata": {
        "id": "2gyPEtiPgYJH",
        "colab_type": "code",
        "colab": {}
      },
      "source": [
        "# Fitting the model\n",
        "xgb = XGBRegressor()"
      ],
      "execution_count": null,
      "outputs": []
    },
    {
      "cell_type": "code",
      "metadata": {
        "id": "lAVYbKZQgYJI",
        "colab_type": "code",
        "colab": {},
        "outputId": "c14b2e9e-403f-4bed-a9a7-8eb34f8bb84c"
      },
      "source": [
        "# Training the model\n",
        "xgb.fit(x_train, y_train)"
      ],
      "execution_count": null,
      "outputs": [
        {
          "output_type": "stream",
          "text": [
            "[22:48:44] WARNING: C:/Jenkins/workspace/xgboost-win64_release_0.90/src/objective/regression_obj.cu:152: reg:linear is now deprecated in favor of reg:squarederror.\n"
          ],
          "name": "stdout"
        },
        {
          "output_type": "execute_result",
          "data": {
            "text/plain": [
              "XGBRegressor(base_score=0.5, booster='gbtree', colsample_bylevel=1,\n",
              "             colsample_bynode=1, colsample_bytree=1, gamma=0,\n",
              "             importance_type='gain', learning_rate=0.1, max_delta_step=0,\n",
              "             max_depth=3, min_child_weight=1, missing=None, n_estimators=100,\n",
              "             n_jobs=1, nthread=None, objective='reg:linear', random_state=0,\n",
              "             reg_alpha=0, reg_lambda=1, scale_pos_weight=1, seed=None,\n",
              "             silent=None, subsample=1, verbosity=1)"
            ]
          },
          "metadata": {
            "tags": []
          },
          "execution_count": 85
        }
      ]
    },
    {
      "cell_type": "code",
      "metadata": {
        "id": "dp3Up6jsgYJL",
        "colab_type": "code",
        "colab": {}
      },
      "source": [
        "# Testing the model\n",
        "xgb_pred=xgb.predict(x_test)"
      ],
      "execution_count": null,
      "outputs": []
    },
    {
      "cell_type": "code",
      "metadata": {
        "id": "BaQaCNwKgYJN",
        "colab_type": "code",
        "colab": {},
        "outputId": "01589be7-8f72-4159-96af-0ff6b64d6a2e"
      },
      "source": [
        "# RMSE score for XG Boost\n",
        "xgb_rmse = np.sqrt(metrics.mean_squared_error(xgb_pred,y_test))\n",
        "xgb_rmse"
      ],
      "execution_count": null,
      "outputs": [
        {
          "output_type": "execute_result",
          "data": {
            "text/plain": [
              "0.6511458821508316"
            ]
          },
          "metadata": {
            "tags": []
          },
          "execution_count": 87
        }
      ]
    },
    {
      "cell_type": "code",
      "metadata": {
        "id": "0meEK_9ogYJS",
        "colab_type": "code",
        "colab": {},
        "outputId": "03ebb44f-704e-40d0-c0f3-7c8438b3e36e"
      },
      "source": [
        "# R2 score for XG Boost\n",
        "xgb_r2score = metrics.r2_score(xgb_pred,y_test)\n",
        "xgb_r2score"
      ],
      "execution_count": null,
      "outputs": [
        {
          "output_type": "execute_result",
          "data": {
            "text/plain": [
              "0.8607805819777924"
            ]
          },
          "metadata": {
            "tags": []
          },
          "execution_count": 88
        }
      ]
    },
    {
      "cell_type": "code",
      "metadata": {
        "id": "yGR7pcxpgYJT",
        "colab_type": "code",
        "colab": {},
        "outputId": "812347b7-806a-4b18-9a8a-c7bd3cd048bd"
      },
      "source": [
        "# Train score for XG Boost\n",
        "xgb_train = xgb.score(x_train,y_train)\n",
        "xgb_train"
      ],
      "execution_count": null,
      "outputs": [
        {
          "output_type": "execute_result",
          "data": {
            "text/plain": [
              "0.8925138220339089"
            ]
          },
          "metadata": {
            "tags": []
          },
          "execution_count": 89
        }
      ]
    },
    {
      "cell_type": "code",
      "metadata": {
        "id": "nWdFVvpkgYJV",
        "colab_type": "code",
        "colab": {},
        "outputId": "d758891b-4138-434f-8657-224192aea156"
      },
      "source": [
        "# Test score for XG Boost\n",
        "xgb_test = xgb.score(x_test,y_test)\n",
        "xgb_test"
      ],
      "execution_count": null,
      "outputs": [
        {
          "output_type": "execute_result",
          "data": {
            "text/plain": [
              "0.8746564451726679"
            ]
          },
          "metadata": {
            "tags": []
          },
          "execution_count": 90
        }
      ]
    },
    {
      "cell_type": "markdown",
      "metadata": {
        "id": "AOtnDJgqgYJZ",
        "colab_type": "text"
      },
      "source": [
        "**Parameter Tuning**"
      ]
    },
    {
      "cell_type": "code",
      "metadata": {
        "id": "bX5G3KefgYJa",
        "colab_type": "code",
        "colab": {},
        "outputId": "14329406-b602-4f86-909f-feddf7de06d0"
      },
      "source": [
        "# Finding optimal parameters for XG Boost Regressor using Randomized Search CV\n",
        "param_grid1 = {\"max_depth\": [10,15,20,30],\n",
        "              \"n_estimators\": range(5,20,2) , \n",
        "              \"gamma\": [0.03,0.05], \n",
        "              \"learning_rate\": [0.01,0.05]}\n",
        " \n",
        "\n",
        "XGB = RandomizedSearchCV(xgb,param_distributions=param_grid1,\n",
        "                           cv = 5)\n",
        "XGB.fit(x,y)"
      ],
      "execution_count": null,
      "outputs": [
        {
          "output_type": "stream",
          "text": [
            "[22:48:49] WARNING: C:/Jenkins/workspace/xgboost-win64_release_0.90/src/objective/regression_obj.cu:152: reg:linear is now deprecated in favor of reg:squarederror.\n",
            "[22:48:49] WARNING: C:/Jenkins/workspace/xgboost-win64_release_0.90/src/objective/regression_obj.cu:152: reg:linear is now deprecated in favor of reg:squarederror.\n",
            "[22:48:49] WARNING: C:/Jenkins/workspace/xgboost-win64_release_0.90/src/objective/regression_obj.cu:152: reg:linear is now deprecated in favor of reg:squarederror.\n",
            "[22:48:49] WARNING: C:/Jenkins/workspace/xgboost-win64_release_0.90/src/objective/regression_obj.cu:152: reg:linear is now deprecated in favor of reg:squarederror.\n",
            "[22:48:49] WARNING: C:/Jenkins/workspace/xgboost-win64_release_0.90/src/objective/regression_obj.cu:152: reg:linear is now deprecated in favor of reg:squarederror.\n",
            "[22:48:49] WARNING: C:/Jenkins/workspace/xgboost-win64_release_0.90/src/objective/regression_obj.cu:152: reg:linear is now deprecated in favor of reg:squarederror.\n",
            "[22:48:49] WARNING: C:/Jenkins/workspace/xgboost-win64_release_0.90/src/objective/regression_obj.cu:152: reg:linear is now deprecated in favor of reg:squarederror.\n",
            "[22:48:49] WARNING: C:/Jenkins/workspace/xgboost-win64_release_0.90/src/objective/regression_obj.cu:152: reg:linear is now deprecated in favor of reg:squarederror.\n",
            "[22:48:50] WARNING: C:/Jenkins/workspace/xgboost-win64_release_0.90/src/objective/regression_obj.cu:152: reg:linear is now deprecated in favor of reg:squarederror.\n",
            "[22:48:50] WARNING: C:/Jenkins/workspace/xgboost-win64_release_0.90/src/objective/regression_obj.cu:152: reg:linear is now deprecated in favor of reg:squarederror.\n",
            "[22:48:50] WARNING: C:/Jenkins/workspace/xgboost-win64_release_0.90/src/objective/regression_obj.cu:152: reg:linear is now deprecated in favor of reg:squarederror.\n",
            "[22:48:50] WARNING: C:/Jenkins/workspace/xgboost-win64_release_0.90/src/objective/regression_obj.cu:152: reg:linear is now deprecated in favor of reg:squarederror.\n",
            "[22:48:50] WARNING: C:/Jenkins/workspace/xgboost-win64_release_0.90/src/objective/regression_obj.cu:152: reg:linear is now deprecated in favor of reg:squarederror.\n",
            "[22:48:50] WARNING: C:/Jenkins/workspace/xgboost-win64_release_0.90/src/objective/regression_obj.cu:152: reg:linear is now deprecated in favor of reg:squarederror.\n",
            "[22:48:50] WARNING: C:/Jenkins/workspace/xgboost-win64_release_0.90/src/objective/regression_obj.cu:152: reg:linear is now deprecated in favor of reg:squarederror.\n",
            "[22:48:50] WARNING: C:/Jenkins/workspace/xgboost-win64_release_0.90/src/objective/regression_obj.cu:152: reg:linear is now deprecated in favor of reg:squarederror.\n",
            "[22:48:50] WARNING: C:/Jenkins/workspace/xgboost-win64_release_0.90/src/objective/regression_obj.cu:152: reg:linear is now deprecated in favor of reg:squarederror.\n",
            "[22:48:50] WARNING: C:/Jenkins/workspace/xgboost-win64_release_0.90/src/objective/regression_obj.cu:152: reg:linear is now deprecated in favor of reg:squarederror.\n",
            "[22:48:50] WARNING: C:/Jenkins/workspace/xgboost-win64_release_0.90/src/objective/regression_obj.cu:152: reg:linear is now deprecated in favor of reg:squarederror.\n",
            "[22:48:50] WARNING: C:/Jenkins/workspace/xgboost-win64_release_0.90/src/objective/regression_obj.cu:152: reg:linear is now deprecated in favor of reg:squarederror.\n",
            "[22:48:50] WARNING: C:/Jenkins/workspace/xgboost-win64_release_0.90/src/objective/regression_obj.cu:152: reg:linear is now deprecated in favor of reg:squarederror.\n",
            "[22:48:50] WARNING: C:/Jenkins/workspace/xgboost-win64_release_0.90/src/objective/regression_obj.cu:152: reg:linear is now deprecated in favor of reg:squarederror.\n",
            "[22:48:50] WARNING: C:/Jenkins/workspace/xgboost-win64_release_0.90/src/objective/regression_obj.cu:152: reg:linear is now deprecated in favor of reg:squarederror.\n",
            "[22:48:50] WARNING: C:/Jenkins/workspace/xgboost-win64_release_0.90/src/objective/regression_obj.cu:152: reg:linear is now deprecated in favor of reg:squarederror.\n",
            "[22:48:50] WARNING: C:/Jenkins/workspace/xgboost-win64_release_0.90/src/objective/regression_obj.cu:152: reg:linear is now deprecated in favor of reg:squarederror.\n",
            "[22:48:50] WARNING: C:/Jenkins/workspace/xgboost-win64_release_0.90/src/objective/regression_obj.cu:152: reg:linear is now deprecated in favor of reg:squarederror.\n",
            "[22:48:50] WARNING: C:/Jenkins/workspace/xgboost-win64_release_0.90/src/objective/regression_obj.cu:152: reg:linear is now deprecated in favor of reg:squarederror.\n",
            "[22:48:50] WARNING: C:/Jenkins/workspace/xgboost-win64_release_0.90/src/objective/regression_obj.cu:152: reg:linear is now deprecated in favor of reg:squarederror.\n",
            "[22:48:50] WARNING: C:/Jenkins/workspace/xgboost-win64_release_0.90/src/objective/regression_obj.cu:152: reg:linear is now deprecated in favor of reg:squarederror.\n",
            "[22:48:50] WARNING: C:/Jenkins/workspace/xgboost-win64_release_0.90/src/objective/regression_obj.cu:152: reg:linear is now deprecated in favor of reg:squarederror.\n",
            "[22:48:50] WARNING: C:/Jenkins/workspace/xgboost-win64_release_0.90/src/objective/regression_obj.cu:152: reg:linear is now deprecated in favor of reg:squarederror.\n",
            "[22:48:51] WARNING: C:/Jenkins/workspace/xgboost-win64_release_0.90/src/objective/regression_obj.cu:152: reg:linear is now deprecated in favor of reg:squarederror.\n",
            "[22:48:51] WARNING: C:/Jenkins/workspace/xgboost-win64_release_0.90/src/objective/regression_obj.cu:152: reg:linear is now deprecated in favor of reg:squarederror.\n",
            "[22:48:51] WARNING: C:/Jenkins/workspace/xgboost-win64_release_0.90/src/objective/regression_obj.cu:152: reg:linear is now deprecated in favor of reg:squarederror.\n",
            "[22:48:51] WARNING: C:/Jenkins/workspace/xgboost-win64_release_0.90/src/objective/regression_obj.cu:152: reg:linear is now deprecated in favor of reg:squarederror.\n",
            "[22:48:51] WARNING: C:/Jenkins/workspace/xgboost-win64_release_0.90/src/objective/regression_obj.cu:152: reg:linear is now deprecated in favor of reg:squarederror.\n",
            "[22:48:51] WARNING: C:/Jenkins/workspace/xgboost-win64_release_0.90/src/objective/regression_obj.cu:152: reg:linear is now deprecated in favor of reg:squarederror.\n",
            "[22:48:51] WARNING: C:/Jenkins/workspace/xgboost-win64_release_0.90/src/objective/regression_obj.cu:152: reg:linear is now deprecated in favor of reg:squarederror.\n",
            "[22:48:51] WARNING: C:/Jenkins/workspace/xgboost-win64_release_0.90/src/objective/regression_obj.cu:152: reg:linear is now deprecated in favor of reg:squarederror.\n",
            "[22:48:51] WARNING: C:/Jenkins/workspace/xgboost-win64_release_0.90/src/objective/regression_obj.cu:152: reg:linear is now deprecated in favor of reg:squarederror.\n",
            "[22:48:51] WARNING: C:/Jenkins/workspace/xgboost-win64_release_0.90/src/objective/regression_obj.cu:152: reg:linear is now deprecated in favor of reg:squarederror.\n",
            "[22:48:51] WARNING: C:/Jenkins/workspace/xgboost-win64_release_0.90/src/objective/regression_obj.cu:152: reg:linear is now deprecated in favor of reg:squarederror.\n",
            "[22:48:52] WARNING: C:/Jenkins/workspace/xgboost-win64_release_0.90/src/objective/regression_obj.cu:152: reg:linear is now deprecated in favor of reg:squarederror.\n",
            "[22:48:52] WARNING: C:/Jenkins/workspace/xgboost-win64_release_0.90/src/objective/regression_obj.cu:152: reg:linear is now deprecated in favor of reg:squarederror.\n",
            "[22:48:52] WARNING: C:/Jenkins/workspace/xgboost-win64_release_0.90/src/objective/regression_obj.cu:152: reg:linear is now deprecated in favor of reg:squarederror.\n",
            "[22:48:52] WARNING: C:/Jenkins/workspace/xgboost-win64_release_0.90/src/objective/regression_obj.cu:152: reg:linear is now deprecated in favor of reg:squarederror.\n",
            "[22:48:52] WARNING: C:/Jenkins/workspace/xgboost-win64_release_0.90/src/objective/regression_obj.cu:152: reg:linear is now deprecated in favor of reg:squarederror.\n",
            "[22:48:52] WARNING: C:/Jenkins/workspace/xgboost-win64_release_0.90/src/objective/regression_obj.cu:152: reg:linear is now deprecated in favor of reg:squarederror.\n",
            "[22:48:52] WARNING: C:/Jenkins/workspace/xgboost-win64_release_0.90/src/objective/regression_obj.cu:152: reg:linear is now deprecated in favor of reg:squarederror.\n",
            "[22:48:52] WARNING: C:/Jenkins/workspace/xgboost-win64_release_0.90/src/objective/regression_obj.cu:152: reg:linear is now deprecated in favor of reg:squarederror.\n",
            "[22:48:52] WARNING: C:/Jenkins/workspace/xgboost-win64_release_0.90/src/objective/regression_obj.cu:152: reg:linear is now deprecated in favor of reg:squarederror.\n"
          ],
          "name": "stdout"
        },
        {
          "output_type": "execute_result",
          "data": {
            "text/plain": [
              "RandomizedSearchCV(cv=5, error_score='raise-deprecating',\n",
              "                   estimator=XGBRegressor(base_score=0.5, booster='gbtree',\n",
              "                                          colsample_bylevel=1,\n",
              "                                          colsample_bynode=1,\n",
              "                                          colsample_bytree=1, gamma=0,\n",
              "                                          importance_type='gain',\n",
              "                                          learning_rate=0.1, max_delta_step=0,\n",
              "                                          max_depth=3, min_child_weight=1,\n",
              "                                          missing=None, n_estimators=100,\n",
              "                                          n_jobs=1, nthread=None,\n",
              "                                          objective='reg:linear',\n",
              "                                          random_st...reg_alpha=0,\n",
              "                                          reg_lambda=1, scale_pos_weight=1,\n",
              "                                          seed=None, silent=None, subsample=1,\n",
              "                                          verbosity=1),\n",
              "                   iid='warn', n_iter=10, n_jobs=None,\n",
              "                   param_distributions={'gamma': [0.03, 0.05],\n",
              "                                        'learning_rate': [0.01, 0.05],\n",
              "                                        'max_depth': [10, 15, 20, 30],\n",
              "                                        'n_estimators': range(5, 20, 2)},\n",
              "                   pre_dispatch='2*n_jobs', random_state=None, refit=True,\n",
              "                   return_train_score=False, scoring=None, verbose=0)"
            ]
          },
          "metadata": {
            "tags": []
          },
          "execution_count": 91
        }
      ]
    },
    {
      "cell_type": "code",
      "metadata": {
        "id": "uRY2nOgogYJd",
        "colab_type": "code",
        "colab": {},
        "outputId": "dbbce322-7ce4-4669-a6db-70650304c8f8"
      },
      "source": [
        "# optimal parameters\n",
        "XGB.best_params_"
      ],
      "execution_count": null,
      "outputs": [
        {
          "output_type": "execute_result",
          "data": {
            "text/plain": [
              "{'n_estimators': 19, 'max_depth': 30, 'learning_rate': 0.05, 'gamma': 0.03}"
            ]
          },
          "metadata": {
            "tags": []
          },
          "execution_count": 92
        }
      ]
    },
    {
      "cell_type": "code",
      "metadata": {
        "id": "3n9hmTcCgYJf",
        "colab_type": "code",
        "colab": {}
      },
      "source": [
        "# Fitting the model after parameter tuning\n",
        "xgbr = XGBRegressor(n_estimators=19,max_depth=30,learning_rate=0.05,gamma=0.03)"
      ],
      "execution_count": null,
      "outputs": []
    },
    {
      "cell_type": "code",
      "metadata": {
        "id": "TBJselxdgYJi",
        "colab_type": "code",
        "colab": {},
        "outputId": "c97f4f54-14d3-4bcb-cbc5-6bea2b923425"
      },
      "source": [
        "# Training the model after parameter tuning\n",
        "xgbr.fit(x_train,y_train)"
      ],
      "execution_count": null,
      "outputs": [
        {
          "output_type": "stream",
          "text": [
            "[22:49:06] WARNING: C:/Jenkins/workspace/xgboost-win64_release_0.90/src/objective/regression_obj.cu:152: reg:linear is now deprecated in favor of reg:squarederror.\n"
          ],
          "name": "stdout"
        },
        {
          "output_type": "execute_result",
          "data": {
            "text/plain": [
              "XGBRegressor(base_score=0.5, booster='gbtree', colsample_bylevel=1,\n",
              "             colsample_bynode=1, colsample_bytree=1, gamma=0.03,\n",
              "             importance_type='gain', learning_rate=0.05, max_delta_step=0,\n",
              "             max_depth=30, min_child_weight=1, missing=None, n_estimators=19,\n",
              "             n_jobs=1, nthread=None, objective='reg:linear', random_state=0,\n",
              "             reg_alpha=0, reg_lambda=1, scale_pos_weight=1, seed=None,\n",
              "             silent=None, subsample=1, verbosity=1)"
            ]
          },
          "metadata": {
            "tags": []
          },
          "execution_count": 94
        }
      ]
    },
    {
      "cell_type": "code",
      "metadata": {
        "id": "FNJxBklMgYJl",
        "colab_type": "code",
        "colab": {}
      },
      "source": [
        "# Testing the model after parameter tuning\n",
        "xgbr_pred = xgbr.predict(x_test)"
      ],
      "execution_count": null,
      "outputs": []
    },
    {
      "cell_type": "code",
      "metadata": {
        "id": "QvRxtVN7gYJo",
        "colab_type": "code",
        "colab": {},
        "outputId": "1d8c2495-b6c9-4dec-e4f8-65f1c998a998"
      },
      "source": [
        "# RMSE score for XG Boost after parameter tuning\n",
        "xgb_tune_rmse = np.sqrt(metrics.mean_squared_error(xgbr_pred,y_test))\n",
        "xgb_tune_rmse"
      ],
      "execution_count": null,
      "outputs": [
        {
          "output_type": "execute_result",
          "data": {
            "text/plain": [
              "6.066064825225257"
            ]
          },
          "metadata": {
            "tags": []
          },
          "execution_count": 96
        }
      ]
    },
    {
      "cell_type": "code",
      "metadata": {
        "id": "E0GP_PiNgYJs",
        "colab_type": "code",
        "colab": {},
        "outputId": "802b2e66-0c33-4837-9e58-ba078d80f49e"
      },
      "source": [
        "# R2 score for XG Boost after parameter tuning\n",
        "xgb_tune_r2score = metrics.r2_score(xgbr_pred,y_test)\n",
        "xgb_tune_r2score"
      ],
      "execution_count": null,
      "outputs": [
        {
          "output_type": "execute_result",
          "data": {
            "text/plain": [
              "-31.4038299719138"
            ]
          },
          "metadata": {
            "tags": []
          },
          "execution_count": 97
        }
      ]
    },
    {
      "cell_type": "code",
      "metadata": {
        "id": "MaBAdvswgYJv",
        "colab_type": "code",
        "colab": {},
        "outputId": "2fd41699-f7d2-4c3d-cd98-fe37d31c2685"
      },
      "source": [
        "# Train score for XG Boost after parameter tuning\n",
        "xgb_tune_train = xgbr.score(x_train,y_train)\n",
        "xgb_tune_train"
      ],
      "execution_count": null,
      "outputs": [
        {
          "output_type": "execute_result",
          "data": {
            "text/plain": [
              "-10.057719182677008"
            ]
          },
          "metadata": {
            "tags": []
          },
          "execution_count": 98
        }
      ]
    },
    {
      "cell_type": "code",
      "metadata": {
        "id": "vUX04M6bgYJy",
        "colab_type": "code",
        "colab": {},
        "outputId": "1e54919c-9efb-4f73-dfb5-b1bed2d1187c"
      },
      "source": [
        "# Test score for XG Boost after parameter tuning\n",
        "xgb_tune_test = xgbr.score(x_test,y_test)\n",
        "xgb_tune_test"
      ],
      "execution_count": null,
      "outputs": [
        {
          "output_type": "execute_result",
          "data": {
            "text/plain": [
              "-9.878261757335101"
            ]
          },
          "metadata": {
            "tags": []
          },
          "execution_count": 99
        }
      ]
    },
    {
      "cell_type": "markdown",
      "metadata": {
        "id": "FGectem1gYJ1",
        "colab_type": "text"
      },
      "source": [
        "### 8.9 Comparison Table <a id = 'ct'>"
      ]
    },
    {
      "cell_type": "code",
      "metadata": {
        "id": "NSXAIxg1gYJ2",
        "colab_type": "code",
        "colab": {}
      },
      "source": [
        "# Creating dictionary for all the metrics and models\n",
        "metrics = {'Metrics': ['Before Parameter Tune Train Score','Before Parameter Tune Test Score','After Parameter Tune Train Score','After Parameter Tune Test Score','Before Parameter Tune RMSE Score','After Parameter Tune RMSE Score','Before Parameter Tune R2 Score','After Parameter Tune R2 Score'],'Linear Regression':[lr_train,lr_test,'NA','NA',lr_rmse,'NA',lr_r2score,'NA'],\n",
        "          'Decision Tree Regressor':[dt_train,dt_test,dt_tune_train,dt_tune_train,dt_rmse,dt_tune_rmse,dt_r2score,dt_tune_r2score],'Ramdom Forest Regressor':[rf_train,rf_test,rf_tune_train,rf_tune_test,rf_rmse,rf_tune_rmse,rf_r2score,rf_tune_r2score],'Support Vector Regressor':[svm_train,svm_test,'NA','NA',svm_rmse,'NA',svm_r2score,'NA'],\n",
        "          'KNearestNeighbor Regressor':[knn_train,knn_test,knn_tune_train,knn_tune_test,knn_rmse,knn_tune_rmse,knn_r2score,knn_tune_r2score],\n",
        "          'XG Boost Regressor':[xgb_train,xgb_test,xgb_tune_train,xgb_tune_test,xgb_rmse,xgb_tune_rmse,xgb_r2score,xgb_tune_r2score],\n",
        "          'Ada Boost Regressor':[ab_train,ab_test,ab_tune_train,ab_tune_test,ab_rmse,ab_tune_rmse,ab_r2score,ab_tune_r2score],\n",
        "          'Gradient Boosting Regressor':[gb_train,gb_test,gb_tune_train,gb_tune_test,gb_rmse,gb_tune_rmse,gb_r2score,gb_tune_r2score]}"
      ],
      "execution_count": null,
      "outputs": []
    },
    {
      "cell_type": "code",
      "metadata": {
        "id": "aMayrt19gYJ4",
        "colab_type": "code",
        "colab": {}
      },
      "source": [
        "# Converting dictionary to dataframe\n",
        "metrics = pd.DataFrame(metrics)"
      ],
      "execution_count": null,
      "outputs": []
    },
    {
      "cell_type": "code",
      "metadata": {
        "id": "Wh-V1PMngYJ7",
        "colab_type": "code",
        "colab": {},
        "outputId": "b3b4fb5a-c440-44da-e391-2df4f5150a14"
      },
      "source": [
        "# Dataframe of metrics\n",
        "metrics"
      ],
      "execution_count": null,
      "outputs": [
        {
          "output_type": "execute_result",
          "data": {
            "text/html": [
              "<div>\n",
              "<style scoped>\n",
              "    .dataframe tbody tr th:only-of-type {\n",
              "        vertical-align: middle;\n",
              "    }\n",
              "\n",
              "    .dataframe tbody tr th {\n",
              "        vertical-align: top;\n",
              "    }\n",
              "\n",
              "    .dataframe thead th {\n",
              "        text-align: right;\n",
              "    }\n",
              "</style>\n",
              "<table border=\"1\" class=\"dataframe\">\n",
              "  <thead>\n",
              "    <tr style=\"text-align: right;\">\n",
              "      <th></th>\n",
              "      <th>Metrics</th>\n",
              "      <th>Linear Regression</th>\n",
              "      <th>Decision Tree Regressor</th>\n",
              "      <th>Ramdom Forest Regressor</th>\n",
              "      <th>Support Vector Regressor</th>\n",
              "      <th>KNearestNeighbor Regressor</th>\n",
              "      <th>XG Boost Regressor</th>\n",
              "      <th>Ada Boost Regressor</th>\n",
              "      <th>Gradient Boosting Regressor</th>\n",
              "    </tr>\n",
              "  </thead>\n",
              "  <tbody>\n",
              "    <tr>\n",
              "      <th>0</th>\n",
              "      <td>Before Parameter Tune Train Score</td>\n",
              "      <td>0.861894</td>\n",
              "      <td>1.000000</td>\n",
              "      <td>0.974350</td>\n",
              "      <td>0.624323</td>\n",
              "      <td>0.841311</td>\n",
              "      <td>0.892514</td>\n",
              "      <td>0.870372</td>\n",
              "      <td>0.893617</td>\n",
              "    </tr>\n",
              "    <tr>\n",
              "      <th>1</th>\n",
              "      <td>Before Parameter Tune Test Score</td>\n",
              "      <td>0.862035</td>\n",
              "      <td>0.747752</td>\n",
              "      <td>0.853591</td>\n",
              "      <td>-0.00344941</td>\n",
              "      <td>0.751667</td>\n",
              "      <td>0.874656</td>\n",
              "      <td>0.866144</td>\n",
              "      <td>0.874543</td>\n",
              "    </tr>\n",
              "    <tr>\n",
              "      <th>2</th>\n",
              "      <td>After Parameter Tune Train Score</td>\n",
              "      <td>NA</td>\n",
              "      <td>0.879663</td>\n",
              "      <td>0.884995</td>\n",
              "      <td>NA</td>\n",
              "      <td>0.841311</td>\n",
              "      <td>-10.057719</td>\n",
              "      <td>0.872060</td>\n",
              "      <td>0.880497</td>\n",
              "    </tr>\n",
              "    <tr>\n",
              "      <th>3</th>\n",
              "      <td>After Parameter Tune Test Score</td>\n",
              "      <td>NA</td>\n",
              "      <td>0.879663</td>\n",
              "      <td>0.870238</td>\n",
              "      <td>NA</td>\n",
              "      <td>0.751667</td>\n",
              "      <td>-9.878262</td>\n",
              "      <td>0.868115</td>\n",
              "      <td>0.873187</td>\n",
              "    </tr>\n",
              "    <tr>\n",
              "      <th>4</th>\n",
              "      <td>Before Parameter Tune RMSE Score</td>\n",
              "      <td>0.683143</td>\n",
              "      <td>0.923722</td>\n",
              "      <td>0.703739</td>\n",
              "      <td>1.84236</td>\n",
              "      <td>0.916526</td>\n",
              "      <td>0.651146</td>\n",
              "      <td>0.672894</td>\n",
              "      <td>0.651441</td>\n",
              "    </tr>\n",
              "    <tr>\n",
              "      <th>5</th>\n",
              "      <td>After Parameter Tune RMSE Score</td>\n",
              "      <td>NA</td>\n",
              "      <td>0.660553</td>\n",
              "      <td>0.662524</td>\n",
              "      <td>NA</td>\n",
              "      <td>0.916526</td>\n",
              "      <td>6.066065</td>\n",
              "      <td>0.667922</td>\n",
              "      <td>0.654950</td>\n",
              "    </tr>\n",
              "    <tr>\n",
              "      <th>6</th>\n",
              "      <td>Before Parameter Tune R2 Score</td>\n",
              "      <td>0.843877</td>\n",
              "      <td>0.759821</td>\n",
              "      <td>0.842047</td>\n",
              "      <td>-5596.66</td>\n",
              "      <td>0.718110</td>\n",
              "      <td>0.860781</td>\n",
              "      <td>0.856165</td>\n",
              "      <td>0.861211</td>\n",
              "    </tr>\n",
              "    <tr>\n",
              "      <th>7</th>\n",
              "      <td>After Parameter Tune R2 Score</td>\n",
              "      <td>NA</td>\n",
              "      <td>0.858522</td>\n",
              "      <td>0.855296</td>\n",
              "      <td>NA</td>\n",
              "      <td>0.718110</td>\n",
              "      <td>-31.403830</td>\n",
              "      <td>0.857379</td>\n",
              "      <td>0.850275</td>\n",
              "    </tr>\n",
              "  </tbody>\n",
              "</table>\n",
              "</div>"
            ],
            "text/plain": [
              "                             Metrics Linear Regression  \\\n",
              "0  Before Parameter Tune Train Score          0.861894   \n",
              "1   Before Parameter Tune Test Score          0.862035   \n",
              "2   After Parameter Tune Train Score                NA   \n",
              "3    After Parameter Tune Test Score                NA   \n",
              "4   Before Parameter Tune RMSE Score          0.683143   \n",
              "5    After Parameter Tune RMSE Score                NA   \n",
              "6     Before Parameter Tune R2 Score          0.843877   \n",
              "7      After Parameter Tune R2 Score                NA   \n",
              "\n",
              "   Decision Tree Regressor  Ramdom Forest Regressor Support Vector Regressor  \\\n",
              "0                 1.000000                 0.974350                 0.624323   \n",
              "1                 0.747752                 0.853591              -0.00344941   \n",
              "2                 0.879663                 0.884995                       NA   \n",
              "3                 0.879663                 0.870238                       NA   \n",
              "4                 0.923722                 0.703739                  1.84236   \n",
              "5                 0.660553                 0.662524                       NA   \n",
              "6                 0.759821                 0.842047                 -5596.66   \n",
              "7                 0.858522                 0.855296                       NA   \n",
              "\n",
              "   KNearestNeighbor Regressor  XG Boost Regressor  Ada Boost Regressor  \\\n",
              "0                    0.841311            0.892514             0.870372   \n",
              "1                    0.751667            0.874656             0.866144   \n",
              "2                    0.841311          -10.057719             0.872060   \n",
              "3                    0.751667           -9.878262             0.868115   \n",
              "4                    0.916526            0.651146             0.672894   \n",
              "5                    0.916526            6.066065             0.667922   \n",
              "6                    0.718110            0.860781             0.856165   \n",
              "7                    0.718110          -31.403830             0.857379   \n",
              "\n",
              "   Gradient Boosting Regressor  \n",
              "0                     0.893617  \n",
              "1                     0.874543  \n",
              "2                     0.880497  \n",
              "3                     0.873187  \n",
              "4                     0.651441  \n",
              "5                     0.654950  \n",
              "6                     0.861211  \n",
              "7                     0.850275  "
            ]
          },
          "metadata": {
            "tags": []
          },
          "execution_count": 102
        }
      ]
    },
    {
      "cell_type": "markdown",
      "metadata": {
        "id": "nl7Pg9-zgYJ-",
        "colab_type": "text"
      },
      "source": [
        "**Comparing all the models Gradient Boosting Regressor,Ada Boost Regressor and Random Forest Regressor are good models**"
      ]
    },
    {
      "cell_type": "markdown",
      "metadata": {
        "id": "vAOMjOJagYJ-",
        "colab_type": "text"
      },
      "source": [
        "### 9. Perform the Stacking models Voting and Mlxtend and analyze the metrics"
      ]
    },
    {
      "cell_type": "markdown",
      "metadata": {
        "id": "4cSp_6HWgYJ-",
        "colab_type": "text"
      },
      "source": [
        "### Voting Regressor <a id = 'vr'>"
      ]
    },
    {
      "cell_type": "code",
      "metadata": {
        "id": "ZRA9qA39gYJ_",
        "colab_type": "code",
        "colab": {}
      },
      "source": [
        "# Assigning estimator models for voting classifier\n",
        "vote_est = [('rf',rf),('lr',lr),('SVM',svm)]"
      ],
      "execution_count": null,
      "outputs": []
    },
    {
      "cell_type": "code",
      "metadata": {
        "id": "vza90_U8gYKA",
        "colab_type": "code",
        "colab": {}
      },
      "source": [
        "# Importing Voting Regressor\n",
        "from sklearn.ensemble import VotingRegressor\n",
        "vote = VotingRegressor(estimators=vote_est)"
      ],
      "execution_count": null,
      "outputs": []
    },
    {
      "cell_type": "code",
      "metadata": {
        "id": "srjs6acdgYKC",
        "colab_type": "code",
        "colab": {},
        "outputId": "8ee3c3c1-2aa0-47c9-aea3-bbc2a690eb4d"
      },
      "source": [
        "# Fitting the model\n",
        "vote.fit(x_train,y_train)"
      ],
      "execution_count": null,
      "outputs": [
        {
          "output_type": "stream",
          "text": [
            "C:\\Users\\sudha\\Anaconda3\\lib\\site-packages\\sklearn\\svm\\base.py:193: FutureWarning: The default value of gamma will change from 'auto' to 'scale' in version 0.22 to account better for unscaled features. Set gamma explicitly to 'auto' or 'scale' to avoid this warning.\n",
            "  \"avoid this warning.\", FutureWarning)\n"
          ],
          "name": "stderr"
        },
        {
          "output_type": "execute_result",
          "data": {
            "text/plain": [
              "VotingRegressor(estimators=[('rf',\n",
              "                             RandomForestRegressor(bootstrap=True,\n",
              "                                                   criterion='mse',\n",
              "                                                   max_depth=None,\n",
              "                                                   max_features='auto',\n",
              "                                                   max_leaf_nodes=None,\n",
              "                                                   min_impurity_decrease=0.0,\n",
              "                                                   min_impurity_split=None,\n",
              "                                                   min_samples_leaf=1,\n",
              "                                                   min_samples_split=2,\n",
              "                                                   min_weight_fraction_leaf=0.0,\n",
              "                                                   n_estimators=10, n_jobs=None,\n",
              "                                                   oob_score=False,\n",
              "                                                   random_state=None, verbose=0,\n",
              "                                                   warm_start=False)),\n",
              "                            ('lr',\n",
              "                             LinearRegression(copy_X=True, fit_intercept=True,\n",
              "                                              n_jobs=None, normalize=False)),\n",
              "                            ('SVM',\n",
              "                             SVR(C=1.0, cache_size=200, coef0=0.0, degree=3,\n",
              "                                 epsilon=0.1, gamma='auto_deprecated',\n",
              "                                 kernel='rbf', max_iter=-1, shrinking=True,\n",
              "                                 tol=0.001, verbose=False))],\n",
              "                n_jobs=None, weights=None)"
            ]
          },
          "metadata": {
            "tags": []
          },
          "execution_count": 114
        }
      ]
    },
    {
      "cell_type": "code",
      "metadata": {
        "id": "euoE1VFLgYKE",
        "colab_type": "code",
        "colab": {}
      },
      "source": [
        "# Testing the model\n",
        "vote_pred = vote.predict(x_test)"
      ],
      "execution_count": null,
      "outputs": []
    },
    {
      "cell_type": "code",
      "metadata": {
        "id": "JbbeIYamgYKG",
        "colab_type": "code",
        "colab": {}
      },
      "source": [
        "# Importing metrics\n",
        "from sklearn import metrics"
      ],
      "execution_count": null,
      "outputs": []
    },
    {
      "cell_type": "code",
      "metadata": {
        "id": "aAHwQ1Z_gYKI",
        "colab_type": "code",
        "colab": {},
        "outputId": "b2f674d3-9abf-40f4-fbe8-57ee33404c77"
      },
      "source": [
        "# RMSE score for Voting Regressor\n",
        "vote_rmse = np.sqrt(metrics.mean_squared_error(vote_pred,y_test))\n",
        "vote_rmse"
      ],
      "execution_count": null,
      "outputs": [
        {
          "output_type": "execute_result",
          "data": {
            "text/plain": [
              "0.8691056514327363"
            ]
          },
          "metadata": {
            "tags": []
          },
          "execution_count": 117
        }
      ]
    },
    {
      "cell_type": "code",
      "metadata": {
        "id": "gSVtiejFgYKM",
        "colab_type": "code",
        "colab": {},
        "outputId": "ad53431c-e5fd-49d5-e750-c98fbd91fac1"
      },
      "source": [
        "# R2 score for Voting Regressor\n",
        "vote_r2score = metrics.r2_score(vote_pred,y_test)\n",
        "vote_r2score"
      ],
      "execution_count": null,
      "outputs": [
        {
          "output_type": "execute_result",
          "data": {
            "text/plain": [
              "0.44165758997280846"
            ]
          },
          "metadata": {
            "tags": []
          },
          "execution_count": 118
        }
      ]
    },
    {
      "cell_type": "code",
      "metadata": {
        "id": "-jazofAcgYKT",
        "colab_type": "code",
        "colab": {},
        "outputId": "d2a173d5-599c-4c38-a6cb-d8aa6c37b36f"
      },
      "source": [
        "# Train score for Voting Regressor\n",
        "vote_train = vote.score(x_train,y_train)\n",
        "vote_train"
      ],
      "execution_count": null,
      "outputs": [
        {
          "output_type": "execute_result",
          "data": {
            "text/plain": [
              "0.8997326647531619"
            ]
          },
          "metadata": {
            "tags": []
          },
          "execution_count": 119
        }
      ]
    },
    {
      "cell_type": "code",
      "metadata": {
        "id": "ULpVJd-ugYKW",
        "colab_type": "code",
        "colab": {},
        "outputId": "6a4a54fd-7f35-41b6-9edb-bd0bb6dc4e21"
      },
      "source": [
        "# Test score for Voting Regressor\n",
        "vote_test = vote.score(x_test,y_test)\n",
        "vote_test"
      ],
      "execution_count": null,
      "outputs": [
        {
          "output_type": "execute_result",
          "data": {
            "text/plain": [
              "0.7766990562737173"
            ]
          },
          "metadata": {
            "tags": []
          },
          "execution_count": 120
        }
      ]
    },
    {
      "cell_type": "markdown",
      "metadata": {
        "id": "TcV-AFRjgYKa",
        "colab_type": "text"
      },
      "source": [
        "### Mlxtend Stacking Regressor <a id = 'msr'>"
      ]
    },
    {
      "cell_type": "code",
      "metadata": {
        "id": "7T_06K2_gYKb",
        "colab_type": "code",
        "colab": {}
      },
      "source": [
        "# mlxtend regressor\n",
        "from mlxtend.regressor import StackingRegressor"
      ],
      "execution_count": null,
      "outputs": []
    },
    {
      "cell_type": "code",
      "metadata": {
        "id": "deoaavQQgYKe",
        "colab_type": "code",
        "colab": {}
      },
      "source": [
        "# Assigning individual models to variables\n",
        "xgb = XGBRegressor()\n",
        "ada = AdaBoostRegressor()\n",
        "grad = GradientBoostingRegressor()"
      ],
      "execution_count": null,
      "outputs": []
    },
    {
      "cell_type": "code",
      "metadata": {
        "id": "XZ96GeHdgYKg",
        "colab_type": "code",
        "colab": {}
      },
      "source": [
        "# Fitting the model\n",
        "st = StackingRegressor(regressors=[dt,rf,svm,xgb,ada,grad],meta_regressor=lr)"
      ],
      "execution_count": null,
      "outputs": []
    },
    {
      "cell_type": "code",
      "metadata": {
        "id": "pgN5mMahgYKi",
        "colab_type": "code",
        "colab": {},
        "outputId": "4d810223-97ef-4e95-b9d0-4f8a0ee51742"
      },
      "source": [
        "# Training the model\n",
        "st.fit(x_train,y_train)"
      ],
      "execution_count": null,
      "outputs": [
        {
          "output_type": "stream",
          "text": [
            "C:\\Users\\sudha\\Anaconda3\\lib\\site-packages\\sklearn\\svm\\base.py:193: FutureWarning: The default value of gamma will change from 'auto' to 'scale' in version 0.22 to account better for unscaled features. Set gamma explicitly to 'auto' or 'scale' to avoid this warning.\n",
            "  \"avoid this warning.\", FutureWarning)\n"
          ],
          "name": "stderr"
        },
        {
          "output_type": "stream",
          "text": [
            "[22:51:37] WARNING: C:/Jenkins/workspace/xgboost-win64_release_0.90/src/objective/regression_obj.cu:152: reg:linear is now deprecated in favor of reg:squarederror.\n"
          ],
          "name": "stdout"
        },
        {
          "output_type": "execute_result",
          "data": {
            "text/plain": [
              "StackingRegressor(meta_regressor=LinearRegression(copy_X=True,\n",
              "                                                  fit_intercept=True,\n",
              "                                                  n_jobs=None,\n",
              "                                                  normalize=False),\n",
              "                  refit=True,\n",
              "                  regressors=[DecisionTreeRegressor(criterion='mse',\n",
              "                                                    max_depth=None,\n",
              "                                                    max_features=None,\n",
              "                                                    max_leaf_nodes=None,\n",
              "                                                    min_impurity_decrease=0.0,\n",
              "                                                    min_impurity_split=None,\n",
              "                                                    min_samples_leaf=1,\n",
              "                                                    min_samples_split=2,\n",
              "                                                    min_weight_fraction_leaf=0.0,\n",
              "                                                    presort=...\n",
              "                                                        max_leaf_nodes=None,\n",
              "                                                        min_impurity_decrease=0.0,\n",
              "                                                        min_impurity_split=None,\n",
              "                                                        min_samples_leaf=1,\n",
              "                                                        min_samples_split=2,\n",
              "                                                        min_weight_fraction_leaf=0.0,\n",
              "                                                        n_estimators=100,\n",
              "                                                        n_iter_no_change=None,\n",
              "                                                        presort='auto',\n",
              "                                                        random_state=None,\n",
              "                                                        subsample=1.0,\n",
              "                                                        tol=0.0001,\n",
              "                                                        validation_fraction=0.1,\n",
              "                                                        verbose=0,\n",
              "                                                        warm_start=False)],\n",
              "                  store_train_meta_features=False,\n",
              "                  use_features_in_secondary=False, verbose=0)"
            ]
          },
          "metadata": {
            "tags": []
          },
          "execution_count": 135
        }
      ]
    },
    {
      "cell_type": "code",
      "metadata": {
        "id": "yo13lSbkgYKn",
        "colab_type": "code",
        "colab": {}
      },
      "source": [
        "# Testing the model\n",
        "st_pred = st.predict(x_test)"
      ],
      "execution_count": null,
      "outputs": []
    },
    {
      "cell_type": "code",
      "metadata": {
        "id": "ZHFxP3ohgYKp",
        "colab_type": "code",
        "colab": {},
        "outputId": "58f102c4-dedb-4f43-fb83-aa9c934c1bee"
      },
      "source": [
        "# RMSE score for Stacking Regressor\n",
        "st_rmse = np.sqrt(metrics.mean_squared_error(st_pred,y_test))\n",
        "st_rmse"
      ],
      "execution_count": null,
      "outputs": [
        {
          "output_type": "execute_result",
          "data": {
            "text/plain": [
              "0.920823495141549"
            ]
          },
          "metadata": {
            "tags": []
          },
          "execution_count": 137
        }
      ]
    },
    {
      "cell_type": "code",
      "metadata": {
        "id": "SqCU2mFagYKs",
        "colab_type": "code",
        "colab": {},
        "outputId": "83f9fda5-2bc5-4c2b-ba19-402c630efe1b"
      },
      "source": [
        "# R2 score for Stacking Regressor\n",
        "st_r2score = metrics.r2_score(st_pred,y_test)\n",
        "st_r2score"
      ],
      "execution_count": null,
      "outputs": [
        {
          "output_type": "execute_result",
          "data": {
            "text/plain": [
              "0.7602868924506554"
            ]
          },
          "metadata": {
            "tags": []
          },
          "execution_count": 138
        }
      ]
    },
    {
      "cell_type": "code",
      "metadata": {
        "id": "Yencu1FUgYKy",
        "colab_type": "code",
        "colab": {},
        "outputId": "93d5453c-07f4-4392-b263-de9344e3e6c0"
      },
      "source": [
        "# Train score for Stacking Regressor\n",
        "st_train = st.score(x_train,y_train)\n",
        "st_train"
      ],
      "execution_count": null,
      "outputs": [
        {
          "output_type": "execute_result",
          "data": {
            "text/plain": [
              "0.9999999999777837"
            ]
          },
          "metadata": {
            "tags": []
          },
          "execution_count": 139
        }
      ]
    },
    {
      "cell_type": "code",
      "metadata": {
        "id": "9Dpom1X0gYKz",
        "colab_type": "code",
        "colab": {},
        "outputId": "e32304f5-0822-4c91-d5b4-59ad59e8f843"
      },
      "source": [
        "# Test score for Stacking Regressor\n",
        "st_test = st.score(x_test,y_test)\n",
        "st_test"
      ],
      "execution_count": null,
      "outputs": [
        {
          "output_type": "execute_result",
          "data": {
            "text/plain": [
              "0.7493324048843506"
            ]
          },
          "metadata": {
            "tags": []
          },
          "execution_count": 140
        }
      ]
    },
    {
      "cell_type": "markdown",
      "metadata": {
        "id": "AlEqIh9YgYK3",
        "colab_type": "text"
      },
      "source": [
        "### 10. Create a dataframe with model Stacking model names and metric scores and compare along with the first dataframe and give inference"
      ]
    },
    {
      "cell_type": "code",
      "metadata": {
        "id": "cOIpCU-7gYK3",
        "colab_type": "code",
        "colab": {}
      },
      "source": [
        "# Creating dictionary for all the metrics and converting it to dataframe\n",
        "metrics_stack = {'Models': ['Voting Regressor','Stacking Regressor'],'RMSE score':[vote_rmse,st_rmse],'R2 Score':[vote_rmse,st_rmse],'Train score':[vote_train,st_train],'Test score':[vote_test,st_test]}\n",
        "\n",
        "metrics_stack = pd.DataFrame(metrics_stack)"
      ],
      "execution_count": null,
      "outputs": []
    },
    {
      "cell_type": "code",
      "metadata": {
        "id": "9OQdAZmRgYK7",
        "colab_type": "code",
        "colab": {},
        "outputId": "7f460e49-60c4-4cc8-a85d-ffac9bd73797"
      },
      "source": [
        "# Dataframe\n",
        "metrics_stack"
      ],
      "execution_count": null,
      "outputs": [
        {
          "output_type": "execute_result",
          "data": {
            "text/html": [
              "<div>\n",
              "<style scoped>\n",
              "    .dataframe tbody tr th:only-of-type {\n",
              "        vertical-align: middle;\n",
              "    }\n",
              "\n",
              "    .dataframe tbody tr th {\n",
              "        vertical-align: top;\n",
              "    }\n",
              "\n",
              "    .dataframe thead th {\n",
              "        text-align: right;\n",
              "    }\n",
              "</style>\n",
              "<table border=\"1\" class=\"dataframe\">\n",
              "  <thead>\n",
              "    <tr style=\"text-align: right;\">\n",
              "      <th></th>\n",
              "      <th>Models</th>\n",
              "      <th>RMSE score</th>\n",
              "      <th>R2 Score</th>\n",
              "      <th>Train score</th>\n",
              "      <th>Test score</th>\n",
              "    </tr>\n",
              "  </thead>\n",
              "  <tbody>\n",
              "    <tr>\n",
              "      <th>0</th>\n",
              "      <td>Voting Regressor</td>\n",
              "      <td>0.869106</td>\n",
              "      <td>0.869106</td>\n",
              "      <td>0.899733</td>\n",
              "      <td>0.776699</td>\n",
              "    </tr>\n",
              "    <tr>\n",
              "      <th>1</th>\n",
              "      <td>Stacking Regressor</td>\n",
              "      <td>0.924519</td>\n",
              "      <td>0.924519</td>\n",
              "      <td>1.000000</td>\n",
              "      <td>0.747316</td>\n",
              "    </tr>\n",
              "  </tbody>\n",
              "</table>\n",
              "</div>"
            ],
            "text/plain": [
              "               Models  RMSE score  R2 Score  Train score  Test score\n",
              "0    Voting Regressor    0.869106  0.869106     0.899733    0.776699\n",
              "1  Stacking Regressor    0.924519  0.924519     1.000000    0.747316"
            ]
          },
          "metadata": {
            "tags": []
          },
          "execution_count": 141
        }
      ]
    },
    {
      "cell_type": "markdown",
      "metadata": {
        "id": "qIIJ_3d_gYK_",
        "colab_type": "text"
      },
      "source": [
        "**The best model being Voting Regressor as Stacking Regressor is Overfitting**"
      ]
    },
    {
      "cell_type": "markdown",
      "metadata": {
        "id": "Z1r4AZTogYLA",
        "colab_type": "text"
      },
      "source": [
        "### 11. Perform Vecstack,analyze and give your inference"
      ]
    },
    {
      "cell_type": "code",
      "metadata": {
        "id": "aeob28HsgYLA",
        "colab_type": "code",
        "colab": {}
      },
      "source": [
        "# Importing Vecstack\n",
        "from vecstack import stacking"
      ],
      "execution_count": null,
      "outputs": []
    },
    {
      "cell_type": "code",
      "metadata": {
        "id": "h1g0wTMDgYLB",
        "colab_type": "code",
        "colab": {},
        "outputId": "eb44b186-0392-4408-d91e-340ca02d6f88"
      },
      "source": [
        "#1st level model\n",
        "models = [lr,rf,dt,svm]\n",
        "S_train, S_test = stacking(models, x_train, y_train, x_test, \n",
        "    regression = True, metric = metrics.r2_score, n_folds = 4 , \n",
        "    shuffle = True, random_state = 0, verbose = 2)"
      ],
      "execution_count": null,
      "outputs": [
        {
          "output_type": "stream",
          "text": [
            "task:         [regression]\n",
            "metric:       [r2_score]\n",
            "mode:         [oof_pred_bag]\n",
            "n_models:     [4]\n",
            "\n",
            "model  0:     [LinearRegression]\n",
            "    fold  0:  [0.86129929]\n",
            "    fold  1:  [0.86179647]\n",
            "    fold  2:  [0.86393086]\n",
            "    fold  3:  [0.85650424]\n",
            "    ----\n",
            "    MEAN:     [0.86088272] + [0.00271435]\n",
            "    FULL:     [0.86090926]\n",
            "\n",
            "model  1:     [RandomForestRegressor]\n",
            "    fold  0:  [0.85254480]\n",
            "    fold  1:  [0.84878838]\n",
            "    fold  2:  [0.85181960]\n",
            "    fold  3:  [0.85048550]\n",
            "    ----\n",
            "    MEAN:     [0.85090957] + [0.00143016]\n",
            "    FULL:     [0.85094241]\n",
            "\n",
            "model  2:     [DecisionTreeRegressor]\n",
            "    fold  0:  [0.75120752]\n",
            "    fold  1:  [0.75423302]\n",
            "    fold  2:  [0.76533808]\n",
            "    fold  3:  [0.74238611]\n",
            "    ----\n",
            "    MEAN:     [0.75329118] + [0.00820483]\n",
            "    FULL:     [0.75337227]\n",
            "\n",
            "model  3:     [SVR]\n"
          ],
          "name": "stdout"
        },
        {
          "output_type": "stream",
          "text": [
            "C:\\Users\\sudha\\Anaconda3\\lib\\site-packages\\sklearn\\svm\\base.py:193: FutureWarning: The default value of gamma will change from 'auto' to 'scale' in version 0.22 to account better for unscaled features. Set gamma explicitly to 'auto' or 'scale' to avoid this warning.\n",
            "  \"avoid this warning.\", FutureWarning)\n"
          ],
          "name": "stderr"
        },
        {
          "output_type": "stream",
          "text": [
            "    fold  0:  [0.00130306]\n"
          ],
          "name": "stdout"
        },
        {
          "output_type": "stream",
          "text": [
            "C:\\Users\\sudha\\Anaconda3\\lib\\site-packages\\sklearn\\svm\\base.py:193: FutureWarning: The default value of gamma will change from 'auto' to 'scale' in version 0.22 to account better for unscaled features. Set gamma explicitly to 'auto' or 'scale' to avoid this warning.\n",
            "  \"avoid this warning.\", FutureWarning)\n"
          ],
          "name": "stderr"
        },
        {
          "output_type": "stream",
          "text": [
            "    fold  1:  [-0.00134484]\n"
          ],
          "name": "stdout"
        },
        {
          "output_type": "stream",
          "text": [
            "C:\\Users\\sudha\\Anaconda3\\lib\\site-packages\\sklearn\\svm\\base.py:193: FutureWarning: The default value of gamma will change from 'auto' to 'scale' in version 0.22 to account better for unscaled features. Set gamma explicitly to 'auto' or 'scale' to avoid this warning.\n",
            "  \"avoid this warning.\", FutureWarning)\n"
          ],
          "name": "stderr"
        },
        {
          "output_type": "stream",
          "text": [
            "    fold  2:  [0.00223291]\n"
          ],
          "name": "stdout"
        },
        {
          "output_type": "stream",
          "text": [
            "C:\\Users\\sudha\\Anaconda3\\lib\\site-packages\\sklearn\\svm\\base.py:193: FutureWarning: The default value of gamma will change from 'auto' to 'scale' in version 0.22 to account better for unscaled features. Set gamma explicitly to 'auto' or 'scale' to avoid this warning.\n",
            "  \"avoid this warning.\", FutureWarning)\n"
          ],
          "name": "stderr"
        },
        {
          "output_type": "stream",
          "text": [
            "    fold  3:  [0.00188645]\n",
            "    ----\n",
            "    MEAN:     [0.00101939] + [0.00140485]\n",
            "    FULL:     [0.00118044]\n",
            "\n"
          ],
          "name": "stdout"
        }
      ]
    },
    {
      "cell_type": "markdown",
      "metadata": {
        "id": "5VHjzxRagYLD",
        "colab_type": "text"
      },
      "source": [
        "**Comparing all the 4 Linear Regression and Random Forest Regressor are the best models**"
      ]
    },
    {
      "cell_type": "code",
      "metadata": {
        "id": "96BeHcgYgYLD",
        "colab_type": "code",
        "colab": {},
        "outputId": "e9ef9921-95da-47eb-ec87-edfce3d9c415"
      },
      "source": [
        "#2nd level model\n",
        "models = [knn,xgb,grad,ada]\n",
        "S_train, S_test = stacking(models, x_train, y_train, x_test, \n",
        "    regression = True, metric = metrics.r2_score, n_folds = 4 , \n",
        "    shuffle = True, random_state = 0, verbose = 2)"
      ],
      "execution_count": null,
      "outputs": [
        {
          "output_type": "stream",
          "text": [
            "task:         [regression]\n",
            "metric:       [r2_score]\n",
            "mode:         [oof_pred_bag]\n",
            "n_models:     [4]\n",
            "\n",
            "model  0:     [KNeighborsRegressor]\n",
            "    fold  0:  [0.75783272]\n",
            "    fold  1:  [0.77108783]\n",
            "    fold  2:  [0.77487298]\n",
            "    fold  3:  [0.75201717]\n",
            "    ----\n",
            "    MEAN:     [0.76395267] + [0.00935513]\n",
            "    FULL:     [0.76400404]\n",
            "\n",
            "model  1:     [XGBRegressor]\n",
            "[22:53:50] WARNING: C:/Jenkins/workspace/xgboost-win64_release_0.90/src/objective/regression_obj.cu:152: reg:linear is now deprecated in favor of reg:squarederror.\n",
            "    fold  0:  [0.87295113]\n",
            "[22:53:50] WARNING: C:/Jenkins/workspace/xgboost-win64_release_0.90/src/objective/regression_obj.cu:152: reg:linear is now deprecated in favor of reg:squarederror.\n",
            "    fold  1:  [0.87594750]\n",
            "[22:53:50] WARNING: C:/Jenkins/workspace/xgboost-win64_release_0.90/src/objective/regression_obj.cu:152: reg:linear is now deprecated in favor of reg:squarederror.\n",
            "    fold  2:  [0.87386866]\n",
            "[22:53:50] WARNING: C:/Jenkins/workspace/xgboost-win64_release_0.90/src/objective/regression_obj.cu:152: reg:linear is now deprecated in favor of reg:squarederror.\n",
            "    fold  3:  [0.87307728]\n",
            "    ----\n",
            "    MEAN:     [0.87396115] + [0.00119953]\n",
            "    FULL:     [0.87397093]\n",
            "\n",
            "model  2:     [GradientBoostingRegressor]\n",
            "    fold  0:  [0.87255012]\n",
            "    fold  1:  [0.87448846]\n",
            "    fold  2:  [0.87468682]\n",
            "    fold  3:  [0.87232027]\n",
            "    ----\n",
            "    MEAN:     [0.87351142] + [0.00108156]\n",
            "    FULL:     [0.87353111]\n",
            "\n",
            "model  3:     [AdaBoostRegressor]\n",
            "    fold  0:  [0.86330055]\n",
            "    fold  1:  [0.86622750]\n",
            "    fold  2:  [0.86598350]\n",
            "    fold  3:  [0.86567376]\n",
            "    ----\n",
            "    MEAN:     [0.86529633] + [0.00116885]\n",
            "    FULL:     [0.86531744]\n",
            "\n"
          ],
          "name": "stdout"
        }
      ]
    },
    {
      "cell_type": "markdown",
      "metadata": {
        "id": "D1h4HCoGgYLG",
        "colab_type": "text"
      },
      "source": [
        "**Comparing all the 4 models Gradient Boosting and Ada Boost Regressor are good models**"
      ]
    },
    {
      "cell_type": "markdown",
      "metadata": {
        "id": "bKoTGUb4gYLG",
        "colab_type": "text"
      },
      "source": [
        "### 12. Give the final inference for all the models you have created"
      ]
    },
    {
      "cell_type": "markdown",
      "metadata": {
        "id": "Vr-YqQFngYLH",
        "colab_type": "text"
      },
      "source": [
        "Comparing the two Vecstacks created the models Gradient Boosting,Ada Boost Regressor and Linear Regression are best models"
      ]
    },
    {
      "cell_type": "code",
      "metadata": {
        "id": "20BSIYRegYLH",
        "colab_type": "code",
        "colab": {}
      },
      "source": [
        ""
      ],
      "execution_count": null,
      "outputs": []
    }
  ]
}