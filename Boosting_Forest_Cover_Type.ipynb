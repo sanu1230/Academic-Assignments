{
  "nbformat": 4,
  "nbformat_minor": 0,
  "metadata": {
    "colab": {
      "name": "Boosting - Forest Cover Type.ipynb",
      "provenance": [],
      "collapsed_sections": [],
      "toc_visible": true,
      "include_colab_link": true
    },
    "kernelspec": {
      "display_name": "Python 3",
      "language": "python",
      "name": "python3"
    },
    "language_info": {
      "codemirror_mode": {
        "name": "ipython",
        "version": 3
      },
      "file_extension": ".py",
      "mimetype": "text/x-python",
      "name": "python",
      "nbconvert_exporter": "python",
      "pygments_lexer": "ipython3",
      "version": "3.7.1"
    }
  },
  "cells": [
    {
      "cell_type": "markdown",
      "metadata": {
        "id": "view-in-github",
        "colab_type": "text"
      },
      "source": [
        "<a href=\"https://colab.research.google.com/github/sanu1230/Assignments/blob/master/Boosting_Forest_Cover_Type.ipynb\" target=\"_parent\"><img src=\"https://colab.research.google.com/assets/colab-badge.svg\" alt=\"Open In Colab\"/></a>"
      ]
    },
    {
      "cell_type": "markdown",
      "metadata": {
        "id": "v-KSSsZlw8QR",
        "colab_type": "text"
      },
      "source": [
        "# Boosting Assignment Solution"
      ]
    },
    {
      "cell_type": "markdown",
      "metadata": {
        "id": "7PqNKXTDw8QT",
        "colab_type": "text"
      },
      "source": [
        "### FOREST COVER TYPE"
      ]
    },
    {
      "cell_type": "markdown",
      "metadata": {
        "id": "vhPtP8ZVw8QU",
        "colab_type": "text"
      },
      "source": [
        "**Dataset Description**"
      ]
    },
    {
      "cell_type": "markdown",
      "metadata": {
        "id": "6_e7XkA0w8QU",
        "colab_type": "text"
      },
      "source": [
        "1. Elevation - Elevation in meters\n",
        "\n",
        "2. Aspect - Aspect in degrees azimuth\n",
        "\n",
        "3. Slope - Slope in degrees\n",
        "\n",
        "4. Horizontal_Distance_To_Hydrology - Horz Dist to nearest surface water features\n",
        "\n",
        "5. Vertical_Distance_To_Hydrology - Vert Dist to nearest surface water features\n",
        "\n",
        "6. Horizontal_Distance_To_Roadways - Horz Dist to nearest roadway\n",
        "\n",
        "7. Hillshade_9am - Hillshade index at 9am, summer solstice\n",
        "\n",
        "8. Hillshade_Noon - Hillshade index at noon, summer soltice\n",
        "\n",
        "9. Hillshade_3pm - Hillshade index at 3pm, summer solstice\n",
        "\n",
        "10. Horizontal_Distance_To_Fire_Points - Horz Dist to nearest wildfire ignition points\n",
        "\n",
        "11. Wilderness_Area (4 binary columns) - Wilderness area designation\n",
        "\n",
        "12. Soil_Type (40 binary columns) - Soil Type designation\n",
        "\n",
        "13. Cover_Type (7 types) - Forest Cover Type designation"
      ]
    },
    {
      "cell_type": "markdown",
      "metadata": {
        "id": "RJ1CVSDyw8QV",
        "colab_type": "text"
      },
      "source": [
        "### 1. Import the relevant packages and Read the dataset"
      ]
    },
    {
      "cell_type": "code",
      "metadata": {
        "colab_type": "code",
        "id": "ChHwkwDBUa4z",
        "colab": {}
      },
      "source": [
        "# Importing the packages\n",
        "import pandas as pd\n",
        "import numpy as np\n",
        "import matplotlib.pyplot as plt\n",
        "import seaborn as sns"
      ],
      "execution_count": 52,
      "outputs": []
    },
    {
      "cell_type": "code",
      "metadata": {
        "id": "cpqZRMapyx3s",
        "colab_type": "code",
        "colab": {
          "base_uri": "https://localhost:8080/",
          "height": 34
        },
        "outputId": "827191b7-685e-43dc-acdc-38911a5578a1"
      },
      "source": [
        "from google.colab import drive\n",
        "drive.mount('/content/drive')"
      ],
      "execution_count": 53,
      "outputs": [
        {
          "output_type": "stream",
          "text": [
            "Drive already mounted at /content/drive; to attempt to forcibly remount, call drive.mount(\"/content/drive\", force_remount=True).\n"
          ],
          "name": "stdout"
        }
      ]
    },
    {
      "cell_type": "code",
      "metadata": {
        "colab_type": "code",
        "id": "BGN3WcEwUouP",
        "colab": {}
      },
      "source": [
        "# Reading the dataset\n",
        "forest = pd.read_csv('/content/drive/My Drive/Colab Notebooks/UpX/Ensemble(Boosting, Bagging & Stacking)/covtype.csv')"
      ],
      "execution_count": 199,
      "outputs": []
    },
    {
      "cell_type": "markdown",
      "metadata": {
        "id": "Vrm2kcRWw8Qg",
        "colab_type": "text"
      },
      "source": [
        "### 2. Explore the Dataset"
      ]
    },
    {
      "cell_type": "code",
      "metadata": {
        "colab_type": "code",
        "id": "WwM_DIfxUrT6",
        "colab": {
          "base_uri": "https://localhost:8080/",
          "height": 215
        },
        "outputId": "1ea64abe-9061-4526-b4e3-dba5bad39257"
      },
      "source": [
        "# Getting the head of the dataset\n",
        "forest.head()"
      ],
      "execution_count": 200,
      "outputs": [
        {
          "output_type": "execute_result",
          "data": {
            "text/html": [
              "<div>\n",
              "<style scoped>\n",
              "    .dataframe tbody tr th:only-of-type {\n",
              "        vertical-align: middle;\n",
              "    }\n",
              "\n",
              "    .dataframe tbody tr th {\n",
              "        vertical-align: top;\n",
              "    }\n",
              "\n",
              "    .dataframe thead th {\n",
              "        text-align: right;\n",
              "    }\n",
              "</style>\n",
              "<table border=\"1\" class=\"dataframe\">\n",
              "  <thead>\n",
              "    <tr style=\"text-align: right;\">\n",
              "      <th></th>\n",
              "      <th>Elevation</th>\n",
              "      <th>Aspect</th>\n",
              "      <th>Slope</th>\n",
              "      <th>Horizontal_Distance_To_Hydrology</th>\n",
              "      <th>Vertical_Distance_To_Hydrology</th>\n",
              "      <th>Horizontal_Distance_To_Roadways</th>\n",
              "      <th>Hillshade_9am</th>\n",
              "      <th>Hillshade_Noon</th>\n",
              "      <th>Hillshade_3pm</th>\n",
              "      <th>Horizontal_Distance_To_Fire_Points</th>\n",
              "      <th>Wilderness_Area1</th>\n",
              "      <th>Wilderness_Area2</th>\n",
              "      <th>Wilderness_Area3</th>\n",
              "      <th>Wilderness_Area4</th>\n",
              "      <th>Soil_Type1</th>\n",
              "      <th>Soil_Type2</th>\n",
              "      <th>Soil_Type3</th>\n",
              "      <th>Soil_Type4</th>\n",
              "      <th>Soil_Type5</th>\n",
              "      <th>Soil_Type6</th>\n",
              "      <th>Soil_Type7</th>\n",
              "      <th>Soil_Type8</th>\n",
              "      <th>Soil_Type9</th>\n",
              "      <th>Soil_Type10</th>\n",
              "      <th>Soil_Type11</th>\n",
              "      <th>Soil_Type12</th>\n",
              "      <th>Soil_Type13</th>\n",
              "      <th>Soil_Type14</th>\n",
              "      <th>Soil_Type15</th>\n",
              "      <th>Soil_Type16</th>\n",
              "      <th>Soil_Type17</th>\n",
              "      <th>Soil_Type18</th>\n",
              "      <th>Soil_Type19</th>\n",
              "      <th>Soil_Type20</th>\n",
              "      <th>Soil_Type21</th>\n",
              "      <th>Soil_Type22</th>\n",
              "      <th>Soil_Type23</th>\n",
              "      <th>Soil_Type24</th>\n",
              "      <th>Soil_Type25</th>\n",
              "      <th>Soil_Type26</th>\n",
              "      <th>Soil_Type27</th>\n",
              "      <th>Soil_Type28</th>\n",
              "      <th>Soil_Type29</th>\n",
              "      <th>Soil_Type30</th>\n",
              "      <th>Soil_Type31</th>\n",
              "      <th>Soil_Type32</th>\n",
              "      <th>Soil_Type33</th>\n",
              "      <th>Soil_Type34</th>\n",
              "      <th>Soil_Type35</th>\n",
              "      <th>Soil_Type36</th>\n",
              "      <th>Soil_Type37</th>\n",
              "      <th>Soil_Type38</th>\n",
              "      <th>Soil_Type39</th>\n",
              "      <th>Soil_Type40</th>\n",
              "      <th>Cover_Type</th>\n",
              "    </tr>\n",
              "  </thead>\n",
              "  <tbody>\n",
              "    <tr>\n",
              "      <th>0</th>\n",
              "      <td>2596</td>\n",
              "      <td>51</td>\n",
              "      <td>3</td>\n",
              "      <td>258</td>\n",
              "      <td>0</td>\n",
              "      <td>510</td>\n",
              "      <td>221</td>\n",
              "      <td>232</td>\n",
              "      <td>148</td>\n",
              "      <td>6279</td>\n",
              "      <td>1</td>\n",
              "      <td>0</td>\n",
              "      <td>0</td>\n",
              "      <td>0</td>\n",
              "      <td>0</td>\n",
              "      <td>0</td>\n",
              "      <td>0</td>\n",
              "      <td>0</td>\n",
              "      <td>0</td>\n",
              "      <td>0</td>\n",
              "      <td>0</td>\n",
              "      <td>0</td>\n",
              "      <td>0</td>\n",
              "      <td>0</td>\n",
              "      <td>0</td>\n",
              "      <td>0</td>\n",
              "      <td>0</td>\n",
              "      <td>0</td>\n",
              "      <td>0</td>\n",
              "      <td>0</td>\n",
              "      <td>0</td>\n",
              "      <td>0</td>\n",
              "      <td>0</td>\n",
              "      <td>0</td>\n",
              "      <td>0</td>\n",
              "      <td>0</td>\n",
              "      <td>0</td>\n",
              "      <td>0</td>\n",
              "      <td>0</td>\n",
              "      <td>0</td>\n",
              "      <td>0</td>\n",
              "      <td>0</td>\n",
              "      <td>1</td>\n",
              "      <td>0</td>\n",
              "      <td>0</td>\n",
              "      <td>0</td>\n",
              "      <td>0</td>\n",
              "      <td>0</td>\n",
              "      <td>0</td>\n",
              "      <td>0</td>\n",
              "      <td>0</td>\n",
              "      <td>0</td>\n",
              "      <td>0</td>\n",
              "      <td>0</td>\n",
              "      <td>5</td>\n",
              "    </tr>\n",
              "    <tr>\n",
              "      <th>1</th>\n",
              "      <td>2590</td>\n",
              "      <td>56</td>\n",
              "      <td>2</td>\n",
              "      <td>212</td>\n",
              "      <td>-6</td>\n",
              "      <td>390</td>\n",
              "      <td>220</td>\n",
              "      <td>235</td>\n",
              "      <td>151</td>\n",
              "      <td>6225</td>\n",
              "      <td>1</td>\n",
              "      <td>0</td>\n",
              "      <td>0</td>\n",
              "      <td>0</td>\n",
              "      <td>0</td>\n",
              "      <td>0</td>\n",
              "      <td>0</td>\n",
              "      <td>0</td>\n",
              "      <td>0</td>\n",
              "      <td>0</td>\n",
              "      <td>0</td>\n",
              "      <td>0</td>\n",
              "      <td>0</td>\n",
              "      <td>0</td>\n",
              "      <td>0</td>\n",
              "      <td>0</td>\n",
              "      <td>0</td>\n",
              "      <td>0</td>\n",
              "      <td>0</td>\n",
              "      <td>0</td>\n",
              "      <td>0</td>\n",
              "      <td>0</td>\n",
              "      <td>0</td>\n",
              "      <td>0</td>\n",
              "      <td>0</td>\n",
              "      <td>0</td>\n",
              "      <td>0</td>\n",
              "      <td>0</td>\n",
              "      <td>0</td>\n",
              "      <td>0</td>\n",
              "      <td>0</td>\n",
              "      <td>0</td>\n",
              "      <td>1</td>\n",
              "      <td>0</td>\n",
              "      <td>0</td>\n",
              "      <td>0</td>\n",
              "      <td>0</td>\n",
              "      <td>0</td>\n",
              "      <td>0</td>\n",
              "      <td>0</td>\n",
              "      <td>0</td>\n",
              "      <td>0</td>\n",
              "      <td>0</td>\n",
              "      <td>0</td>\n",
              "      <td>5</td>\n",
              "    </tr>\n",
              "    <tr>\n",
              "      <th>2</th>\n",
              "      <td>2804</td>\n",
              "      <td>139</td>\n",
              "      <td>9</td>\n",
              "      <td>268</td>\n",
              "      <td>65</td>\n",
              "      <td>3180</td>\n",
              "      <td>234</td>\n",
              "      <td>238</td>\n",
              "      <td>135</td>\n",
              "      <td>6121</td>\n",
              "      <td>1</td>\n",
              "      <td>0</td>\n",
              "      <td>0</td>\n",
              "      <td>0</td>\n",
              "      <td>0</td>\n",
              "      <td>0</td>\n",
              "      <td>0</td>\n",
              "      <td>0</td>\n",
              "      <td>0</td>\n",
              "      <td>0</td>\n",
              "      <td>0</td>\n",
              "      <td>0</td>\n",
              "      <td>0</td>\n",
              "      <td>0</td>\n",
              "      <td>0</td>\n",
              "      <td>1</td>\n",
              "      <td>0</td>\n",
              "      <td>0</td>\n",
              "      <td>0</td>\n",
              "      <td>0</td>\n",
              "      <td>0</td>\n",
              "      <td>0</td>\n",
              "      <td>0</td>\n",
              "      <td>0</td>\n",
              "      <td>0</td>\n",
              "      <td>0</td>\n",
              "      <td>0</td>\n",
              "      <td>0</td>\n",
              "      <td>0</td>\n",
              "      <td>0</td>\n",
              "      <td>0</td>\n",
              "      <td>0</td>\n",
              "      <td>0</td>\n",
              "      <td>0</td>\n",
              "      <td>0</td>\n",
              "      <td>0</td>\n",
              "      <td>0</td>\n",
              "      <td>0</td>\n",
              "      <td>0</td>\n",
              "      <td>0</td>\n",
              "      <td>0</td>\n",
              "      <td>0</td>\n",
              "      <td>0</td>\n",
              "      <td>0</td>\n",
              "      <td>2</td>\n",
              "    </tr>\n",
              "    <tr>\n",
              "      <th>3</th>\n",
              "      <td>2785</td>\n",
              "      <td>155</td>\n",
              "      <td>18</td>\n",
              "      <td>242</td>\n",
              "      <td>118</td>\n",
              "      <td>3090</td>\n",
              "      <td>238</td>\n",
              "      <td>238</td>\n",
              "      <td>122</td>\n",
              "      <td>6211</td>\n",
              "      <td>1</td>\n",
              "      <td>0</td>\n",
              "      <td>0</td>\n",
              "      <td>0</td>\n",
              "      <td>0</td>\n",
              "      <td>0</td>\n",
              "      <td>0</td>\n",
              "      <td>0</td>\n",
              "      <td>0</td>\n",
              "      <td>0</td>\n",
              "      <td>0</td>\n",
              "      <td>0</td>\n",
              "      <td>0</td>\n",
              "      <td>0</td>\n",
              "      <td>0</td>\n",
              "      <td>0</td>\n",
              "      <td>0</td>\n",
              "      <td>0</td>\n",
              "      <td>0</td>\n",
              "      <td>0</td>\n",
              "      <td>0</td>\n",
              "      <td>0</td>\n",
              "      <td>0</td>\n",
              "      <td>0</td>\n",
              "      <td>0</td>\n",
              "      <td>0</td>\n",
              "      <td>0</td>\n",
              "      <td>0</td>\n",
              "      <td>0</td>\n",
              "      <td>0</td>\n",
              "      <td>0</td>\n",
              "      <td>0</td>\n",
              "      <td>0</td>\n",
              "      <td>1</td>\n",
              "      <td>0</td>\n",
              "      <td>0</td>\n",
              "      <td>0</td>\n",
              "      <td>0</td>\n",
              "      <td>0</td>\n",
              "      <td>0</td>\n",
              "      <td>0</td>\n",
              "      <td>0</td>\n",
              "      <td>0</td>\n",
              "      <td>0</td>\n",
              "      <td>2</td>\n",
              "    </tr>\n",
              "    <tr>\n",
              "      <th>4</th>\n",
              "      <td>2595</td>\n",
              "      <td>45</td>\n",
              "      <td>2</td>\n",
              "      <td>153</td>\n",
              "      <td>-1</td>\n",
              "      <td>391</td>\n",
              "      <td>220</td>\n",
              "      <td>234</td>\n",
              "      <td>150</td>\n",
              "      <td>6172</td>\n",
              "      <td>1</td>\n",
              "      <td>0</td>\n",
              "      <td>0</td>\n",
              "      <td>0</td>\n",
              "      <td>0</td>\n",
              "      <td>0</td>\n",
              "      <td>0</td>\n",
              "      <td>0</td>\n",
              "      <td>0</td>\n",
              "      <td>0</td>\n",
              "      <td>0</td>\n",
              "      <td>0</td>\n",
              "      <td>0</td>\n",
              "      <td>0</td>\n",
              "      <td>0</td>\n",
              "      <td>0</td>\n",
              "      <td>0</td>\n",
              "      <td>0</td>\n",
              "      <td>0</td>\n",
              "      <td>0</td>\n",
              "      <td>0</td>\n",
              "      <td>0</td>\n",
              "      <td>0</td>\n",
              "      <td>0</td>\n",
              "      <td>0</td>\n",
              "      <td>0</td>\n",
              "      <td>0</td>\n",
              "      <td>0</td>\n",
              "      <td>0</td>\n",
              "      <td>0</td>\n",
              "      <td>0</td>\n",
              "      <td>0</td>\n",
              "      <td>1</td>\n",
              "      <td>0</td>\n",
              "      <td>0</td>\n",
              "      <td>0</td>\n",
              "      <td>0</td>\n",
              "      <td>0</td>\n",
              "      <td>0</td>\n",
              "      <td>0</td>\n",
              "      <td>0</td>\n",
              "      <td>0</td>\n",
              "      <td>0</td>\n",
              "      <td>0</td>\n",
              "      <td>5</td>\n",
              "    </tr>\n",
              "  </tbody>\n",
              "</table>\n",
              "</div>"
            ],
            "text/plain": [
              "   Elevation  Aspect  Slope  ...  Soil_Type39  Soil_Type40  Cover_Type\n",
              "0       2596      51      3  ...            0            0           5\n",
              "1       2590      56      2  ...            0            0           5\n",
              "2       2804     139      9  ...            0            0           2\n",
              "3       2785     155     18  ...            0            0           2\n",
              "4       2595      45      2  ...            0            0           5\n",
              "\n",
              "[5 rows x 55 columns]"
            ]
          },
          "metadata": {
            "tags": []
          },
          "execution_count": 200
        }
      ]
    },
    {
      "cell_type": "code",
      "metadata": {
        "colab_type": "code",
        "id": "dgzcx2dJUt4_",
        "colab": {
          "base_uri": "https://localhost:8080/",
          "height": 151
        },
        "outputId": "b38a3bd1-456b-4f76-8280-07d70d3fe873"
      },
      "source": [
        "# Value counts for COVER TYPE column\n",
        "forest['Cover_Type'].value_counts()"
      ],
      "execution_count": 201,
      "outputs": [
        {
          "output_type": "execute_result",
          "data": {
            "text/plain": [
              "2    283301\n",
              "1    211840\n",
              "3     35754\n",
              "7     20510\n",
              "6     17367\n",
              "5      9493\n",
              "4      2747\n",
              "Name: Cover_Type, dtype: int64"
            ]
          },
          "metadata": {
            "tags": []
          },
          "execution_count": 201
        }
      ]
    },
    {
      "cell_type": "code",
      "metadata": {
        "colab_type": "code",
        "id": "ZyEx_rO6UwHw",
        "colab": {
          "base_uri": "https://localhost:8080/",
          "height": 34
        },
        "outputId": "c348df13-5586-4c59-931e-e1045fe6341c"
      },
      "source": [
        "# Shape of the dataset\n",
        "forest.shape"
      ],
      "execution_count": 202,
      "outputs": [
        {
          "output_type": "execute_result",
          "data": {
            "text/plain": [
              "(581012, 55)"
            ]
          },
          "metadata": {
            "tags": []
          },
          "execution_count": 202
        }
      ]
    },
    {
      "cell_type": "markdown",
      "metadata": {
        "id": "MnamYkWmMlDy",
        "colab_type": "text"
      },
      "source": [
        "#### Sampling"
      ]
    },
    {
      "cell_type": "code",
      "metadata": {
        "id": "jJI_ys8yMkPm",
        "colab_type": "code",
        "colab": {
          "base_uri": "https://localhost:8080/",
          "height": 34
        },
        "outputId": "5f90a6c8-a3b2-45f0-9675-3379bb3b521c"
      },
      "source": [
        "forest = forest.sample(frac=0.5)\n",
        "forest.shape"
      ],
      "execution_count": 203,
      "outputs": [
        {
          "output_type": "execute_result",
          "data": {
            "text/plain": [
              "(290506, 55)"
            ]
          },
          "metadata": {
            "tags": []
          },
          "execution_count": 203
        }
      ]
    },
    {
      "cell_type": "code",
      "metadata": {
        "colab_type": "code",
        "id": "WQWA1USfUxzK",
        "colab": {
          "base_uri": "https://localhost:8080/",
          "height": 1000
        },
        "outputId": "33b452d6-ea8a-40db-f95f-89d4fab88210"
      },
      "source": [
        "# Info of the dataset\n",
        "forest.info()"
      ],
      "execution_count": 204,
      "outputs": [
        {
          "output_type": "stream",
          "text": [
            "<class 'pandas.core.frame.DataFrame'>\n",
            "Int64Index: 290506 entries, 185525 to 130774\n",
            "Data columns (total 55 columns):\n",
            " #   Column                              Non-Null Count   Dtype\n",
            "---  ------                              --------------   -----\n",
            " 0   Elevation                           290506 non-null  int64\n",
            " 1   Aspect                              290506 non-null  int64\n",
            " 2   Slope                               290506 non-null  int64\n",
            " 3   Horizontal_Distance_To_Hydrology    290506 non-null  int64\n",
            " 4   Vertical_Distance_To_Hydrology      290506 non-null  int64\n",
            " 5   Horizontal_Distance_To_Roadways     290506 non-null  int64\n",
            " 6   Hillshade_9am                       290506 non-null  int64\n",
            " 7   Hillshade_Noon                      290506 non-null  int64\n",
            " 8   Hillshade_3pm                       290506 non-null  int64\n",
            " 9   Horizontal_Distance_To_Fire_Points  290506 non-null  int64\n",
            " 10  Wilderness_Area1                    290506 non-null  int64\n",
            " 11  Wilderness_Area2                    290506 non-null  int64\n",
            " 12  Wilderness_Area3                    290506 non-null  int64\n",
            " 13  Wilderness_Area4                    290506 non-null  int64\n",
            " 14  Soil_Type1                          290506 non-null  int64\n",
            " 15  Soil_Type2                          290506 non-null  int64\n",
            " 16  Soil_Type3                          290506 non-null  int64\n",
            " 17  Soil_Type4                          290506 non-null  int64\n",
            " 18  Soil_Type5                          290506 non-null  int64\n",
            " 19  Soil_Type6                          290506 non-null  int64\n",
            " 20  Soil_Type7                          290506 non-null  int64\n",
            " 21  Soil_Type8                          290506 non-null  int64\n",
            " 22  Soil_Type9                          290506 non-null  int64\n",
            " 23  Soil_Type10                         290506 non-null  int64\n",
            " 24  Soil_Type11                         290506 non-null  int64\n",
            " 25  Soil_Type12                         290506 non-null  int64\n",
            " 26  Soil_Type13                         290506 non-null  int64\n",
            " 27  Soil_Type14                         290506 non-null  int64\n",
            " 28  Soil_Type15                         290506 non-null  int64\n",
            " 29  Soil_Type16                         290506 non-null  int64\n",
            " 30  Soil_Type17                         290506 non-null  int64\n",
            " 31  Soil_Type18                         290506 non-null  int64\n",
            " 32  Soil_Type19                         290506 non-null  int64\n",
            " 33  Soil_Type20                         290506 non-null  int64\n",
            " 34  Soil_Type21                         290506 non-null  int64\n",
            " 35  Soil_Type22                         290506 non-null  int64\n",
            " 36  Soil_Type23                         290506 non-null  int64\n",
            " 37  Soil_Type24                         290506 non-null  int64\n",
            " 38  Soil_Type25                         290506 non-null  int64\n",
            " 39  Soil_Type26                         290506 non-null  int64\n",
            " 40  Soil_Type27                         290506 non-null  int64\n",
            " 41  Soil_Type28                         290506 non-null  int64\n",
            " 42  Soil_Type29                         290506 non-null  int64\n",
            " 43  Soil_Type30                         290506 non-null  int64\n",
            " 44  Soil_Type31                         290506 non-null  int64\n",
            " 45  Soil_Type32                         290506 non-null  int64\n",
            " 46  Soil_Type33                         290506 non-null  int64\n",
            " 47  Soil_Type34                         290506 non-null  int64\n",
            " 48  Soil_Type35                         290506 non-null  int64\n",
            " 49  Soil_Type36                         290506 non-null  int64\n",
            " 50  Soil_Type37                         290506 non-null  int64\n",
            " 51  Soil_Type38                         290506 non-null  int64\n",
            " 52  Soil_Type39                         290506 non-null  int64\n",
            " 53  Soil_Type40                         290506 non-null  int64\n",
            " 54  Cover_Type                          290506 non-null  int64\n",
            "dtypes: int64(55)\n",
            "memory usage: 124.1 MB\n"
          ],
          "name": "stdout"
        }
      ]
    },
    {
      "cell_type": "markdown",
      "metadata": {
        "id": "KyCiqiCCw8RG",
        "colab_type": "text"
      },
      "source": [
        "### 3. Perform the Descriptive Statistics for the dataset"
      ]
    },
    {
      "cell_type": "code",
      "metadata": {
        "id": "MCKdATkMw8RG",
        "colab_type": "code",
        "colab": {
          "base_uri": "https://localhost:8080/",
          "height": 304
        },
        "outputId": "458064ad-9172-4725-a3b2-c818e43c19dd"
      },
      "source": [
        "# Summary statistics for the dataset\n",
        "forest.describe()"
      ],
      "execution_count": 205,
      "outputs": [
        {
          "output_type": "execute_result",
          "data": {
            "text/html": [
              "<div>\n",
              "<style scoped>\n",
              "    .dataframe tbody tr th:only-of-type {\n",
              "        vertical-align: middle;\n",
              "    }\n",
              "\n",
              "    .dataframe tbody tr th {\n",
              "        vertical-align: top;\n",
              "    }\n",
              "\n",
              "    .dataframe thead th {\n",
              "        text-align: right;\n",
              "    }\n",
              "</style>\n",
              "<table border=\"1\" class=\"dataframe\">\n",
              "  <thead>\n",
              "    <tr style=\"text-align: right;\">\n",
              "      <th></th>\n",
              "      <th>Elevation</th>\n",
              "      <th>Aspect</th>\n",
              "      <th>Slope</th>\n",
              "      <th>Horizontal_Distance_To_Hydrology</th>\n",
              "      <th>Vertical_Distance_To_Hydrology</th>\n",
              "      <th>Horizontal_Distance_To_Roadways</th>\n",
              "      <th>Hillshade_9am</th>\n",
              "      <th>Hillshade_Noon</th>\n",
              "      <th>Hillshade_3pm</th>\n",
              "      <th>Horizontal_Distance_To_Fire_Points</th>\n",
              "      <th>Wilderness_Area1</th>\n",
              "      <th>Wilderness_Area2</th>\n",
              "      <th>Wilderness_Area3</th>\n",
              "      <th>Wilderness_Area4</th>\n",
              "      <th>Soil_Type1</th>\n",
              "      <th>Soil_Type2</th>\n",
              "      <th>Soil_Type3</th>\n",
              "      <th>Soil_Type4</th>\n",
              "      <th>Soil_Type5</th>\n",
              "      <th>Soil_Type6</th>\n",
              "      <th>Soil_Type7</th>\n",
              "      <th>Soil_Type8</th>\n",
              "      <th>Soil_Type9</th>\n",
              "      <th>Soil_Type10</th>\n",
              "      <th>Soil_Type11</th>\n",
              "      <th>Soil_Type12</th>\n",
              "      <th>Soil_Type13</th>\n",
              "      <th>Soil_Type14</th>\n",
              "      <th>Soil_Type15</th>\n",
              "      <th>Soil_Type16</th>\n",
              "      <th>Soil_Type17</th>\n",
              "      <th>Soil_Type18</th>\n",
              "      <th>Soil_Type19</th>\n",
              "      <th>Soil_Type20</th>\n",
              "      <th>Soil_Type21</th>\n",
              "      <th>Soil_Type22</th>\n",
              "      <th>Soil_Type23</th>\n",
              "      <th>Soil_Type24</th>\n",
              "      <th>Soil_Type25</th>\n",
              "      <th>Soil_Type26</th>\n",
              "      <th>Soil_Type27</th>\n",
              "      <th>Soil_Type28</th>\n",
              "      <th>Soil_Type29</th>\n",
              "      <th>Soil_Type30</th>\n",
              "      <th>Soil_Type31</th>\n",
              "      <th>Soil_Type32</th>\n",
              "      <th>Soil_Type33</th>\n",
              "      <th>Soil_Type34</th>\n",
              "      <th>Soil_Type35</th>\n",
              "      <th>Soil_Type36</th>\n",
              "      <th>Soil_Type37</th>\n",
              "      <th>Soil_Type38</th>\n",
              "      <th>Soil_Type39</th>\n",
              "      <th>Soil_Type40</th>\n",
              "      <th>Cover_Type</th>\n",
              "    </tr>\n",
              "  </thead>\n",
              "  <tbody>\n",
              "    <tr>\n",
              "      <th>count</th>\n",
              "      <td>290506.00000</td>\n",
              "      <td>290506.000000</td>\n",
              "      <td>290506.000000</td>\n",
              "      <td>290506.000000</td>\n",
              "      <td>290506.000000</td>\n",
              "      <td>290506.000000</td>\n",
              "      <td>290506.000000</td>\n",
              "      <td>290506.000000</td>\n",
              "      <td>290506.000000</td>\n",
              "      <td>290506.000000</td>\n",
              "      <td>290506.000000</td>\n",
              "      <td>290506.000000</td>\n",
              "      <td>290506.000000</td>\n",
              "      <td>290506.000000</td>\n",
              "      <td>290506.000000</td>\n",
              "      <td>290506.000000</td>\n",
              "      <td>290506.000000</td>\n",
              "      <td>290506.000000</td>\n",
              "      <td>290506.000000</td>\n",
              "      <td>290506.000000</td>\n",
              "      <td>290506.000000</td>\n",
              "      <td>290506.000000</td>\n",
              "      <td>290506.000000</td>\n",
              "      <td>290506.000000</td>\n",
              "      <td>290506.000000</td>\n",
              "      <td>290506.000000</td>\n",
              "      <td>290506.000000</td>\n",
              "      <td>290506.000000</td>\n",
              "      <td>290506.000000</td>\n",
              "      <td>290506.000000</td>\n",
              "      <td>290506.000000</td>\n",
              "      <td>290506.000000</td>\n",
              "      <td>290506.000000</td>\n",
              "      <td>290506.000000</td>\n",
              "      <td>290506.000000</td>\n",
              "      <td>290506.000000</td>\n",
              "      <td>290506.000000</td>\n",
              "      <td>290506.000000</td>\n",
              "      <td>290506.000000</td>\n",
              "      <td>290506.000000</td>\n",
              "      <td>290506.000000</td>\n",
              "      <td>290506.000000</td>\n",
              "      <td>290506.000000</td>\n",
              "      <td>290506.000000</td>\n",
              "      <td>290506.000000</td>\n",
              "      <td>290506.000000</td>\n",
              "      <td>290506.000000</td>\n",
              "      <td>290506.000000</td>\n",
              "      <td>290506.000000</td>\n",
              "      <td>290506.000000</td>\n",
              "      <td>290506.000000</td>\n",
              "      <td>290506.000000</td>\n",
              "      <td>290506.000000</td>\n",
              "      <td>290506.000000</td>\n",
              "      <td>290506.00000</td>\n",
              "    </tr>\n",
              "    <tr>\n",
              "      <th>mean</th>\n",
              "      <td>2959.62819</td>\n",
              "      <td>155.427230</td>\n",
              "      <td>14.104738</td>\n",
              "      <td>269.441554</td>\n",
              "      <td>46.392918</td>\n",
              "      <td>2354.405806</td>\n",
              "      <td>212.140345</td>\n",
              "      <td>223.329597</td>\n",
              "      <td>142.545056</td>\n",
              "      <td>1982.560983</td>\n",
              "      <td>0.450008</td>\n",
              "      <td>0.051789</td>\n",
              "      <td>0.434504</td>\n",
              "      <td>0.063699</td>\n",
              "      <td>0.005129</td>\n",
              "      <td>0.012998</td>\n",
              "      <td>0.008251</td>\n",
              "      <td>0.021511</td>\n",
              "      <td>0.002833</td>\n",
              "      <td>0.011366</td>\n",
              "      <td>0.000176</td>\n",
              "      <td>0.000282</td>\n",
              "      <td>0.001959</td>\n",
              "      <td>0.056099</td>\n",
              "      <td>0.021218</td>\n",
              "      <td>0.052274</td>\n",
              "      <td>0.029600</td>\n",
              "      <td>0.001043</td>\n",
              "      <td>0.000003</td>\n",
              "      <td>0.004836</td>\n",
              "      <td>0.005769</td>\n",
              "      <td>0.003174</td>\n",
              "      <td>0.007191</td>\n",
              "      <td>0.015869</td>\n",
              "      <td>0.001435</td>\n",
              "      <td>0.056873</td>\n",
              "      <td>0.100032</td>\n",
              "      <td>0.036853</td>\n",
              "      <td>0.000792</td>\n",
              "      <td>0.004516</td>\n",
              "      <td>0.001931</td>\n",
              "      <td>0.001749</td>\n",
              "      <td>0.198860</td>\n",
              "      <td>0.051847</td>\n",
              "      <td>0.044040</td>\n",
              "      <td>0.089086</td>\n",
              "      <td>0.077516</td>\n",
              "      <td>0.002733</td>\n",
              "      <td>0.003356</td>\n",
              "      <td>0.000213</td>\n",
              "      <td>0.000516</td>\n",
              "      <td>0.027015</td>\n",
              "      <td>0.023717</td>\n",
              "      <td>0.015335</td>\n",
              "      <td>2.05109</td>\n",
              "    </tr>\n",
              "    <tr>\n",
              "      <th>std</th>\n",
              "      <td>280.21241</td>\n",
              "      <td>111.870215</td>\n",
              "      <td>7.489913</td>\n",
              "      <td>212.678807</td>\n",
              "      <td>58.198936</td>\n",
              "      <td>1560.359287</td>\n",
              "      <td>26.759416</td>\n",
              "      <td>19.791389</td>\n",
              "      <td>38.202540</td>\n",
              "      <td>1326.620367</td>\n",
              "      <td>0.497495</td>\n",
              "      <td>0.221601</td>\n",
              "      <td>0.495693</td>\n",
              "      <td>0.244217</td>\n",
              "      <td>0.071433</td>\n",
              "      <td>0.113266</td>\n",
              "      <td>0.090460</td>\n",
              "      <td>0.145080</td>\n",
              "      <td>0.053150</td>\n",
              "      <td>0.106006</td>\n",
              "      <td>0.013249</td>\n",
              "      <td>0.016798</td>\n",
              "      <td>0.044213</td>\n",
              "      <td>0.230113</td>\n",
              "      <td>0.144111</td>\n",
              "      <td>0.222580</td>\n",
              "      <td>0.169482</td>\n",
              "      <td>0.032279</td>\n",
              "      <td>0.001855</td>\n",
              "      <td>0.069376</td>\n",
              "      <td>0.075736</td>\n",
              "      <td>0.056247</td>\n",
              "      <td>0.084494</td>\n",
              "      <td>0.124968</td>\n",
              "      <td>0.037860</td>\n",
              "      <td>0.231601</td>\n",
              "      <td>0.300044</td>\n",
              "      <td>0.188401</td>\n",
              "      <td>0.028126</td>\n",
              "      <td>0.067051</td>\n",
              "      <td>0.043902</td>\n",
              "      <td>0.041781</td>\n",
              "      <td>0.399143</td>\n",
              "      <td>0.221719</td>\n",
              "      <td>0.205185</td>\n",
              "      <td>0.284868</td>\n",
              "      <td>0.267410</td>\n",
              "      <td>0.052208</td>\n",
              "      <td>0.057836</td>\n",
              "      <td>0.014607</td>\n",
              "      <td>0.022717</td>\n",
              "      <td>0.162127</td>\n",
              "      <td>0.152167</td>\n",
              "      <td>0.122883</td>\n",
              "      <td>1.39678</td>\n",
              "    </tr>\n",
              "    <tr>\n",
              "      <th>min</th>\n",
              "      <td>1859.00000</td>\n",
              "      <td>0.000000</td>\n",
              "      <td>0.000000</td>\n",
              "      <td>0.000000</td>\n",
              "      <td>-164.000000</td>\n",
              "      <td>0.000000</td>\n",
              "      <td>0.000000</td>\n",
              "      <td>0.000000</td>\n",
              "      <td>0.000000</td>\n",
              "      <td>0.000000</td>\n",
              "      <td>0.000000</td>\n",
              "      <td>0.000000</td>\n",
              "      <td>0.000000</td>\n",
              "      <td>0.000000</td>\n",
              "      <td>0.000000</td>\n",
              "      <td>0.000000</td>\n",
              "      <td>0.000000</td>\n",
              "      <td>0.000000</td>\n",
              "      <td>0.000000</td>\n",
              "      <td>0.000000</td>\n",
              "      <td>0.000000</td>\n",
              "      <td>0.000000</td>\n",
              "      <td>0.000000</td>\n",
              "      <td>0.000000</td>\n",
              "      <td>0.000000</td>\n",
              "      <td>0.000000</td>\n",
              "      <td>0.000000</td>\n",
              "      <td>0.000000</td>\n",
              "      <td>0.000000</td>\n",
              "      <td>0.000000</td>\n",
              "      <td>0.000000</td>\n",
              "      <td>0.000000</td>\n",
              "      <td>0.000000</td>\n",
              "      <td>0.000000</td>\n",
              "      <td>0.000000</td>\n",
              "      <td>0.000000</td>\n",
              "      <td>0.000000</td>\n",
              "      <td>0.000000</td>\n",
              "      <td>0.000000</td>\n",
              "      <td>0.000000</td>\n",
              "      <td>0.000000</td>\n",
              "      <td>0.000000</td>\n",
              "      <td>0.000000</td>\n",
              "      <td>0.000000</td>\n",
              "      <td>0.000000</td>\n",
              "      <td>0.000000</td>\n",
              "      <td>0.000000</td>\n",
              "      <td>0.000000</td>\n",
              "      <td>0.000000</td>\n",
              "      <td>0.000000</td>\n",
              "      <td>0.000000</td>\n",
              "      <td>0.000000</td>\n",
              "      <td>0.000000</td>\n",
              "      <td>0.000000</td>\n",
              "      <td>1.00000</td>\n",
              "    </tr>\n",
              "    <tr>\n",
              "      <th>25%</th>\n",
              "      <td>2809.00000</td>\n",
              "      <td>58.000000</td>\n",
              "      <td>9.000000</td>\n",
              "      <td>108.000000</td>\n",
              "      <td>7.000000</td>\n",
              "      <td>1110.000000</td>\n",
              "      <td>198.000000</td>\n",
              "      <td>213.000000</td>\n",
              "      <td>119.000000</td>\n",
              "      <td>1024.000000</td>\n",
              "      <td>0.000000</td>\n",
              "      <td>0.000000</td>\n",
              "      <td>0.000000</td>\n",
              "      <td>0.000000</td>\n",
              "      <td>0.000000</td>\n",
              "      <td>0.000000</td>\n",
              "      <td>0.000000</td>\n",
              "      <td>0.000000</td>\n",
              "      <td>0.000000</td>\n",
              "      <td>0.000000</td>\n",
              "      <td>0.000000</td>\n",
              "      <td>0.000000</td>\n",
              "      <td>0.000000</td>\n",
              "      <td>0.000000</td>\n",
              "      <td>0.000000</td>\n",
              "      <td>0.000000</td>\n",
              "      <td>0.000000</td>\n",
              "      <td>0.000000</td>\n",
              "      <td>0.000000</td>\n",
              "      <td>0.000000</td>\n",
              "      <td>0.000000</td>\n",
              "      <td>0.000000</td>\n",
              "      <td>0.000000</td>\n",
              "      <td>0.000000</td>\n",
              "      <td>0.000000</td>\n",
              "      <td>0.000000</td>\n",
              "      <td>0.000000</td>\n",
              "      <td>0.000000</td>\n",
              "      <td>0.000000</td>\n",
              "      <td>0.000000</td>\n",
              "      <td>0.000000</td>\n",
              "      <td>0.000000</td>\n",
              "      <td>0.000000</td>\n",
              "      <td>0.000000</td>\n",
              "      <td>0.000000</td>\n",
              "      <td>0.000000</td>\n",
              "      <td>0.000000</td>\n",
              "      <td>0.000000</td>\n",
              "      <td>0.000000</td>\n",
              "      <td>0.000000</td>\n",
              "      <td>0.000000</td>\n",
              "      <td>0.000000</td>\n",
              "      <td>0.000000</td>\n",
              "      <td>0.000000</td>\n",
              "      <td>1.00000</td>\n",
              "    </tr>\n",
              "    <tr>\n",
              "      <th>50%</th>\n",
              "      <td>2996.00000</td>\n",
              "      <td>127.000000</td>\n",
              "      <td>13.000000</td>\n",
              "      <td>218.000000</td>\n",
              "      <td>30.000000</td>\n",
              "      <td>2001.000000</td>\n",
              "      <td>218.000000</td>\n",
              "      <td>226.000000</td>\n",
              "      <td>143.000000</td>\n",
              "      <td>1710.000000</td>\n",
              "      <td>0.000000</td>\n",
              "      <td>0.000000</td>\n",
              "      <td>0.000000</td>\n",
              "      <td>0.000000</td>\n",
              "      <td>0.000000</td>\n",
              "      <td>0.000000</td>\n",
              "      <td>0.000000</td>\n",
              "      <td>0.000000</td>\n",
              "      <td>0.000000</td>\n",
              "      <td>0.000000</td>\n",
              "      <td>0.000000</td>\n",
              "      <td>0.000000</td>\n",
              "      <td>0.000000</td>\n",
              "      <td>0.000000</td>\n",
              "      <td>0.000000</td>\n",
              "      <td>0.000000</td>\n",
              "      <td>0.000000</td>\n",
              "      <td>0.000000</td>\n",
              "      <td>0.000000</td>\n",
              "      <td>0.000000</td>\n",
              "      <td>0.000000</td>\n",
              "      <td>0.000000</td>\n",
              "      <td>0.000000</td>\n",
              "      <td>0.000000</td>\n",
              "      <td>0.000000</td>\n",
              "      <td>0.000000</td>\n",
              "      <td>0.000000</td>\n",
              "      <td>0.000000</td>\n",
              "      <td>0.000000</td>\n",
              "      <td>0.000000</td>\n",
              "      <td>0.000000</td>\n",
              "      <td>0.000000</td>\n",
              "      <td>0.000000</td>\n",
              "      <td>0.000000</td>\n",
              "      <td>0.000000</td>\n",
              "      <td>0.000000</td>\n",
              "      <td>0.000000</td>\n",
              "      <td>0.000000</td>\n",
              "      <td>0.000000</td>\n",
              "      <td>0.000000</td>\n",
              "      <td>0.000000</td>\n",
              "      <td>0.000000</td>\n",
              "      <td>0.000000</td>\n",
              "      <td>0.000000</td>\n",
              "      <td>2.00000</td>\n",
              "    </tr>\n",
              "    <tr>\n",
              "      <th>75%</th>\n",
              "      <td>3164.00000</td>\n",
              "      <td>260.000000</td>\n",
              "      <td>18.000000</td>\n",
              "      <td>384.000000</td>\n",
              "      <td>69.000000</td>\n",
              "      <td>3331.000000</td>\n",
              "      <td>231.000000</td>\n",
              "      <td>237.000000</td>\n",
              "      <td>168.000000</td>\n",
              "      <td>2552.000000</td>\n",
              "      <td>1.000000</td>\n",
              "      <td>0.000000</td>\n",
              "      <td>1.000000</td>\n",
              "      <td>0.000000</td>\n",
              "      <td>0.000000</td>\n",
              "      <td>0.000000</td>\n",
              "      <td>0.000000</td>\n",
              "      <td>0.000000</td>\n",
              "      <td>0.000000</td>\n",
              "      <td>0.000000</td>\n",
              "      <td>0.000000</td>\n",
              "      <td>0.000000</td>\n",
              "      <td>0.000000</td>\n",
              "      <td>0.000000</td>\n",
              "      <td>0.000000</td>\n",
              "      <td>0.000000</td>\n",
              "      <td>0.000000</td>\n",
              "      <td>0.000000</td>\n",
              "      <td>0.000000</td>\n",
              "      <td>0.000000</td>\n",
              "      <td>0.000000</td>\n",
              "      <td>0.000000</td>\n",
              "      <td>0.000000</td>\n",
              "      <td>0.000000</td>\n",
              "      <td>0.000000</td>\n",
              "      <td>0.000000</td>\n",
              "      <td>0.000000</td>\n",
              "      <td>0.000000</td>\n",
              "      <td>0.000000</td>\n",
              "      <td>0.000000</td>\n",
              "      <td>0.000000</td>\n",
              "      <td>0.000000</td>\n",
              "      <td>0.000000</td>\n",
              "      <td>0.000000</td>\n",
              "      <td>0.000000</td>\n",
              "      <td>0.000000</td>\n",
              "      <td>0.000000</td>\n",
              "      <td>0.000000</td>\n",
              "      <td>0.000000</td>\n",
              "      <td>0.000000</td>\n",
              "      <td>0.000000</td>\n",
              "      <td>0.000000</td>\n",
              "      <td>0.000000</td>\n",
              "      <td>0.000000</td>\n",
              "      <td>2.00000</td>\n",
              "    </tr>\n",
              "    <tr>\n",
              "      <th>max</th>\n",
              "      <td>3857.00000</td>\n",
              "      <td>360.000000</td>\n",
              "      <td>65.000000</td>\n",
              "      <td>1397.000000</td>\n",
              "      <td>598.000000</td>\n",
              "      <td>7117.000000</td>\n",
              "      <td>254.000000</td>\n",
              "      <td>254.000000</td>\n",
              "      <td>254.000000</td>\n",
              "      <td>7173.000000</td>\n",
              "      <td>1.000000</td>\n",
              "      <td>1.000000</td>\n",
              "      <td>1.000000</td>\n",
              "      <td>1.000000</td>\n",
              "      <td>1.000000</td>\n",
              "      <td>1.000000</td>\n",
              "      <td>1.000000</td>\n",
              "      <td>1.000000</td>\n",
              "      <td>1.000000</td>\n",
              "      <td>1.000000</td>\n",
              "      <td>1.000000</td>\n",
              "      <td>1.000000</td>\n",
              "      <td>1.000000</td>\n",
              "      <td>1.000000</td>\n",
              "      <td>1.000000</td>\n",
              "      <td>1.000000</td>\n",
              "      <td>1.000000</td>\n",
              "      <td>1.000000</td>\n",
              "      <td>1.000000</td>\n",
              "      <td>1.000000</td>\n",
              "      <td>1.000000</td>\n",
              "      <td>1.000000</td>\n",
              "      <td>1.000000</td>\n",
              "      <td>1.000000</td>\n",
              "      <td>1.000000</td>\n",
              "      <td>1.000000</td>\n",
              "      <td>1.000000</td>\n",
              "      <td>1.000000</td>\n",
              "      <td>1.000000</td>\n",
              "      <td>1.000000</td>\n",
              "      <td>1.000000</td>\n",
              "      <td>1.000000</td>\n",
              "      <td>1.000000</td>\n",
              "      <td>1.000000</td>\n",
              "      <td>1.000000</td>\n",
              "      <td>1.000000</td>\n",
              "      <td>1.000000</td>\n",
              "      <td>1.000000</td>\n",
              "      <td>1.000000</td>\n",
              "      <td>1.000000</td>\n",
              "      <td>1.000000</td>\n",
              "      <td>1.000000</td>\n",
              "      <td>1.000000</td>\n",
              "      <td>1.000000</td>\n",
              "      <td>7.00000</td>\n",
              "    </tr>\n",
              "  </tbody>\n",
              "</table>\n",
              "</div>"
            ],
            "text/plain": [
              "          Elevation         Aspect  ...    Soil_Type40    Cover_Type\n",
              "count  290506.00000  290506.000000  ...  290506.000000  290506.00000\n",
              "mean     2959.62819     155.427230  ...       0.015335       2.05109\n",
              "std       280.21241     111.870215  ...       0.122883       1.39678\n",
              "min      1859.00000       0.000000  ...       0.000000       1.00000\n",
              "25%      2809.00000      58.000000  ...       0.000000       1.00000\n",
              "50%      2996.00000     127.000000  ...       0.000000       2.00000\n",
              "75%      3164.00000     260.000000  ...       0.000000       2.00000\n",
              "max      3857.00000     360.000000  ...       1.000000       7.00000\n",
              "\n",
              "[8 rows x 55 columns]"
            ]
          },
          "metadata": {
            "tags": []
          },
          "execution_count": 205
        }
      ]
    },
    {
      "cell_type": "markdown",
      "metadata": {
        "id": "AsgnSN1pw8RQ",
        "colab_type": "text"
      },
      "source": [
        "**We could see that the max and min for all the columns are different so scaling should be done**"
      ]
    },
    {
      "cell_type": "markdown",
      "metadata": {
        "id": "_tApHBIZw8RQ",
        "colab_type": "text"
      },
      "source": [
        "### 4. Check for null values and if any are present do the null value treatment"
      ]
    },
    {
      "cell_type": "code",
      "metadata": {
        "id": "TCLP5wD8w8RR",
        "colab_type": "code",
        "colab": {
          "base_uri": "https://localhost:8080/",
          "height": 958
        },
        "outputId": "190cdf80-142d-48b3-81c0-17754a95504f"
      },
      "source": [
        "# Checking for null values\n",
        "forest.isnull().sum()"
      ],
      "execution_count": 206,
      "outputs": [
        {
          "output_type": "execute_result",
          "data": {
            "text/plain": [
              "Elevation                             0\n",
              "Aspect                                0\n",
              "Slope                                 0\n",
              "Horizontal_Distance_To_Hydrology      0\n",
              "Vertical_Distance_To_Hydrology        0\n",
              "Horizontal_Distance_To_Roadways       0\n",
              "Hillshade_9am                         0\n",
              "Hillshade_Noon                        0\n",
              "Hillshade_3pm                         0\n",
              "Horizontal_Distance_To_Fire_Points    0\n",
              "Wilderness_Area1                      0\n",
              "Wilderness_Area2                      0\n",
              "Wilderness_Area3                      0\n",
              "Wilderness_Area4                      0\n",
              "Soil_Type1                            0\n",
              "Soil_Type2                            0\n",
              "Soil_Type3                            0\n",
              "Soil_Type4                            0\n",
              "Soil_Type5                            0\n",
              "Soil_Type6                            0\n",
              "Soil_Type7                            0\n",
              "Soil_Type8                            0\n",
              "Soil_Type9                            0\n",
              "Soil_Type10                           0\n",
              "Soil_Type11                           0\n",
              "Soil_Type12                           0\n",
              "Soil_Type13                           0\n",
              "Soil_Type14                           0\n",
              "Soil_Type15                           0\n",
              "Soil_Type16                           0\n",
              "Soil_Type17                           0\n",
              "Soil_Type18                           0\n",
              "Soil_Type19                           0\n",
              "Soil_Type20                           0\n",
              "Soil_Type21                           0\n",
              "Soil_Type22                           0\n",
              "Soil_Type23                           0\n",
              "Soil_Type24                           0\n",
              "Soil_Type25                           0\n",
              "Soil_Type26                           0\n",
              "Soil_Type27                           0\n",
              "Soil_Type28                           0\n",
              "Soil_Type29                           0\n",
              "Soil_Type30                           0\n",
              "Soil_Type31                           0\n",
              "Soil_Type32                           0\n",
              "Soil_Type33                           0\n",
              "Soil_Type34                           0\n",
              "Soil_Type35                           0\n",
              "Soil_Type36                           0\n",
              "Soil_Type37                           0\n",
              "Soil_Type38                           0\n",
              "Soil_Type39                           0\n",
              "Soil_Type40                           0\n",
              "Cover_Type                            0\n",
              "dtype: int64"
            ]
          },
          "metadata": {
            "tags": []
          },
          "execution_count": 206
        }
      ]
    },
    {
      "cell_type": "markdown",
      "metadata": {
        "id": "WDA-VNc-w8RV",
        "colab_type": "text"
      },
      "source": [
        "**We could see that there are no null values present in the dataset**"
      ]
    },
    {
      "cell_type": "markdown",
      "metadata": {
        "id": "VnCuGDeqw8RV",
        "colab_type": "text"
      },
      "source": [
        "### 5. Perform EDA for the dataset"
      ]
    },
    {
      "cell_type": "code",
      "metadata": {
        "colab_type": "code",
        "id": "v6TuJXZVUzDr",
        "colab": {
          "base_uri": "https://localhost:8080/",
          "height": 297
        },
        "outputId": "e44543f7-2b34-48c2-9d67-d4b0ed7710e7"
      },
      "source": [
        "# Count plot for COVER TYPE column\n",
        "sns.countplot(x=forest['Cover_Type'])"
      ],
      "execution_count": 207,
      "outputs": [
        {
          "output_type": "execute_result",
          "data": {
            "text/plain": [
              "<matplotlib.axes._subplots.AxesSubplot at 0x7f5518b5a4e0>"
            ]
          },
          "metadata": {
            "tags": []
          },
          "execution_count": 207
        },
        {
          "output_type": "display_data",
          "data": {
            "image/png": "[encoded data removed]",
            "text/plain": [
              "<Figure size 432x288 with 1 Axes>"
            ]
          },
          "metadata": {
            "tags": [],
            "needs_background": "light"
          }
        }
      ]
    },
    {
      "cell_type": "markdown",
      "metadata": {
        "colab_type": "text",
        "id": "Shj_brNIU_UK"
      },
      "source": [
        "**We could see of all the 7 forest types,type 2 as the most count of forests**\n"
      ]
    },
    {
      "cell_type": "code",
      "metadata": {
        "colab_type": "code",
        "id": "drqdC-wlU68J",
        "colab": {
          "base_uri": "https://localhost:8080/",
          "height": 299
        },
        "outputId": "4184304d-d6dc-41c3-db29-833e883d6350"
      },
      "source": [
        "# Bar plot for COVER TYPE vs ELEVATION columns\n",
        "sns.barplot(x='Cover_Type',y='Elevation',data=forest)"
      ],
      "execution_count": 208,
      "outputs": [
        {
          "output_type": "execute_result",
          "data": {
            "text/plain": [
              "<matplotlib.axes._subplots.AxesSubplot at 0x7f5518b1bb38>"
            ]
          },
          "metadata": {
            "tags": []
          },
          "execution_count": 208
        },
        {
          "output_type": "display_data",
          "data": {
            "image/png": "[encoded data removed]",
            "text/plain": [
              "<Figure size 432x288 with 1 Axes>"
            ]
          },
          "metadata": {
            "tags": [],
            "needs_background": "light"
          }
        }
      ]
    },
    {
      "cell_type": "markdown",
      "metadata": {
        "colab_type": "text",
        "id": "0gF3YJjyU-h-"
      },
      "source": [
        "**We could type 7 has a lot more Elevation followed by type 1 and type 2 forests**"
      ]
    },
    {
      "cell_type": "code",
      "metadata": {
        "id": "s250Tp7Ew8Rg",
        "colab_type": "code",
        "colab": {
          "base_uri": "https://localhost:8080/",
          "height": 386
        },
        "outputId": "464e40d1-9b5f-4519-8b88-7d9c01fea68a"
      },
      "source": [
        "# Cat plot for COVER TYPE vs SLOPE columns\n",
        "sns.catplot(x='Cover_Type',y='Slope',data=forest)"
      ],
      "execution_count": 209,
      "outputs": [
        {
          "output_type": "execute_result",
          "data": {
            "text/plain": [
              "<seaborn.axisgrid.FacetGrid at 0x7f5518b48588>"
            ]
          },
          "metadata": {
            "tags": []
          },
          "execution_count": 209
        },
        {
          "output_type": "display_data",
          "data": {
            "image/png": "[encoded data removed]",
            "text/plain": [
              "<Figure size 360x360 with 1 Axes>"
            ]
          },
          "metadata": {
            "tags": [],
            "needs_background": "light"
          }
        }
      ]
    },
    {
      "cell_type": "markdown",
      "metadata": {
        "id": "ZFBZIQQ5w8Rk",
        "colab_type": "text"
      },
      "source": [
        "**We could see for the types 2 forests the Slope is very much high followed by forest types 1 and 3**"
      ]
    },
    {
      "cell_type": "code",
      "metadata": {
        "id": "ofdfbBfgw8Rk",
        "colab_type": "code",
        "colab": {
          "base_uri": "https://localhost:8080/",
          "height": 439
        },
        "outputId": "99f92d85-c799-4db4-b9e4-c5d002cb16df"
      },
      "source": [
        "# Strip plot for COVER TYPE vs Aspect\n",
        "sns.factorplot(x='Cover_Type',y='Aspect',data=forest)"
      ],
      "execution_count": 210,
      "outputs": [
        {
          "output_type": "stream",
          "text": [
            "/usr/local/lib/python3.6/dist-packages/seaborn/categorical.py:3666: UserWarning: The `factorplot` function has been renamed to `catplot`. The original name will be removed in a future release. Please update your code. Note that the default `kind` in `factorplot` (`'point'`) has changed `'strip'` in `catplot`.\n",
            "  warnings.warn(msg)\n"
          ],
          "name": "stderr"
        },
        {
          "output_type": "execute_result",
          "data": {
            "text/plain": [
              "<seaborn.axisgrid.FacetGrid at 0x7f5518a9df28>"
            ]
          },
          "metadata": {
            "tags": []
          },
          "execution_count": 210
        },
        {
          "output_type": "display_data",
          "data": {
            "image/png": "[encoded data removed]",
            "text/plain": [
              "<Figure size 360x360 with 1 Axes>"
            ]
          },
          "metadata": {
            "tags": [],
            "needs_background": "light"
          }
        }
      ]
    },
    {
      "cell_type": "markdown",
      "metadata": {
        "id": "EMDn0aCGw8Rp",
        "colab_type": "text"
      },
      "source": [
        "**We could for the forest types 3 and 4 the Aspect ratio is very much high**"
      ]
    },
    {
      "cell_type": "code",
      "metadata": {
        "id": "AGPBlmGzw8Rs",
        "colab_type": "code",
        "colab": {
          "base_uri": "https://localhost:8080/",
          "height": 386
        },
        "outputId": "764757c5-d385-4fb4-d571-017db6a29d57"
      },
      "source": [
        "# Cat plot for COVER_TYPE vs HORIZONTAL_DISTANCE_TO_FIRE_POINTS columns\n",
        "sns.catplot(x='Cover_Type',y='Horizontal_Distance_To_Fire_Points',data=forest)"
      ],
      "execution_count": 211,
      "outputs": [
        {
          "output_type": "execute_result",
          "data": {
            "text/plain": [
              "<seaborn.axisgrid.FacetGrid at 0x7f55221c8710>"
            ]
          },
          "metadata": {
            "tags": []
          },
          "execution_count": 211
        },
        {
          "output_type": "display_data",
          "data": {
            "image/png": "[encoded data removed]",
            "text/plain": [
              "<Figure size 360x360 with 1 Axes>"
            ]
          },
          "metadata": {
            "tags": [],
            "needs_background": "light"
          }
        }
      ]
    },
    {
      "cell_type": "markdown",
      "metadata": {
        "id": "I3bss3f9w8Rw",
        "colab_type": "text"
      },
      "source": [
        "**We could see the Horizontal Distance to Fire Points is high for forest types 1,2 and 7 so these forests are highly prone to forest fires**"
      ]
    },
    {
      "cell_type": "code",
      "metadata": {
        "id": "3HkGdOoGw8Rx",
        "colab_type": "code",
        "colab": {
          "base_uri": "https://localhost:8080/",
          "height": 297
        },
        "outputId": "29150cf3-61f3-4928-89e5-69d2f197d1b8"
      },
      "source": [
        "# Bar plot for COVER TYPE vs HORIZONTAL_DISTANCE_TO_HYDROLOGY\n",
        "sns.barplot(x='Cover_Type',y='Horizontal_Distance_To_Hydrology',data=forest)"
      ],
      "execution_count": 212,
      "outputs": [
        {
          "output_type": "execute_result",
          "data": {
            "text/plain": [
              "<matplotlib.axes._subplots.AxesSubplot at 0x7f5518b0e668>"
            ]
          },
          "metadata": {
            "tags": []
          },
          "execution_count": 212
        },
        {
          "output_type": "display_data",
          "data": {
            "image/png": "[encoded data removed]",
            "text/plain": [
              "<Figure size 432x288 with 1 Axes>"
            ]
          },
          "metadata": {
            "tags": [],
            "needs_background": "light"
          }
        }
      ]
    },
    {
      "cell_type": "markdown",
      "metadata": {
        "id": "5D0Y1Jakw8R2",
        "colab_type": "text"
      },
      "source": [
        "**We could see that the forest types 7,2 and 1 the Horizontal Distance to Hydrology is high so for Type 2 forest inspite of high distance of Fire Points its till safe from Fire Points as Hydrology is high and also this for Type 1**"
      ]
    },
    {
      "cell_type": "code",
      "metadata": {
        "id": "NLPwOckJw8R4",
        "colab_type": "code",
        "colab": {
          "base_uri": "https://localhost:8080/",
          "height": 297
        },
        "outputId": "24137efa-95fe-4411-a4f0-2bfa92a44f33"
      },
      "source": [
        "# Box plot for COVER TYPE vs HORIZONTAL_DISTANCE_TO_ROADWAYS\n",
        "sns.boxplot(x='Cover_Type',y='Horizontal_Distance_To_Roadways',data=forest)"
      ],
      "execution_count": 213,
      "outputs": [
        {
          "output_type": "execute_result",
          "data": {
            "text/plain": [
              "<matplotlib.axes._subplots.AxesSubplot at 0x7f55188da278>"
            ]
          },
          "metadata": {
            "tags": []
          },
          "execution_count": 213
        },
        {
          "output_type": "display_data",
          "data": {
            "image/png": "[encoded data removed]",
            "text/plain": [
              "<Figure size 432x288 with 1 Axes>"
            ]
          },
          "metadata": {
            "tags": [],
            "needs_background": "light"
          }
        }
      ]
    },
    {
      "cell_type": "markdown",
      "metadata": {
        "id": "IuOwBzKEw8R9",
        "colab_type": "text"
      },
      "source": [
        "**We could see for the forest types 1,2 and 7 the Horizontal Distance to Roadways is high,so people using these Roadways should be careful during storms**"
      ]
    },
    {
      "cell_type": "markdown",
      "metadata": {
        "id": "F61bFFcLw8R-",
        "colab_type": "text"
      },
      "source": [
        "### 6. Perform all the regular ML models and then Boosting models and analyze the metrics"
      ]
    },
    {
      "cell_type": "code",
      "metadata": {
        "id": "AeI3gKhEw8R_",
        "colab_type": "code",
        "colab": {}
      },
      "source": [
        "# Assigning x and y variables for model building\n",
        "x = forest.drop('Cover_Type',1)\n",
        "y = forest['Cover_Type']"
      ],
      "execution_count": 214,
      "outputs": []
    },
    {
      "cell_type": "code",
      "metadata": {
        "id": "Uc9IYsPKw8SC",
        "colab_type": "code",
        "colab": {}
      },
      "source": [
        "# Scaling the x values using Standard Scaler and converting the scaled values to dataframe\n",
        "from sklearn.preprocessing import StandardScaler\n",
        "ss = StandardScaler()\n",
        "x_scaled = ss.fit_transform(x)\n",
        "\n",
        "x_scaled = pd.DataFrame(x_scaled,columns=x.columns)"
      ],
      "execution_count": 215,
      "outputs": []
    },
    {
      "cell_type": "code",
      "metadata": {
        "colab_type": "code",
        "id": "4zZfkl_JVQEb",
        "colab": {}
      },
      "source": [
        "# Importing the train_test_split for splitting the dataset\n",
        "from sklearn.model_selection import train_test_split"
      ],
      "execution_count": 216,
      "outputs": []
    },
    {
      "cell_type": "code",
      "metadata": {
        "colab_type": "code",
        "id": "Cc5L73mYVR2G",
        "colab": {}
      },
      "source": [
        "# Splitting the dataset to train and test\n",
        "x_train,x_test,y_train,y_test = train_test_split(x,y,random_state=2,test_size=0.25)"
      ],
      "execution_count": 217,
      "outputs": []
    },
    {
      "cell_type": "markdown",
      "metadata": {
        "id": "yIvJmZFIw8SS",
        "colab_type": "text"
      },
      "source": [
        "### Performing Decision Tree Classification and analyzing the metrics"
      ]
    },
    {
      "cell_type": "code",
      "metadata": {
        "colab_type": "code",
        "id": "tr7WqOQjVTIY",
        "colab": {}
      },
      "source": [
        "# Importing the DecisionTreeClassifier and fitting the model\n",
        "from sklearn.tree import DecisionTreeClassifier\n",
        "dt = DecisionTreeClassifier()\n",
        "dt.fit(x_train,y_train)\n",
        "pred = dt.predict(x_test)"
      ],
      "execution_count": 218,
      "outputs": []
    },
    {
      "cell_type": "code",
      "metadata": {
        "colab_type": "code",
        "id": "0gTfAc3qVUtl",
        "colab": {}
      },
      "source": [
        "# Importing the metrics for evaluation\n",
        "from sklearn import metrics"
      ],
      "execution_count": 219,
      "outputs": []
    },
    {
      "cell_type": "code",
      "metadata": {
        "colab_type": "code",
        "id": "ZCGIzFoWVs65",
        "colab": {
          "base_uri": "https://localhost:8080/",
          "height": 252
        },
        "outputId": "5299b130-e2c4-4b8b-890f-5b53d84e9694"
      },
      "source": [
        "# Classification Report\n",
        "print(metrics.classification_report(pred,y_test))"
      ],
      "execution_count": 220,
      "outputs": [
        {
          "output_type": "stream",
          "text": [
            "              precision    recall  f1-score   support\n",
            "\n",
            "           1       0.91      0.91      0.91     26320\n",
            "           2       0.93      0.92      0.92     35633\n",
            "           3       0.91      0.90      0.90      4481\n",
            "           4       0.76      0.78      0.77       317\n",
            "           5       0.75      0.76      0.75      1200\n",
            "           6       0.81      0.83      0.82      2052\n",
            "           7       0.92      0.92      0.92      2624\n",
            "\n",
            "    accuracy                           0.91     72627\n",
            "   macro avg       0.86      0.86      0.86     72627\n",
            "weighted avg       0.91      0.91      0.91     72627\n",
            "\n"
          ],
          "name": "stdout"
        }
      ]
    },
    {
      "cell_type": "code",
      "metadata": {
        "id": "tCYTGbaQw8Sh",
        "colab_type": "code",
        "colab": {
          "base_uri": "https://localhost:8080/",
          "height": 134
        },
        "outputId": "379e8c09-6bca-42dc-8c1e-15e9179245be"
      },
      "source": [
        "# Confusion Matrix\n",
        "metrics.confusion_matrix(pred,y_test)"
      ],
      "execution_count": 221,
      "outputs": [
        {
          "output_type": "execute_result",
          "data": {
            "text/plain": [
              "array([[24005,  2096,     0,     0,    29,    11,   179],\n",
              "       [ 2215, 32872,   145,     0,   260,   116,    25],\n",
              "       [    4,   117,  4045,    63,    13,   239,     0],\n",
              "       [    0,     0,    47,   247,     0,    23,     0],\n",
              "       [   43,   235,     9,     0,   909,     4,     0],\n",
              "       [    7,   104,   215,    13,     4,  1709,     0],\n",
              "       [  176,    40,     0,     0,     0,     0,  2408]])"
            ]
          },
          "metadata": {
            "tags": []
          },
          "execution_count": 221
        }
      ]
    },
    {
      "cell_type": "code",
      "metadata": {
        "id": "-7cAKluPw8Sp",
        "colab_type": "code",
        "colab": {
          "base_uri": "https://localhost:8080/",
          "height": 34
        },
        "outputId": "f321d155-6abb-4719-f5c1-2f1a6d9d5d51"
      },
      "source": [
        "# Accuracy score\n",
        "dt_acc = metrics.accuracy_score(pred,y_test)\n",
        "dt_acc"
      ],
      "execution_count": 222,
      "outputs": [
        {
          "output_type": "execute_result",
          "data": {
            "text/plain": [
              "0.9114378949977281"
            ]
          },
          "metadata": {
            "tags": []
          },
          "execution_count": 222
        }
      ]
    },
    {
      "cell_type": "code",
      "metadata": {
        "id": "ia4ravPIw8TD",
        "colab_type": "code",
        "colab": {
          "base_uri": "https://localhost:8080/",
          "height": 34
        },
        "outputId": "2512311d-bab5-47ab-ebd9-bd7375dfaff2"
      },
      "source": [
        "# Cohen kappa score\n",
        "dt_cohen = metrics.cohen_kappa_score(pred,y_test)\n",
        "dt_cohen"
      ],
      "execution_count": 223,
      "outputs": [
        {
          "output_type": "execute_result",
          "data": {
            "text/plain": [
              "0.8576718304885239"
            ]
          },
          "metadata": {
            "tags": []
          },
          "execution_count": 223
        }
      ]
    },
    {
      "cell_type": "code",
      "metadata": {
        "id": "MSIG1ZK0w8TK",
        "colab_type": "code",
        "colab": {
          "base_uri": "https://localhost:8080/",
          "height": 34
        },
        "outputId": "1753c102-015c-4a47-fe15-c5dd3a9ff5ca"
      },
      "source": [
        "# Train score\n",
        "dt_train = dt.score(x_train,y_train)\n",
        "dt_train"
      ],
      "execution_count": 224,
      "outputs": [
        {
          "output_type": "execute_result",
          "data": {
            "text/plain": [
              "1.0"
            ]
          },
          "metadata": {
            "tags": []
          },
          "execution_count": 224
        }
      ]
    },
    {
      "cell_type": "code",
      "metadata": {
        "id": "p1GPMtu6w8TX",
        "colab_type": "code",
        "colab": {
          "base_uri": "https://localhost:8080/",
          "height": 34
        },
        "outputId": "b96ffe81-f900-4bf0-ec62-0367056842ea"
      },
      "source": [
        "# Test score\n",
        "dt_test = dt.score(x_test,y_test)\n",
        "dt_test"
      ],
      "execution_count": 225,
      "outputs": [
        {
          "output_type": "execute_result",
          "data": {
            "text/plain": [
              "0.9114378949977281"
            ]
          },
          "metadata": {
            "tags": []
          },
          "execution_count": 225
        }
      ]
    },
    {
      "cell_type": "markdown",
      "metadata": {
        "id": "w_Aqg9qyw8Td",
        "colab_type": "text"
      },
      "source": [
        "### Performing Random Forest Classification and analyzing the metrics"
      ]
    },
    {
      "cell_type": "code",
      "metadata": {
        "colab_type": "code",
        "id": "1jAaM20YVyuc",
        "colab": {}
      },
      "source": [
        "# Importing the Random Forest Classifier and fitting the model\n",
        "from sklearn.ensemble import RandomForestClassifier\n",
        "rf = RandomForestClassifier()\n",
        "rf.fit(x_train,y_train)\n",
        "pred1 = rf.predict(x_test)"
      ],
      "execution_count": 226,
      "outputs": []
    },
    {
      "cell_type": "code",
      "metadata": {
        "id": "Sj4hFDpFw8Tr",
        "colab_type": "code",
        "colab": {
          "base_uri": "https://localhost:8080/",
          "height": 134
        },
        "outputId": "edba5caf-4bba-4485-81ba-25684545b4a8"
      },
      "source": [
        "# Confusion matrix for Random Forest\n",
        "metrics.confusion_matrix(pred1,y_test)"
      ],
      "execution_count": 227,
      "outputs": [
        {
          "output_type": "execute_result",
          "data": {
            "text/plain": [
              "array([[24382,  1070,     0,     0,    25,     4,   167],\n",
              "       [ 1992, 34212,   101,     0,   375,    79,    17],\n",
              "       [    4,    84,  4232,    49,    14,   224,     0],\n",
              "       [    0,     0,    26,   263,     0,    16,     0],\n",
              "       [    6,    44,     4,     0,   794,     2,     0],\n",
              "       [    4,    42,    98,    11,     7,  1777,     0],\n",
              "       [   62,    12,     0,     0,     0,     0,  2428]])"
            ]
          },
          "metadata": {
            "tags": []
          },
          "execution_count": 227
        }
      ]
    },
    {
      "cell_type": "code",
      "metadata": {
        "id": "oan8h45aw8T7",
        "colab_type": "code",
        "colab": {
          "base_uri": "https://localhost:8080/",
          "height": 252
        },
        "outputId": "9019e7b4-dd4d-4ffb-ccde-b788787bd386"
      },
      "source": [
        "# Classification Report for Random Forest\n",
        "print(metrics.classification_report(pred1,y_test))"
      ],
      "execution_count": 228,
      "outputs": [
        {
          "output_type": "stream",
          "text": [
            "              precision    recall  f1-score   support\n",
            "\n",
            "           1       0.92      0.95      0.94     25648\n",
            "           2       0.96      0.93      0.95     36776\n",
            "           3       0.95      0.92      0.93      4607\n",
            "           4       0.81      0.86      0.84       305\n",
            "           5       0.65      0.93      0.77       850\n",
            "           6       0.85      0.92      0.88      1939\n",
            "           7       0.93      0.97      0.95      2502\n",
            "\n",
            "    accuracy                           0.94     72627\n",
            "   macro avg       0.87      0.93      0.89     72627\n",
            "weighted avg       0.94      0.94      0.94     72627\n",
            "\n"
          ],
          "name": "stdout"
        }
      ]
    },
    {
      "cell_type": "code",
      "metadata": {
        "id": "ioT-z5EJw8UG",
        "colab_type": "code",
        "colab": {
          "base_uri": "https://localhost:8080/",
          "height": 34
        },
        "outputId": "750f48ab-6705-4a0a-cdbd-50b3fd1101f3"
      },
      "source": [
        "# Accuracy score for Random Forest\n",
        "rf_acc = metrics.accuracy_score(pred1,y_test)\n",
        "rf_acc"
      ],
      "execution_count": 229,
      "outputs": [
        {
          "output_type": "execute_result",
          "data": {
            "text/plain": [
              "0.9375025816844975"
            ]
          },
          "metadata": {
            "tags": []
          },
          "execution_count": 229
        }
      ]
    },
    {
      "cell_type": "code",
      "metadata": {
        "id": "BURGLItPw8UJ",
        "colab_type": "code",
        "colab": {
          "base_uri": "https://localhost:8080/",
          "height": 34
        },
        "outputId": "0b4435e6-7080-4779-8909-e4148e135af3"
      },
      "source": [
        "# Cohen kappa score for Random Forest\n",
        "rf_cohen = metrics.cohen_kappa_score(pred1,y_test)\n",
        "rf_cohen"
      ],
      "execution_count": 230,
      "outputs": [
        {
          "output_type": "execute_result",
          "data": {
            "text/plain": [
              "0.8988721253039527"
            ]
          },
          "metadata": {
            "tags": []
          },
          "execution_count": 230
        }
      ]
    },
    {
      "cell_type": "code",
      "metadata": {
        "id": "IZ2kzoRKw8UN",
        "colab_type": "code",
        "colab": {
          "base_uri": "https://localhost:8080/",
          "height": 34
        },
        "outputId": "c10bc708-8d61-4c4d-d896-491774710397"
      },
      "source": [
        "# Train score for Random Forest\n",
        "rf_train = rf.score(x_train,y_train)\n",
        "rf_train"
      ],
      "execution_count": 231,
      "outputs": [
        {
          "output_type": "execute_result",
          "data": {
            "text/plain": [
              "0.9999908205930815"
            ]
          },
          "metadata": {
            "tags": []
          },
          "execution_count": 231
        }
      ]
    },
    {
      "cell_type": "code",
      "metadata": {
        "id": "pmg9GxIZw8UU",
        "colab_type": "code",
        "colab": {
          "base_uri": "https://localhost:8080/",
          "height": 34
        },
        "outputId": "537d4740-536d-4a8a-c2b0-d170fa179f72"
      },
      "source": [
        "# Test score for Random Forest\n",
        "rf_test = rf.score(x_test,y_test)\n",
        "rf_test"
      ],
      "execution_count": 232,
      "outputs": [
        {
          "output_type": "execute_result",
          "data": {
            "text/plain": [
              "0.9375025816844975"
            ]
          },
          "metadata": {
            "tags": []
          },
          "execution_count": 232
        }
      ]
    },
    {
      "cell_type": "markdown",
      "metadata": {
        "id": "HSM7msTxw8UZ",
        "colab_type": "text"
      },
      "source": [
        "### Performing KNearest Neighbors and analyzing the metrics"
      ]
    },
    {
      "cell_type": "code",
      "metadata": {
        "id": "5Syf3e4-w8Ua",
        "colab_type": "code",
        "colab": {}
      },
      "source": [
        "# Importing KNN and fitting the model\n",
        "from sklearn.neighbors import KNeighborsClassifier\n",
        "knn = KNeighborsClassifier()\n",
        "knn.fit(x_train,y_train)\n",
        "knn_pred = knn.predict(x_test)"
      ],
      "execution_count": 233,
      "outputs": []
    },
    {
      "cell_type": "code",
      "metadata": {
        "id": "oA2H4rwxw8Ud",
        "colab_type": "code",
        "colab": {
          "base_uri": "https://localhost:8080/",
          "height": 134
        },
        "outputId": "77fbb7f9-79d2-411e-f442-5e7f272c5d36"
      },
      "source": [
        "# Confusion matrix for KNN\n",
        "metrics.confusion_matrix(knn_pred,y_test)"
      ],
      "execution_count": 234,
      "outputs": [
        {
          "output_type": "execute_result",
          "data": {
            "text/plain": [
              "array([[25056,  1176,     1,     0,    24,     1,   124],\n",
              "       [ 1276, 34056,   103,     0,   169,    99,    19],\n",
              "       [    1,    72,  4232,    59,    13,   161,     0],\n",
              "       [    0,     0,    26,   242,     0,    10,     0],\n",
              "       [   17,    91,     5,     0,  1006,     5,     1],\n",
              "       [    3,    54,    94,    22,     3,  1826,     0],\n",
              "       [   97,    15,     0,     0,     0,     0,  2468]])"
            ]
          },
          "metadata": {
            "tags": []
          },
          "execution_count": 234
        }
      ]
    },
    {
      "cell_type": "code",
      "metadata": {
        "id": "2v6ZkKMkw8Uf",
        "colab_type": "code",
        "colab": {
          "base_uri": "https://localhost:8080/",
          "height": 252
        },
        "outputId": "99e71f95-fbe0-4b18-cb32-709443a3c94a"
      },
      "source": [
        "# Classification Report for KNN\n",
        "print(metrics.classification_report(knn_pred,y_test))"
      ],
      "execution_count": 235,
      "outputs": [
        {
          "output_type": "stream",
          "text": [
            "              precision    recall  f1-score   support\n",
            "\n",
            "           1       0.95      0.95      0.95     26382\n",
            "           2       0.96      0.95      0.96     35722\n",
            "           3       0.95      0.93      0.94      4538\n",
            "           4       0.75      0.87      0.81       278\n",
            "           5       0.83      0.89      0.86      1125\n",
            "           6       0.87      0.91      0.89      2002\n",
            "           7       0.94      0.96      0.95      2580\n",
            "\n",
            "    accuracy                           0.95     72627\n",
            "   macro avg       0.89      0.92      0.91     72627\n",
            "weighted avg       0.95      0.95      0.95     72627\n",
            "\n"
          ],
          "name": "stdout"
        }
      ]
    },
    {
      "cell_type": "code",
      "metadata": {
        "id": "z196mqZgw8Us",
        "colab_type": "code",
        "colab": {
          "base_uri": "https://localhost:8080/",
          "height": 34
        },
        "outputId": "4de86722-805a-4a6c-8025-19642fe21227"
      },
      "source": [
        "# Accuracy score for KNN\n",
        "knn_acc = metrics.accuracy_score(knn_pred,y_test)\n",
        "knn_acc"
      ],
      "execution_count": 236,
      "outputs": [
        {
          "output_type": "execute_result",
          "data": {
            "text/plain": [
              "0.9484902309058615"
            ]
          },
          "metadata": {
            "tags": []
          },
          "execution_count": 236
        }
      ]
    },
    {
      "cell_type": "code",
      "metadata": {
        "id": "_pkik6p3w8Uv",
        "colab_type": "code",
        "colab": {
          "base_uri": "https://localhost:8080/",
          "height": 34
        },
        "outputId": "d950b5d8-8840-48eb-fa38-b777e59ff4c1"
      },
      "source": [
        "# Cohen kappa score for KNN\n",
        "knn_cohen = metrics.cohen_kappa_score(knn_pred,y_test)\n",
        "knn_cohen"
      ],
      "execution_count": 237,
      "outputs": [
        {
          "output_type": "execute_result",
          "data": {
            "text/plain": [
              "0.917099254671798"
            ]
          },
          "metadata": {
            "tags": []
          },
          "execution_count": 237
        }
      ]
    },
    {
      "cell_type": "code",
      "metadata": {
        "id": "eh0RkhJgw8U3",
        "colab_type": "code",
        "colab": {
          "base_uri": "https://localhost:8080/",
          "height": 34
        },
        "outputId": "4efd073d-eb70-4369-8dc0-a03c3412b463"
      },
      "source": [
        "# Train score for KNN\n",
        "knn_train = knn.score(x_train,y_train)\n",
        "knn_train"
      ],
      "execution_count": 238,
      "outputs": [
        {
          "output_type": "execute_result",
          "data": {
            "text/plain": [
              "0.9723240881406652"
            ]
          },
          "metadata": {
            "tags": []
          },
          "execution_count": 238
        }
      ]
    },
    {
      "cell_type": "code",
      "metadata": {
        "id": "0hi2UrhEw8U8",
        "colab_type": "code",
        "colab": {
          "base_uri": "https://localhost:8080/",
          "height": 34
        },
        "outputId": "d5264f5f-631a-4b9e-9157-031e46019082"
      },
      "source": [
        "# Test score for KNN\n",
        "knn_test = knn.score(x_test,y_test)\n",
        "knn_test"
      ],
      "execution_count": 239,
      "outputs": [
        {
          "output_type": "execute_result",
          "data": {
            "text/plain": [
              "0.9484902309058615"
            ]
          },
          "metadata": {
            "tags": []
          },
          "execution_count": 239
        }
      ]
    },
    {
      "cell_type": "markdown",
      "metadata": {
        "id": "UQFZVVEyw8VC",
        "colab_type": "text"
      },
      "source": [
        "### Performing Logistic Regression and fitting the model"
      ]
    },
    {
      "cell_type": "code",
      "metadata": {
        "id": "TBsZX6AFw8VH",
        "colab_type": "code",
        "colab": {
          "base_uri": "https://localhost:8080/",
          "height": 70
        },
        "outputId": "4f0b6f46-9c3b-4843-ce0b-9384c3eeb4fe"
      },
      "source": [
        "# Importing the Logistic Regression and fitting the model\n",
        "from sklearn.linear_model import LogisticRegression\n",
        "lr = LogisticRegression(solver='newton-cg',multi_class='multinomial')\n",
        "lr.fit(x_train,y_train)\n",
        "lr_pred = lr.predict(x_test)"
      ],
      "execution_count": 240,
      "outputs": [
        {
          "output_type": "stream",
          "text": [
            "/usr/local/lib/python3.6/dist-packages/sklearn/utils/optimize.py:212: ConvergenceWarning: newton-cg failed to converge. Increase the number of iterations.\n",
            "  \"number of iterations.\", ConvergenceWarning)\n"
          ],
          "name": "stderr"
        }
      ]
    },
    {
      "cell_type": "code",
      "metadata": {
        "id": "KeroA4Evw8VL",
        "colab_type": "code",
        "colab": {
          "base_uri": "https://localhost:8080/",
          "height": 134
        },
        "outputId": "d9c9539d-bd8c-48f4-fc01-689314936ff0"
      },
      "source": [
        "\n",
        "# Confusion matrix for Logistic Regression\n",
        "metrics.confusion_matrix(lr_pred,y_test)"
      ],
      "execution_count": 241,
      "outputs": [
        {
          "output_type": "execute_result",
          "data": {
            "text/plain": [
              "array([[18564,  6636,     0,     0,    23,     0,  1366],\n",
              "       [ 7434, 28169,   586,     1,  1153,   538,    16],\n",
              "       [    2,   452,  3493,   179,    24,  1119,     0],\n",
              "       [    0,     0,    62,   100,     0,     4,     0],\n",
              "       [    0,     0,     0,     0,     0,     0,     0],\n",
              "       [    7,   173,   320,    43,    12,   440,     0],\n",
              "       [  443,    34,     0,     0,     3,     1,  1230]])"
            ]
          },
          "metadata": {
            "tags": []
          },
          "execution_count": 241
        }
      ]
    },
    {
      "cell_type": "code",
      "metadata": {
        "id": "htwKi5wSw8VP",
        "colab_type": "code",
        "colab": {
          "base_uri": "https://localhost:8080/",
          "height": 34
        },
        "outputId": "c7cd0926-9242-44b9-d6ea-eb8ec02e7fd0"
      },
      "source": [
        "# Accuracy score for Logistic Regression\n",
        "lr_acc = metrics.accuracy_score(lr_pred,y_test)\n",
        "lr_acc"
      ],
      "execution_count": 242,
      "outputs": [
        {
          "output_type": "execute_result",
          "data": {
            "text/plain": [
              "0.7159320913709777"
            ]
          },
          "metadata": {
            "tags": []
          },
          "execution_count": 242
        }
      ]
    },
    {
      "cell_type": "code",
      "metadata": {
        "id": "3cmWsSnrw8VT",
        "colab_type": "code",
        "colab": {
          "base_uri": "https://localhost:8080/",
          "height": 34
        },
        "outputId": "f385e728-bcda-4b8a-8150-b71e16c83918"
      },
      "source": [
        "# Cohen kappa score for Logistic Regression\n",
        "lr_cohen = metrics.cohen_kappa_score(lr_pred,y_test)\n",
        "lr_cohen"
      ],
      "execution_count": 243,
      "outputs": [
        {
          "output_type": "execute_result",
          "data": {
            "text/plain": [
              "0.5313652332890642"
            ]
          },
          "metadata": {
            "tags": []
          },
          "execution_count": 243
        }
      ]
    },
    {
      "cell_type": "code",
      "metadata": {
        "id": "OPRpDbIrw8Vb",
        "colab_type": "code",
        "colab": {
          "base_uri": "https://localhost:8080/",
          "height": 306
        },
        "outputId": "71f3747c-85df-4822-87ba-ff99bd7329c8"
      },
      "source": [
        "# Classification Report for Logistic Regression\n",
        "print(metrics.classification_report(lr_pred,y_test))"
      ],
      "execution_count": 244,
      "outputs": [
        {
          "output_type": "stream",
          "text": [
            "              precision    recall  f1-score   support\n",
            "\n",
            "           1       0.70      0.70      0.70     26589\n",
            "           2       0.79      0.74      0.77     37897\n",
            "           3       0.78      0.66      0.72      5269\n",
            "           4       0.31      0.60      0.41       166\n",
            "           5       0.00      0.00      0.00         0\n",
            "           6       0.21      0.44      0.28       995\n",
            "           7       0.47      0.72      0.57      1711\n",
            "\n",
            "    accuracy                           0.72     72627\n",
            "   macro avg       0.47      0.55      0.49     72627\n",
            "weighted avg       0.74      0.72      0.73     72627\n",
            "\n"
          ],
          "name": "stdout"
        },
        {
          "output_type": "stream",
          "text": [
            "/usr/local/lib/python3.6/dist-packages/sklearn/metrics/_classification.py:1272: UndefinedMetricWarning: Recall and F-score are ill-defined and being set to 0.0 in labels with no true samples. Use `zero_division` parameter to control this behavior.\n",
            "  _warn_prf(average, modifier, msg_start, len(result))\n"
          ],
          "name": "stderr"
        }
      ]
    },
    {
      "cell_type": "code",
      "metadata": {
        "id": "_xzQb39_w8Vf",
        "colab_type": "code",
        "colab": {
          "base_uri": "https://localhost:8080/",
          "height": 34
        },
        "outputId": "37e9052f-7fcf-4e48-8053-22950cc4d1ac"
      },
      "source": [
        "# Train score for Logistic Regression\n",
        "lr_train = lr.score(x_train,y_train)\n",
        "lr_train"
      ],
      "execution_count": 245,
      "outputs": [
        {
          "output_type": "execute_result",
          "data": {
            "text/plain": [
              "0.7184125133675113"
            ]
          },
          "metadata": {
            "tags": []
          },
          "execution_count": 245
        }
      ]
    },
    {
      "cell_type": "code",
      "metadata": {
        "id": "NuakS05nw8Vj",
        "colab_type": "code",
        "colab": {
          "base_uri": "https://localhost:8080/",
          "height": 34
        },
        "outputId": "b01a0bf5-5b9c-4cc4-83c0-eaa9d2f1b167"
      },
      "source": [
        "# Test score for Logistic Regression\n",
        "lr_test = lr.score(x_test,y_test)\n",
        "lr_test"
      ],
      "execution_count": 246,
      "outputs": [
        {
          "output_type": "execute_result",
          "data": {
            "text/plain": [
              "0.7159320913709777"
            ]
          },
          "metadata": {
            "tags": []
          },
          "execution_count": 246
        }
      ]
    },
    {
      "cell_type": "markdown",
      "metadata": {
        "id": "LnxBIG0_w8Vy",
        "colab_type": "text"
      },
      "source": [
        "### Performing Ada Boost Classification and analyzing the metrics"
      ]
    },
    {
      "cell_type": "code",
      "metadata": {
        "colab_type": "code",
        "id": "A2yaTPa8V3Hk",
        "colab": {}
      },
      "source": [
        "# Importing Ada Boost Classifier and fitting the model\n",
        "from sklearn.ensemble import AdaBoostClassifier\n",
        "ab = AdaBoostClassifier()\n",
        "ab.fit(x_train,y_train)\n",
        "pred2 = ab.predict(x_test)"
      ],
      "execution_count": 166,
      "outputs": []
    },
    {
      "cell_type": "code",
      "metadata": {
        "id": "ASUlbMr2w8V6",
        "colab_type": "code",
        "colab": {
          "base_uri": "https://localhost:8080/",
          "height": 134
        },
        "outputId": "89178741-02f6-4b8d-8eac-d7e6711c2fd9"
      },
      "source": [
        "# Confusion matrix for Ada Boost\n",
        "metrics.confusion_matrix(pred2,y_test)"
      ],
      "execution_count": 167,
      "outputs": [
        {
          "output_type": "execute_result",
          "data": {
            "text/plain": [
              "array([[299, 145,   0,   0,   0,   0,  54],\n",
              "       [122, 483,  17,   0,  22,  17,   0],\n",
              "       [  0,   7,  46,   7,   0,  31,   0],\n",
              "       [  0,   0,   0,   0,   0,   0,   0],\n",
              "       [  0,   0,   0,   0,   0,   0,   0],\n",
              "       [  0,   0,   0,   0,   0,   0,   0],\n",
              "       [  0,   0,   0,   0,   0,   0,   0]])"
            ]
          },
          "metadata": {
            "tags": []
          },
          "execution_count": 167
        }
      ]
    },
    {
      "cell_type": "code",
      "metadata": {
        "id": "6xWWrQsZw8WC",
        "colab_type": "code",
        "colab": {
          "base_uri": "https://localhost:8080/",
          "height": 306
        },
        "outputId": "12111bcc-3b5c-490c-e164-1e7669b618cb"
      },
      "source": [
        "# Classification Report for Ada Boost\n",
        "print(metrics.classification_report(pred2,y_test))"
      ],
      "execution_count": 168,
      "outputs": [
        {
          "output_type": "stream",
          "text": [
            "              precision    recall  f1-score   support\n",
            "\n",
            "           1       0.71      0.60      0.65       498\n",
            "           2       0.76      0.73      0.75       661\n",
            "           3       0.73      0.51      0.60        91\n",
            "           4       0.00      0.00      0.00         0\n",
            "           5       0.00      0.00      0.00         0\n",
            "           6       0.00      0.00      0.00         0\n",
            "           7       0.00      0.00      0.00         0\n",
            "\n",
            "    accuracy                           0.66      1250\n",
            "   macro avg       0.31      0.26      0.28      1250\n",
            "weighted avg       0.74      0.66      0.70      1250\n",
            "\n"
          ],
          "name": "stdout"
        },
        {
          "output_type": "stream",
          "text": [
            "/usr/local/lib/python3.6/dist-packages/sklearn/metrics/_classification.py:1272: UndefinedMetricWarning: Recall and F-score are ill-defined and being set to 0.0 in labels with no true samples. Use `zero_division` parameter to control this behavior.\n",
            "  _warn_prf(average, modifier, msg_start, len(result))\n"
          ],
          "name": "stderr"
        }
      ]
    },
    {
      "cell_type": "code",
      "metadata": {
        "id": "c7vg-Roow8WJ",
        "colab_type": "code",
        "colab": {
          "base_uri": "https://localhost:8080/",
          "height": 34
        },
        "outputId": "f22b2fde-4fb9-4de9-bb57-beb1ec8798f0"
      },
      "source": [
        "# Accuracy score for Ada Boost\n",
        "ab_acc = metrics.accuracy_score(pred2,y_test)\n",
        "ab_acc"
      ],
      "execution_count": 169,
      "outputs": [
        {
          "output_type": "execute_result",
          "data": {
            "text/plain": [
              "0.6624"
            ]
          },
          "metadata": {
            "tags": []
          },
          "execution_count": 169
        }
      ]
    },
    {
      "cell_type": "code",
      "metadata": {
        "id": "5BYTAMmzw8WO",
        "colab_type": "code",
        "colab": {
          "base_uri": "https://localhost:8080/",
          "height": 34
        },
        "outputId": "58263785-3f84-4378-ed33-e6661c4c0b2a"
      },
      "source": [
        "# Cohen kappa score for Ada Boost\n",
        "ab_cohen = metrics.cohen_kappa_score(pred2,y_test)\n",
        "ab_cohen"
      ],
      "execution_count": 170,
      "outputs": [
        {
          "output_type": "execute_result",
          "data": {
            "text/plain": [
              "0.43118957400142777"
            ]
          },
          "metadata": {
            "tags": []
          },
          "execution_count": 170
        }
      ]
    },
    {
      "cell_type": "code",
      "metadata": {
        "id": "fWAtHf9rw8WQ",
        "colab_type": "code",
        "colab": {
          "base_uri": "https://localhost:8080/",
          "height": 34
        },
        "outputId": "b6871526-543c-46c2-cac7-2e3d1a79ba69"
      },
      "source": [
        "# Train score for Ada Boost\n",
        "ab_train = ab.score(x_train,y_train)\n",
        "ab_train"
      ],
      "execution_count": 171,
      "outputs": [
        {
          "output_type": "execute_result",
          "data": {
            "text/plain": [
              "0.6808"
            ]
          },
          "metadata": {
            "tags": []
          },
          "execution_count": 171
        }
      ]
    },
    {
      "cell_type": "code",
      "metadata": {
        "id": "7EalQSLLw8WT",
        "colab_type": "code",
        "colab": {
          "base_uri": "https://localhost:8080/",
          "height": 34
        },
        "outputId": "060b2f4e-459b-4444-e221-480a10d71b2a"
      },
      "source": [
        "# Test score for Ada Boost \n",
        "ab_test = ab.score(x_test,y_test)\n",
        "ab_test"
      ],
      "execution_count": 172,
      "outputs": [
        {
          "output_type": "execute_result",
          "data": {
            "text/plain": [
              "0.6624"
            ]
          },
          "metadata": {
            "tags": []
          },
          "execution_count": 172
        }
      ]
    },
    {
      "cell_type": "markdown",
      "metadata": {
        "id": "FDcFNeymw8WX",
        "colab_type": "text"
      },
      "source": [
        "### Performing Gradient Boosting Classification and analyzing the metrics"
      ]
    },
    {
      "cell_type": "code",
      "metadata": {
        "colab_type": "code",
        "id": "esua9y_7V9Oc",
        "colab": {}
      },
      "source": [
        "# Importing Gradient Boosting Classifier and fitting the model\n",
        "from sklearn.ensemble import GradientBoostingClassifier\n",
        "gb = GradientBoostingClassifier()\n",
        "gb.fit(x_train,y_train)\n",
        "pred3 = gb.predict(x_test)"
      ],
      "execution_count": 173,
      "outputs": []
    },
    {
      "cell_type": "code",
      "metadata": {
        "id": "V8BmA9Hnw8Wc",
        "colab_type": "code",
        "colab": {
          "base_uri": "https://localhost:8080/",
          "height": 134
        },
        "outputId": "b68fec61-e96b-41b2-e54d-299de06ed77a"
      },
      "source": [
        "# Confusion matrix for Gradient Boosting Classifier\n",
        "metrics.confusion_matrix(pred3,y_test)"
      ],
      "execution_count": 174,
      "outputs": [
        {
          "output_type": "execute_result",
          "data": {
            "text/plain": [
              "array([[294,  86,   0,   0,   0,   0,  28],\n",
              "       [119, 535,   2,   0,  20,   7,   0],\n",
              "       [  1,   7,  53,   3,   0,  19,   0],\n",
              "       [  0,   0,   4,   4,   0,   2,   0],\n",
              "       [  0,   0,   1,   0,   2,   0,   0],\n",
              "       [  0,   7,   3,   0,   0,  20,   0],\n",
              "       [  7,   0,   0,   0,   0,   0,  26]])"
            ]
          },
          "metadata": {
            "tags": []
          },
          "execution_count": 174
        }
      ]
    },
    {
      "cell_type": "code",
      "metadata": {
        "id": "IAUE1w6yw8Wg",
        "colab_type": "code",
        "colab": {
          "base_uri": "https://localhost:8080/",
          "height": 252
        },
        "outputId": "d38ce0de-9f72-4b78-b358-786a4d01947a"
      },
      "source": [
        "# Classification Report for Gradient Boosting Classifier\n",
        "print(metrics.classification_report(pred3,y_test))"
      ],
      "execution_count": 175,
      "outputs": [
        {
          "output_type": "stream",
          "text": [
            "              precision    recall  f1-score   support\n",
            "\n",
            "           1       0.70      0.72      0.71       408\n",
            "           2       0.84      0.78      0.81       683\n",
            "           3       0.84      0.64      0.73        83\n",
            "           4       0.57      0.40      0.47        10\n",
            "           5       0.09      0.67      0.16         3\n",
            "           6       0.42      0.67      0.51        30\n",
            "           7       0.48      0.79      0.60        33\n",
            "\n",
            "    accuracy                           0.75      1250\n",
            "   macro avg       0.56      0.67      0.57      1250\n",
            "weighted avg       0.77      0.75      0.76      1250\n",
            "\n"
          ],
          "name": "stdout"
        }
      ]
    },
    {
      "cell_type": "code",
      "metadata": {
        "id": "PsbwWZEWw8Wi",
        "colab_type": "code",
        "colab": {
          "base_uri": "https://localhost:8080/",
          "height": 34
        },
        "outputId": "ddda69ce-946e-49fb-c708-d7dd4f9dc4c3"
      },
      "source": [
        "# Accuracy score for Gradient Boosting Classifier\n",
        "gb_acc = metrics.accuracy_score(pred3,y_test)\n",
        "gb_acc"
      ],
      "execution_count": 176,
      "outputs": [
        {
          "output_type": "execute_result",
          "data": {
            "text/plain": [
              "0.7472"
            ]
          },
          "metadata": {
            "tags": []
          },
          "execution_count": 176
        }
      ]
    },
    {
      "cell_type": "code",
      "metadata": {
        "id": "amo7nKxOw8Wl",
        "colab_type": "code",
        "colab": {
          "base_uri": "https://localhost:8080/",
          "height": 34
        },
        "outputId": "b901462b-a7cb-43b1-9608-b27d6daef79a"
      },
      "source": [
        "# Cohen kappa score for Gradient Boosting Classifier\n",
        "gb_cohen = metrics.cohen_kappa_score(pred3,y_test)\n",
        "gb_cohen"
      ],
      "execution_count": 177,
      "outputs": [
        {
          "output_type": "execute_result",
          "data": {
            "text/plain": [
              "0.5835266332082156"
            ]
          },
          "metadata": {
            "tags": []
          },
          "execution_count": 177
        }
      ]
    },
    {
      "cell_type": "code",
      "metadata": {
        "id": "It40LETMw8Wp",
        "colab_type": "code",
        "colab": {
          "base_uri": "https://localhost:8080/",
          "height": 34
        },
        "outputId": "cde4faf4-da7f-4c16-cfd7-ef1b14868bc8"
      },
      "source": [
        "# Train score for Gradient Boosting Classifier\n",
        "gb_train = gb.score(x_train,y_train)\n",
        "gb_train"
      ],
      "execution_count": 178,
      "outputs": [
        {
          "output_type": "execute_result",
          "data": {
            "text/plain": [
              "0.8709333333333333"
            ]
          },
          "metadata": {
            "tags": []
          },
          "execution_count": 178
        }
      ]
    },
    {
      "cell_type": "code",
      "metadata": {
        "id": "ipG8s6QYw8Wt",
        "colab_type": "code",
        "colab": {
          "base_uri": "https://localhost:8080/",
          "height": 34
        },
        "outputId": "84760c63-d1c3-46f0-f142-fb3add75c242"
      },
      "source": [
        "# Test score for Gradient Boosting Classifier\n",
        "gb_test = gb.score(x_test,y_test)\n",
        "gb_test"
      ],
      "execution_count": 179,
      "outputs": [
        {
          "output_type": "execute_result",
          "data": {
            "text/plain": [
              "0.7472"
            ]
          },
          "metadata": {
            "tags": []
          },
          "execution_count": 179
        }
      ]
    },
    {
      "cell_type": "markdown",
      "metadata": {
        "id": "Q0wOPcx8w8Wv",
        "colab_type": "text"
      },
      "source": [
        "### Performing XG Boost Classification and analyzing the metrics"
      ]
    },
    {
      "cell_type": "code",
      "metadata": {
        "colab_type": "code",
        "id": "SORFPZsnWHA7",
        "colab": {}
      },
      "source": [
        "# Importing the XG Boost Classifier\n",
        "from xgboost.sklearn import XGBClassifier"
      ],
      "execution_count": 180,
      "outputs": []
    },
    {
      "cell_type": "code",
      "metadata": {
        "colab_type": "code",
        "id": "4vRE7nXGWI-T",
        "colab": {}
      },
      "source": [
        "# Fitting the model\n",
        "xgb_model = XGBClassifier() "
      ],
      "execution_count": 181,
      "outputs": []
    },
    {
      "cell_type": "code",
      "metadata": {
        "colab_type": "code",
        "id": "G-7YAS2HWKQ3",
        "colab": {
          "base_uri": "https://localhost:8080/",
          "height": 134
        },
        "outputId": "99b062cb-1a09-48fa-a07c-15c14c538088"
      },
      "source": [
        "# Training the model\n",
        "xgb_model.fit(x_train,y_train)"
      ],
      "execution_count": 182,
      "outputs": [
        {
          "output_type": "execute_result",
          "data": {
            "text/plain": [
              "XGBClassifier(base_score=0.5, booster='gbtree', colsample_bylevel=1,\n",
              "              colsample_bynode=1, colsample_bytree=1, gamma=0,\n",
              "              learning_rate=0.1, max_delta_step=0, max_depth=3,\n",
              "              min_child_weight=1, missing=None, n_estimators=100, n_jobs=1,\n",
              "              nthread=None, objective='multi:softprob', random_state=0,\n",
              "              reg_alpha=0, reg_lambda=1, scale_pos_weight=1, seed=None,\n",
              "              silent=None, subsample=1, verbosity=1)"
            ]
          },
          "metadata": {
            "tags": []
          },
          "execution_count": 182
        }
      ]
    },
    {
      "cell_type": "code",
      "metadata": {
        "colab_type": "code",
        "id": "gTKYNzwTWLlE",
        "colab": {}
      },
      "source": [
        "# Testing the model\n",
        "pred4 = xgb_model.predict(x_test)"
      ],
      "execution_count": 183,
      "outputs": []
    },
    {
      "cell_type": "code",
      "metadata": {
        "id": "l6Vo-g54w8W9",
        "colab_type": "code",
        "colab": {
          "base_uri": "https://localhost:8080/",
          "height": 134
        },
        "outputId": "ac3c29d1-1dd7-4dee-adb3-b2654d11d2b5"
      },
      "source": [
        "# Confusion matrix for XG Boost\n",
        "metrics.confusion_matrix(pred4,y_test)"
      ],
      "execution_count": 184,
      "outputs": [
        {
          "output_type": "execute_result",
          "data": {
            "text/plain": [
              "array([[285,  88,   0,   0,   0,   0,  26],\n",
              "       [132, 537,   5,   0,  20,   9,   0],\n",
              "       [  0,   8,  55,   2,   0,  24,   0],\n",
              "       [  0,   0,   2,   4,   0,   1,   0],\n",
              "       [  0,   0,   0,   0,   2,   0,   0],\n",
              "       [  0,   2,   1,   1,   0,  14,   0],\n",
              "       [  4,   0,   0,   0,   0,   0,  28]])"
            ]
          },
          "metadata": {
            "tags": []
          },
          "execution_count": 184
        }
      ]
    },
    {
      "cell_type": "code",
      "metadata": {
        "id": "VrFTEwdFw8W_",
        "colab_type": "code",
        "colab": {
          "base_uri": "https://localhost:8080/",
          "height": 34
        },
        "outputId": "bc14d3d8-5241-4760-ac9d-196c897a4314"
      },
      "source": [
        "# Accuracy score for XG Boost\n",
        "xgb_acc = metrics.accuracy_score(pred4,y_test)\n",
        "xgb_acc"
      ],
      "execution_count": 185,
      "outputs": [
        {
          "output_type": "execute_result",
          "data": {
            "text/plain": [
              "0.74"
            ]
          },
          "metadata": {
            "tags": []
          },
          "execution_count": 185
        }
      ]
    },
    {
      "cell_type": "code",
      "metadata": {
        "id": "3Y8hh9NYw8XC",
        "colab_type": "code",
        "colab": {
          "base_uri": "https://localhost:8080/",
          "height": 34
        },
        "outputId": "888d6fb0-67dc-4fb2-9bd8-800fbe72ff45"
      },
      "source": [
        "# Cohen kappa score for XG Boost\n",
        "xgb_cohen = metrics.cohen_kappa_score(pred4,y_test)\n",
        "xgb_cohen"
      ],
      "execution_count": 186,
      "outputs": [
        {
          "output_type": "execute_result",
          "data": {
            "text/plain": [
              "0.5677382148146886"
            ]
          },
          "metadata": {
            "tags": []
          },
          "execution_count": 186
        }
      ]
    },
    {
      "cell_type": "code",
      "metadata": {
        "id": "t_70BZjBw8XE",
        "colab_type": "code",
        "colab": {
          "base_uri": "https://localhost:8080/",
          "height": 34
        },
        "outputId": "8641e14b-b00a-4fe8-c569-4dec8aaaa6a5"
      },
      "source": [
        "# Train score for XG Boost\n",
        "xgb_train = xgb_model.score(x_train,y_train)\n",
        "xgb_train"
      ],
      "execution_count": 187,
      "outputs": [
        {
          "output_type": "execute_result",
          "data": {
            "text/plain": [
              "0.8016"
            ]
          },
          "metadata": {
            "tags": []
          },
          "execution_count": 187
        }
      ]
    },
    {
      "cell_type": "code",
      "metadata": {
        "id": "9zcafeGww8XG",
        "colab_type": "code",
        "colab": {
          "base_uri": "https://localhost:8080/",
          "height": 34
        },
        "outputId": "08d09191-2045-41a4-ca4c-68db01789702"
      },
      "source": [
        "# Test score for XG Boost\n",
        "xgb_test = xgb_model.score(x_test,y_test)\n",
        "xgb_test"
      ],
      "execution_count": 188,
      "outputs": [
        {
          "output_type": "execute_result",
          "data": {
            "text/plain": [
              "0.74"
            ]
          },
          "metadata": {
            "tags": []
          },
          "execution_count": 188
        }
      ]
    },
    {
      "cell_type": "markdown",
      "metadata": {
        "id": "Ni035PSSw8XJ",
        "colab_type": "text"
      },
      "source": [
        "### Performing LightGBM Classification and analyzing the metrics"
      ]
    },
    {
      "cell_type": "code",
      "metadata": {
        "colab_type": "code",
        "id": "loZSf-B4WZi8",
        "colab": {
          "base_uri": "https://localhost:8080/",
          "height": 118
        },
        "outputId": "e477683a-7510-48de-bf0a-1c9545b9ca9f"
      },
      "source": [
        "import lightgbm as lgb\n",
        "\n",
        "lightgb = lgb.LGBMClassifier()\n",
        "lightgb.fit(x_train,y_train)"
      ],
      "execution_count": 189,
      "outputs": [
        {
          "output_type": "execute_result",
          "data": {
            "text/plain": [
              "LGBMClassifier(boosting_type='gbdt', class_weight=None, colsample_bytree=1.0,\n",
              "               importance_type='split', learning_rate=0.1, max_depth=-1,\n",
              "               min_child_samples=20, min_child_weight=0.001, min_split_gain=0.0,\n",
              "               n_estimators=100, n_jobs=-1, num_leaves=31, objective=None,\n",
              "               random_state=None, reg_alpha=0.0, reg_lambda=0.0, silent=True,\n",
              "               subsample=1.0, subsample_for_bin=200000, subsample_freq=0)"
            ]
          },
          "metadata": {
            "tags": []
          },
          "execution_count": 189
        }
      ]
    },
    {
      "cell_type": "code",
      "metadata": {
        "colab_type": "code",
        "id": "DseTGKDXdT65",
        "colab": {}
      },
      "source": [
        "pred5 = lightgb.predict(x_test)"
      ],
      "execution_count": 190,
      "outputs": []
    },
    {
      "cell_type": "code",
      "metadata": {
        "colab_type": "code",
        "id": "5acqcgX2gV5w",
        "colab": {
          "base_uri": "https://localhost:8080/",
          "height": 134
        },
        "outputId": "07d73b22-e4ae-4415-9476-efa974607291"
      },
      "source": [
        "# Confusion matrix for Light GBM\n",
        "metrics.confusion_matrix(pred5,y_test)"
      ],
      "execution_count": 191,
      "outputs": [
        {
          "output_type": "execute_result",
          "data": {
            "text/plain": [
              "array([[306,  79,   0,   0,   0,   0,  27],\n",
              "       [111, 545,   2,   0,  19,   9,   1],\n",
              "       [  0,   6,  54,   4,   0,  17,   0],\n",
              "       [  0,   0,   2,   2,   0,   2,   0],\n",
              "       [  0,   0,   0,   0,   3,   0,   0],\n",
              "       [  0,   5,   5,   1,   0,  20,   0],\n",
              "       [  4,   0,   0,   0,   0,   0,  26]])"
            ]
          },
          "metadata": {
            "tags": []
          },
          "execution_count": 191
        }
      ]
    },
    {
      "cell_type": "code",
      "metadata": {
        "id": "7EhYQyZsw8Xc",
        "colab_type": "code",
        "colab": {
          "base_uri": "https://localhost:8080/",
          "height": 252
        },
        "outputId": "b1c60085-106b-4964-b7e3-d3325a2d446a"
      },
      "source": [
        "# Classification Report for Light GBM\n",
        "print(metrics.classification_report(pred5,y_test))"
      ],
      "execution_count": 192,
      "outputs": [
        {
          "output_type": "stream",
          "text": [
            "              precision    recall  f1-score   support\n",
            "\n",
            "           1       0.73      0.74      0.73       412\n",
            "           2       0.86      0.79      0.82       687\n",
            "           3       0.86      0.67      0.75        81\n",
            "           4       0.29      0.33      0.31         6\n",
            "           5       0.14      1.00      0.24         3\n",
            "           6       0.42      0.65      0.51        31\n",
            "           7       0.48      0.87      0.62        30\n",
            "\n",
            "    accuracy                           0.76      1250\n",
            "   macro avg       0.54      0.72      0.57      1250\n",
            "weighted avg       0.79      0.76      0.77      1250\n",
            "\n"
          ],
          "name": "stdout"
        }
      ]
    },
    {
      "cell_type": "code",
      "metadata": {
        "id": "nu3qcDUvw8Xf",
        "colab_type": "code",
        "colab": {
          "base_uri": "https://localhost:8080/",
          "height": 34
        },
        "outputId": "9ed29f91-0c3c-4424-f623-2561469e8ca7"
      },
      "source": [
        "# Accuracy score for Light GBM\n",
        "light_acc = metrics.accuracy_score(pred5,y_test)\n",
        "light_acc"
      ],
      "execution_count": 193,
      "outputs": [
        {
          "output_type": "execute_result",
          "data": {
            "text/plain": [
              "0.7648"
            ]
          },
          "metadata": {
            "tags": []
          },
          "execution_count": 193
        }
      ]
    },
    {
      "cell_type": "code",
      "metadata": {
        "id": "pdOXYRKrw8Xh",
        "colab_type": "code",
        "colab": {
          "base_uri": "https://localhost:8080/",
          "height": 34
        },
        "outputId": "41f153bb-5433-4425-c3ce-36e84555eb6d"
      },
      "source": [
        "# Cohen kappa score for Light GBM\n",
        "light_cohen = metrics.cohen_kappa_score(pred5,y_test)\n",
        "light_cohen"
      ],
      "execution_count": 194,
      "outputs": [
        {
          "output_type": "execute_result",
          "data": {
            "text/plain": [
              "0.6108986494212713"
            ]
          },
          "metadata": {
            "tags": []
          },
          "execution_count": 194
        }
      ]
    },
    {
      "cell_type": "code",
      "metadata": {
        "id": "qPt5LmKWw8Xj",
        "colab_type": "code",
        "colab": {
          "base_uri": "https://localhost:8080/",
          "height": 34
        },
        "outputId": "ff4c3102-378f-431d-ad0e-2050d8b51b78"
      },
      "source": [
        "# Train score for Light GBM\n",
        "light_train = lightgb.score(x_train,y_train)\n",
        "light_train"
      ],
      "execution_count": 195,
      "outputs": [
        {
          "output_type": "execute_result",
          "data": {
            "text/plain": [
              "0.9682666666666667"
            ]
          },
          "metadata": {
            "tags": []
          },
          "execution_count": 195
        }
      ]
    },
    {
      "cell_type": "code",
      "metadata": {
        "id": "uta63_FAw8Xn",
        "colab_type": "code",
        "colab": {
          "base_uri": "https://localhost:8080/",
          "height": 34
        },
        "outputId": "d06e3262-7db1-4b64-9699-644fc04cf74a"
      },
      "source": [
        "# Test score for Light GBM\n",
        "light_test = lightgb.score(x_test,y_test)\n",
        "light_test"
      ],
      "execution_count": 196,
      "outputs": [
        {
          "output_type": "execute_result",
          "data": {
            "text/plain": [
              "0.7648"
            ]
          },
          "metadata": {
            "tags": []
          },
          "execution_count": 196
        }
      ]
    },
    {
      "cell_type": "markdown",
      "metadata": {
        "id": "ZYKgXSjIw8Xp",
        "colab_type": "text"
      },
      "source": [
        "### 7. Create a dataframe of all the models with their metrics and compare the scores between each models"
      ]
    },
    {
      "cell_type": "code",
      "metadata": {
        "id": "1_7LPvDAw8Xp",
        "colab_type": "code",
        "colab": {}
      },
      "source": [
        "# Creating dictionary for all the metrics and models\n",
        "metrics = {'Metrics': ['Train Score','Test Score','Accuracy Score','Cohen kappa score'],'Logistic Regression':[lr_train,lr_test,lr_acc,lr_cohen],\n",
        "          'Decision Tree Classifier':[dt_train,dt_test,dt_acc,dt_cohen],'Ramdom Forest Classifier':[rf_train,rf_test,rf_acc,rf_cohen],'Light GBM Classifier':[light_train,light_test,light_acc,light_cohen],\n",
        "          'KNearestNeighbor Classifier':[knn_train,knn_test,knn_acc,knn_cohen],\n",
        "          'XG Boost Classifier':[xgb_train,xgb_test,xgb_acc,xgb_cohen],\n",
        "          'Ada Boost Classifier':[ab_train,ab_test,ab_acc,ab_cohen],\n",
        "          'Gradient Boosting Classifier':[gb_train,gb_test,gb_acc,gb_cohen]}"
      ],
      "execution_count": 197,
      "outputs": []
    },
    {
      "cell_type": "code",
      "metadata": {
        "id": "7BCxHUx-w8Xv",
        "colab_type": "code",
        "colab": {
          "base_uri": "https://localhost:8080/",
          "height": 233
        },
        "outputId": "82707d41-996e-43b9-d714-d6dbec0169df"
      },
      "source": [
        "# Creating dataframe for all the metrics and models\n",
        "metrics = pd.DataFrame(metrics)\n",
        "metrics"
      ],
      "execution_count": 198,
      "outputs": [
        {
          "output_type": "execute_result",
          "data": {
            "text/html": [
              "<div>\n",
              "<style scoped>\n",
              "    .dataframe tbody tr th:only-of-type {\n",
              "        vertical-align: middle;\n",
              "    }\n",
              "\n",
              "    .dataframe tbody tr th {\n",
              "        vertical-align: top;\n",
              "    }\n",
              "\n",
              "    .dataframe thead th {\n",
              "        text-align: right;\n",
              "    }\n",
              "</style>\n",
              "<table border=\"1\" class=\"dataframe\">\n",
              "  <thead>\n",
              "    <tr style=\"text-align: right;\">\n",
              "      <th></th>\n",
              "      <th>Metrics</th>\n",
              "      <th>Logistic Regression</th>\n",
              "      <th>Decision Tree Classifier</th>\n",
              "      <th>Ramdom Forest Classifier</th>\n",
              "      <th>Light GBM Classifier</th>\n",
              "      <th>KNearestNeighbor Classifier</th>\n",
              "      <th>XG Boost Classifier</th>\n",
              "      <th>Ada Boost Classifier</th>\n",
              "      <th>Gradient Boosting Classifier</th>\n",
              "    </tr>\n",
              "  </thead>\n",
              "  <tbody>\n",
              "    <tr>\n",
              "      <th>0</th>\n",
              "      <td>Train Score</td>\n",
              "      <td>0.738667</td>\n",
              "      <td>1.000000</td>\n",
              "      <td>1.000000</td>\n",
              "      <td>0.968267</td>\n",
              "      <td>0.812267</td>\n",
              "      <td>0.801600</td>\n",
              "      <td>0.68080</td>\n",
              "      <td>0.870933</td>\n",
              "    </tr>\n",
              "    <tr>\n",
              "      <th>1</th>\n",
              "      <td>Test Score</td>\n",
              "      <td>0.718400</td>\n",
              "      <td>0.688000</td>\n",
              "      <td>0.773600</td>\n",
              "      <td>0.764800</td>\n",
              "      <td>0.689600</td>\n",
              "      <td>0.740000</td>\n",
              "      <td>0.66240</td>\n",
              "      <td>0.747200</td>\n",
              "    </tr>\n",
              "    <tr>\n",
              "      <th>2</th>\n",
              "      <td>Accuracy Score</td>\n",
              "      <td>0.718400</td>\n",
              "      <td>0.688000</td>\n",
              "      <td>0.773600</td>\n",
              "      <td>0.764800</td>\n",
              "      <td>0.689600</td>\n",
              "      <td>0.740000</td>\n",
              "      <td>0.66240</td>\n",
              "      <td>0.747200</td>\n",
              "    </tr>\n",
              "    <tr>\n",
              "      <th>3</th>\n",
              "      <td>Cohen kappa score</td>\n",
              "      <td>0.533073</td>\n",
              "      <td>0.495179</td>\n",
              "      <td>0.624404</td>\n",
              "      <td>0.610899</td>\n",
              "      <td>0.477769</td>\n",
              "      <td>0.567738</td>\n",
              "      <td>0.43119</td>\n",
              "      <td>0.583527</td>\n",
              "    </tr>\n",
              "  </tbody>\n",
              "</table>\n",
              "</div>"
            ],
            "text/plain": [
              "             Metrics  ...  Gradient Boosting Classifier\n",
              "0        Train Score  ...                      0.870933\n",
              "1         Test Score  ...                      0.747200\n",
              "2     Accuracy Score  ...                      0.747200\n",
              "3  Cohen kappa score  ...                      0.583527\n",
              "\n",
              "[4 rows x 9 columns]"
            ]
          },
          "metadata": {
            "tags": []
          },
          "execution_count": 198
        }
      ]
    },
    {
      "cell_type": "markdown",
      "metadata": {
        "id": "pEpH4XYsw8Xw",
        "colab_type": "text"
      },
      "source": [
        "### 8. Give the final inference for the models you have created"
      ]
    },
    {
      "cell_type": "markdown",
      "metadata": {
        "id": "8lVViwIGw8Xx",
        "colab_type": "text"
      },
      "source": [
        "We could from the dataframe that the models KNearestNeighbors,Light GBM and Random Forest are the best models"
      ]
    }
  ]
}