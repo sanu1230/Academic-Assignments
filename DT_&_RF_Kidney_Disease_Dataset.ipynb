{
  "nbformat": 4,
  "nbformat_minor": 0,
  "metadata": {
    "colab": {
      "name": "DT & RF - Kidney Disease Dataset.ipynb",
      "provenance": [],
      "collapsed_sections": [],
      "toc_visible": true,
      "include_colab_link": true
    },
    "kernelspec": {
      "name": "python3",
      "display_name": "Python 3"
    }
  },
  "cells": [
    {
      "cell_type": "markdown",
      "metadata": {
        "id": "view-in-github",
        "colab_type": "text"
      },
      "source": [
        "<a href=\"https://colab.research.google.com/github/sanu1230/Academic-Project/blob/master/DT_%26_RF_Kidney_Disease_Dataset.ipynb\" target=\"_parent\"><img src=\"https://colab.research.google.com/assets/colab-badge.svg\" alt=\"Open In Colab\"/></a>"
      ]
    },
    {
      "cell_type": "markdown",
      "metadata": {
        "id": "veUDaU-slFaB",
        "colab_type": "text"
      },
      "source": [
        "\n",
        "# Kidney Disease Dataset\n",
        "## Data Descriptions\n",
        "\n",
        "Predicting Chronic Kidney Disease based on health records.\n",
        "\n",
        "Given 24 health related attributes taken in 2-month period of 400 patients, using the information of the 158 patients with complete records to predict the outcome (i.e. whether one has chronic kidney disease) of the remaining 242 patients (with missing values in their records).\n"
      ]
    },
    {
      "cell_type": "markdown",
      "metadata": {
        "id": "x0alFJ_RG-TR",
        "colab_type": "text"
      },
      "source": [
        "##**Business Requirement:** \n",
        "Classify whether the patients have \"Classification\" column 'ckd' or 'notckd'. This means whether the patient has kidney disorder or not."
      ]
    },
    {
      "cell_type": "code",
      "metadata": {
        "id": "9M8NuB0wlFaF",
        "colab_type": "code",
        "colab": {}
      },
      "source": [
        "# Importing the dataset and libaries\n",
        "\n",
        "import pandas as pd\n",
        "import numpy as np\n",
        "import matplotlib.pyplot as plt\n",
        "import seaborn as sns\n",
        "\n",
        "%matplotlib inline"
      ],
      "execution_count": 20,
      "outputs": []
    },
    {
      "cell_type": "code",
      "metadata": {
        "id": "7hxs0B-1IZ_l",
        "colab_type": "code",
        "colab": {
          "base_uri": "https://localhost:8080/",
          "height": 34
        },
        "outputId": "6ace225e-eb3a-42ac-f741-2564beb28544"
      },
      "source": [
        "from google.colab import drive\n",
        "drive.mount('/content/drive')"
      ],
      "execution_count": 21,
      "outputs": [
        {
          "output_type": "stream",
          "text": [
            "Drive already mounted at /content/drive; to attempt to forcibly remount, call drive.mount(\"/content/drive\", force_remount=True).\n"
          ],
          "name": "stdout"
        }
      ]
    },
    {
      "cell_type": "code",
      "metadata": {
        "id": "5izM2645lFaQ",
        "colab_type": "code",
        "colab": {}
      },
      "source": [
        "kidney_df = pd.read_csv('/content/drive/My Drive/Colab Notebooks/UpX/ML Projects/kidney_disease.csv')"
      ],
      "execution_count": 22,
      "outputs": []
    },
    {
      "cell_type": "code",
      "metadata": {
        "id": "LB61_vjTlFaV",
        "colab_type": "code",
        "colab": {
          "base_uri": "https://localhost:8080/",
          "height": 215
        },
        "outputId": "8334978c-3ad7-4f69-c45b-2901656a7450"
      },
      "source": [
        "kidney_df.head()"
      ],
      "execution_count": 23,
      "outputs": [
        {
          "output_type": "execute_result",
          "data": {
            "text/html": [
              "<div>\n",
              "<style scoped>\n",
              "    .dataframe tbody tr th:only-of-type {\n",
              "        vertical-align: middle;\n",
              "    }\n",
              "\n",
              "    .dataframe tbody tr th {\n",
              "        vertical-align: top;\n",
              "    }\n",
              "\n",
              "    .dataframe thead th {\n",
              "        text-align: right;\n",
              "    }\n",
              "</style>\n",
              "<table border=\"1\" class=\"dataframe\">\n",
              "  <thead>\n",
              "    <tr style=\"text-align: right;\">\n",
              "      <th></th>\n",
              "      <th>id</th>\n",
              "      <th>age</th>\n",
              "      <th>bp</th>\n",
              "      <th>sg</th>\n",
              "      <th>al</th>\n",
              "      <th>su</th>\n",
              "      <th>rbc</th>\n",
              "      <th>pc</th>\n",
              "      <th>pcc</th>\n",
              "      <th>ba</th>\n",
              "      <th>bgr</th>\n",
              "      <th>bu</th>\n",
              "      <th>sc</th>\n",
              "      <th>sod</th>\n",
              "      <th>pot</th>\n",
              "      <th>hemo</th>\n",
              "      <th>pcv</th>\n",
              "      <th>wc</th>\n",
              "      <th>rc</th>\n",
              "      <th>htn</th>\n",
              "      <th>dm</th>\n",
              "      <th>cad</th>\n",
              "      <th>appet</th>\n",
              "      <th>pe</th>\n",
              "      <th>ane</th>\n",
              "      <th>classification</th>\n",
              "    </tr>\n",
              "  </thead>\n",
              "  <tbody>\n",
              "    <tr>\n",
              "      <th>0</th>\n",
              "      <td>0</td>\n",
              "      <td>48.0</td>\n",
              "      <td>80.0</td>\n",
              "      <td>1.020</td>\n",
              "      <td>1.0</td>\n",
              "      <td>0.0</td>\n",
              "      <td>NaN</td>\n",
              "      <td>normal</td>\n",
              "      <td>notpresent</td>\n",
              "      <td>notpresent</td>\n",
              "      <td>121.0</td>\n",
              "      <td>36.0</td>\n",
              "      <td>1.2</td>\n",
              "      <td>NaN</td>\n",
              "      <td>NaN</td>\n",
              "      <td>15.4</td>\n",
              "      <td>44</td>\n",
              "      <td>7800</td>\n",
              "      <td>5.2</td>\n",
              "      <td>yes</td>\n",
              "      <td>yes</td>\n",
              "      <td>no</td>\n",
              "      <td>good</td>\n",
              "      <td>no</td>\n",
              "      <td>no</td>\n",
              "      <td>ckd</td>\n",
              "    </tr>\n",
              "    <tr>\n",
              "      <th>1</th>\n",
              "      <td>1</td>\n",
              "      <td>7.0</td>\n",
              "      <td>50.0</td>\n",
              "      <td>1.020</td>\n",
              "      <td>4.0</td>\n",
              "      <td>0.0</td>\n",
              "      <td>NaN</td>\n",
              "      <td>normal</td>\n",
              "      <td>notpresent</td>\n",
              "      <td>notpresent</td>\n",
              "      <td>NaN</td>\n",
              "      <td>18.0</td>\n",
              "      <td>0.8</td>\n",
              "      <td>NaN</td>\n",
              "      <td>NaN</td>\n",
              "      <td>11.3</td>\n",
              "      <td>38</td>\n",
              "      <td>6000</td>\n",
              "      <td>NaN</td>\n",
              "      <td>no</td>\n",
              "      <td>no</td>\n",
              "      <td>no</td>\n",
              "      <td>good</td>\n",
              "      <td>no</td>\n",
              "      <td>no</td>\n",
              "      <td>ckd</td>\n",
              "    </tr>\n",
              "    <tr>\n",
              "      <th>2</th>\n",
              "      <td>2</td>\n",
              "      <td>62.0</td>\n",
              "      <td>80.0</td>\n",
              "      <td>1.010</td>\n",
              "      <td>2.0</td>\n",
              "      <td>3.0</td>\n",
              "      <td>normal</td>\n",
              "      <td>normal</td>\n",
              "      <td>notpresent</td>\n",
              "      <td>notpresent</td>\n",
              "      <td>423.0</td>\n",
              "      <td>53.0</td>\n",
              "      <td>1.8</td>\n",
              "      <td>NaN</td>\n",
              "      <td>NaN</td>\n",
              "      <td>9.6</td>\n",
              "      <td>31</td>\n",
              "      <td>7500</td>\n",
              "      <td>NaN</td>\n",
              "      <td>no</td>\n",
              "      <td>yes</td>\n",
              "      <td>no</td>\n",
              "      <td>poor</td>\n",
              "      <td>no</td>\n",
              "      <td>yes</td>\n",
              "      <td>ckd</td>\n",
              "    </tr>\n",
              "    <tr>\n",
              "      <th>3</th>\n",
              "      <td>3</td>\n",
              "      <td>48.0</td>\n",
              "      <td>70.0</td>\n",
              "      <td>1.005</td>\n",
              "      <td>4.0</td>\n",
              "      <td>0.0</td>\n",
              "      <td>normal</td>\n",
              "      <td>abnormal</td>\n",
              "      <td>present</td>\n",
              "      <td>notpresent</td>\n",
              "      <td>117.0</td>\n",
              "      <td>56.0</td>\n",
              "      <td>3.8</td>\n",
              "      <td>111.0</td>\n",
              "      <td>2.5</td>\n",
              "      <td>11.2</td>\n",
              "      <td>32</td>\n",
              "      <td>6700</td>\n",
              "      <td>3.9</td>\n",
              "      <td>yes</td>\n",
              "      <td>no</td>\n",
              "      <td>no</td>\n",
              "      <td>poor</td>\n",
              "      <td>yes</td>\n",
              "      <td>yes</td>\n",
              "      <td>ckd</td>\n",
              "    </tr>\n",
              "    <tr>\n",
              "      <th>4</th>\n",
              "      <td>4</td>\n",
              "      <td>51.0</td>\n",
              "      <td>80.0</td>\n",
              "      <td>1.010</td>\n",
              "      <td>2.0</td>\n",
              "      <td>0.0</td>\n",
              "      <td>normal</td>\n",
              "      <td>normal</td>\n",
              "      <td>notpresent</td>\n",
              "      <td>notpresent</td>\n",
              "      <td>106.0</td>\n",
              "      <td>26.0</td>\n",
              "      <td>1.4</td>\n",
              "      <td>NaN</td>\n",
              "      <td>NaN</td>\n",
              "      <td>11.6</td>\n",
              "      <td>35</td>\n",
              "      <td>7300</td>\n",
              "      <td>4.6</td>\n",
              "      <td>no</td>\n",
              "      <td>no</td>\n",
              "      <td>no</td>\n",
              "      <td>good</td>\n",
              "      <td>no</td>\n",
              "      <td>no</td>\n",
              "      <td>ckd</td>\n",
              "    </tr>\n",
              "  </tbody>\n",
              "</table>\n",
              "</div>"
            ],
            "text/plain": [
              "   id   age    bp     sg   al   su  ...   dm cad appet   pe  ane  classification\n",
              "0   0  48.0  80.0  1.020  1.0  0.0  ...  yes  no  good   no   no             ckd\n",
              "1   1   7.0  50.0  1.020  4.0  0.0  ...   no  no  good   no   no             ckd\n",
              "2   2  62.0  80.0  1.010  2.0  3.0  ...  yes  no  poor   no  yes             ckd\n",
              "3   3  48.0  70.0  1.005  4.0  0.0  ...   no  no  poor  yes  yes             ckd\n",
              "4   4  51.0  80.0  1.010  2.0  0.0  ...   no  no  good   no   no             ckd\n",
              "\n",
              "[5 rows x 26 columns]"
            ]
          },
          "metadata": {
            "tags": []
          },
          "execution_count": 23
        }
      ]
    },
    {
      "cell_type": "markdown",
      "metadata": {
        "id": "9IIB083blFad",
        "colab_type": "text"
      },
      "source": [
        "** There are 26 columns **"
      ]
    },
    {
      "cell_type": "code",
      "metadata": {
        "id": "xDzW13I1lFae",
        "colab_type": "code",
        "colab": {
          "base_uri": "https://localhost:8080/",
          "height": 571
        },
        "outputId": "e52550c7-e142-487f-ec0e-b8972a51b3ac"
      },
      "source": [
        "kidney_df.info()"
      ],
      "execution_count": 24,
      "outputs": [
        {
          "output_type": "stream",
          "text": [
            "<class 'pandas.core.frame.DataFrame'>\n",
            "RangeIndex: 400 entries, 0 to 399\n",
            "Data columns (total 26 columns):\n",
            " #   Column          Non-Null Count  Dtype  \n",
            "---  ------          --------------  -----  \n",
            " 0   id              400 non-null    int64  \n",
            " 1   age             391 non-null    float64\n",
            " 2   bp              388 non-null    float64\n",
            " 3   sg              353 non-null    float64\n",
            " 4   al              354 non-null    float64\n",
            " 5   su              351 non-null    float64\n",
            " 6   rbc             248 non-null    object \n",
            " 7   pc              335 non-null    object \n",
            " 8   pcc             396 non-null    object \n",
            " 9   ba              396 non-null    object \n",
            " 10  bgr             356 non-null    float64\n",
            " 11  bu              381 non-null    float64\n",
            " 12  sc              383 non-null    float64\n",
            " 13  sod             313 non-null    float64\n",
            " 14  pot             312 non-null    float64\n",
            " 15  hemo            348 non-null    float64\n",
            " 16  pcv             330 non-null    object \n",
            " 17  wc              295 non-null    object \n",
            " 18  rc              270 non-null    object \n",
            " 19  htn             398 non-null    object \n",
            " 20  dm              398 non-null    object \n",
            " 21  cad             398 non-null    object \n",
            " 22  appet           399 non-null    object \n",
            " 23  pe              399 non-null    object \n",
            " 24  ane             399 non-null    object \n",
            " 25  classification  400 non-null    object \n",
            "dtypes: float64(11), int64(1), object(14)\n",
            "memory usage: 81.4+ KB\n"
          ],
          "name": "stdout"
        }
      ]
    },
    {
      "cell_type": "markdown",
      "metadata": {
        "id": "pFMvTB-YlFak",
        "colab_type": "text"
      },
      "source": [
        "## Feature engineering\n",
        "\n",
        "Changing all the categorical columns and object datatype columns"
      ]
    },
    {
      "cell_type": "markdown",
      "metadata": {
        "id": "6ZRHRq2wlFal",
        "colab_type": "text"
      },
      "source": [
        "** There are a lot of object data types. We need to convert them to numeric before any further processing **"
      ]
    },
    {
      "cell_type": "code",
      "metadata": {
        "id": "HVP2ChQKlFan",
        "colab_type": "code",
        "colab": {
          "base_uri": "https://localhost:8080/",
          "height": 84
        },
        "outputId": "62230cf5-ab68-4c31-86c9-4b27924514e4"
      },
      "source": [
        "kidney_df.columns"
      ],
      "execution_count": 25,
      "outputs": [
        {
          "output_type": "execute_result",
          "data": {
            "text/plain": [
              "Index(['id', 'age', 'bp', 'sg', 'al', 'su', 'rbc', 'pc', 'pcc', 'ba', 'bgr',\n",
              "       'bu', 'sc', 'sod', 'pot', 'hemo', 'pcv', 'wc', 'rc', 'htn', 'dm', 'cad',\n",
              "       'appet', 'pe', 'ane', 'classification'],\n",
              "      dtype='object')"
            ]
          },
          "metadata": {
            "tags": []
          },
          "execution_count": 25
        }
      ]
    },
    {
      "cell_type": "markdown",
      "metadata": {
        "id": "wg2d02PnlFas",
        "colab_type": "text"
      },
      "source": [
        "** These columns have numerical values but have object dtype **"
      ]
    },
    {
      "cell_type": "code",
      "metadata": {
        "id": "A4W247P8lFau",
        "colab_type": "code",
        "colab": {}
      },
      "source": [
        "#These columns have \\t? values\n",
        "\n",
        "kidney_df.drop(kidney_df.index[[66,214,185, 133, 162]], inplace=True)"
      ],
      "execution_count": 26,
      "outputs": []
    },
    {
      "cell_type": "code",
      "metadata": {
        "id": "mM_z86FNlFay",
        "colab_type": "code",
        "colab": {}
      },
      "source": [
        "kidney_df[['pcv','wc','rc']] = kidney_df[['pcv','wc','rc']].apply(pd.to_numeric)"
      ],
      "execution_count": 27,
      "outputs": []
    },
    {
      "cell_type": "markdown",
      "metadata": {
        "id": "1vZ9wybLlFa3",
        "colab_type": "text"
      },
      "source": [
        "**These columns are categorical**"
      ]
    },
    {
      "cell_type": "code",
      "metadata": {
        "id": "YciD_H0olFa4",
        "colab_type": "code",
        "colab": {}
      },
      "source": [
        "kidney_df[['htn','dm','cad','pe','ane']] = kidney_df[['htn','dm','cad','pe','ane']].replace(to_replace={'yes':1,'no':0})\n",
        "kidney_df['dm'] = kidney_df['dm'].replace(to_replace={'\\tno':0,'\\tyes':1,' yes':1, '':np.nan})\n",
        "kidney_df['cad'] = kidney_df['cad'].replace(to_replace='\\tno',value=0)\n",
        "\n",
        "kidney_df[['rbc','pc']] = kidney_df[['rbc','pc']].replace(to_replace={'abnormal':1,'normal':0})\n",
        "kidney_df[['pcc','ba']] = kidney_df[['pcc','ba']].replace(to_replace={'present':1,'notpresent':0})\n",
        "\n",
        "kidney_df[['appet']] = kidney_df[['appet']].replace(to_replace={'good':1,'poor':0})  #,'no':np.nan\n",
        "kidney_df['classification'] = kidney_df['classification'].replace(to_replace={'ckd':1.0,'ckd\\t':1.0,'notckd':0.0})  #,'no':0.0\n",
        "kidney_df.rename(columns={'classification':'class'},inplace=True)"
      ],
      "execution_count": 28,
      "outputs": []
    },
    {
      "cell_type": "code",
      "metadata": {
        "id": "Nt7NB7BIlFa8",
        "colab_type": "code",
        "colab": {}
      },
      "source": [
        "kidney_df['pe'] = kidney_df['pe'].replace(to_replace='good',value=0) # Not having pedal edema is good\n",
        "kidney_df['appet'] = kidney_df['appet'].replace(to_replace='no',value=0)\n",
        "\n",
        "# Dropping the index column\n",
        "kidney_df.drop('id',axis=1,inplace=True)"
      ],
      "execution_count": 29,
      "outputs": []
    },
    {
      "cell_type": "code",
      "metadata": {
        "id": "0ULSRjcqlFbB",
        "colab_type": "code",
        "colab": {
          "base_uri": "https://localhost:8080/",
          "height": 554
        },
        "outputId": "3b9c4cea-20d7-4591-9e85-8a4b06bcdbb3"
      },
      "source": [
        "kidney_df.info()"
      ],
      "execution_count": 30,
      "outputs": [
        {
          "output_type": "stream",
          "text": [
            "<class 'pandas.core.frame.DataFrame'>\n",
            "Int64Index: 395 entries, 0 to 399\n",
            "Data columns (total 25 columns):\n",
            " #   Column  Non-Null Count  Dtype  \n",
            "---  ------  --------------  -----  \n",
            " 0   age     386 non-null    float64\n",
            " 1   bp      384 non-null    float64\n",
            " 2   sg      349 non-null    float64\n",
            " 3   al      350 non-null    float64\n",
            " 4   su      347 non-null    float64\n",
            " 5   rbc     246 non-null    float64\n",
            " 6   pc      331 non-null    float64\n",
            " 7   pcc     391 non-null    float64\n",
            " 8   ba      391 non-null    float64\n",
            " 9   bgr     351 non-null    float64\n",
            " 10  bu      376 non-null    float64\n",
            " 11  sc      378 non-null    float64\n",
            " 12  sod     309 non-null    float64\n",
            " 13  pot     308 non-null    float64\n",
            " 14  hemo    344 non-null    float64\n",
            " 15  pcv     325 non-null    float64\n",
            " 16  wc      291 non-null    float64\n",
            " 17  rc      267 non-null    float64\n",
            " 18  htn     393 non-null    float64\n",
            " 19  dm      393 non-null    float64\n",
            " 20  cad     393 non-null    float64\n",
            " 21  appet   394 non-null    float64\n",
            " 22  pe      394 non-null    float64\n",
            " 23  ane     394 non-null    float64\n",
            " 24  class   395 non-null    float64\n",
            "dtypes: float64(25)\n",
            "memory usage: 80.2 KB\n"
          ],
          "name": "stdout"
        }
      ]
    },
    {
      "cell_type": "markdown",
      "metadata": {
        "id": "1l_c9bbalFbH",
        "colab_type": "text"
      },
      "source": [
        "** Now we have converted all the object columns in float64 **"
      ]
    },
    {
      "cell_type": "markdown",
      "metadata": {
        "id": "Ub9Aw9lvlFbI",
        "colab_type": "text"
      },
      "source": [
        "## Missing values"
      ]
    },
    {
      "cell_type": "code",
      "metadata": {
        "id": "rp3CXpTxgf-K",
        "colab_type": "code",
        "colab": {
          "base_uri": "https://localhost:8080/",
          "height": 454
        },
        "outputId": "2918b00c-445e-43e3-973e-6cc1e957fcfd"
      },
      "source": [
        "# There are null values in almost all columns\n",
        "\n",
        "kidney_df.isnull().sum()"
      ],
      "execution_count": 31,
      "outputs": [
        {
          "output_type": "execute_result",
          "data": {
            "text/plain": [
              "age        9\n",
              "bp        11\n",
              "sg        46\n",
              "al        45\n",
              "su        48\n",
              "rbc      149\n",
              "pc        64\n",
              "pcc        4\n",
              "ba         4\n",
              "bgr       44\n",
              "bu        19\n",
              "sc        17\n",
              "sod       86\n",
              "pot       87\n",
              "hemo      51\n",
              "pcv       70\n",
              "wc       104\n",
              "rc       128\n",
              "htn        2\n",
              "dm         2\n",
              "cad        2\n",
              "appet      1\n",
              "pe         1\n",
              "ane        1\n",
              "class      0\n",
              "dtype: int64"
            ]
          },
          "metadata": {
            "tags": []
          },
          "execution_count": 31
        }
      ]
    },
    {
      "cell_type": "markdown",
      "metadata": {
        "id": "XRCH_tvugtIN",
        "colab_type": "text"
      },
      "source": [
        "** We will drop 3 columns **\n",
        "rbc, wc, rc"
      ]
    },
    {
      "cell_type": "code",
      "metadata": {
        "id": "xbss7vq3gwjF",
        "colab_type": "code",
        "colab": {}
      },
      "source": [
        "kidney_df.drop(['rbc','wc','rc'], axis=1, inplace=True)"
      ],
      "execution_count": 32,
      "outputs": []
    },
    {
      "cell_type": "code",
      "metadata": {
        "id": "Oa0VydxRgx0x",
        "colab_type": "code",
        "colab": {}
      },
      "source": [
        "kidney_df = kidney_df.fillna(kidney_df.mean())"
      ],
      "execution_count": 33,
      "outputs": []
    },
    {
      "cell_type": "markdown",
      "metadata": {
        "id": "Fc5xA3DLlFbh",
        "colab_type": "text"
      },
      "source": [
        "## Descriptive Statistics "
      ]
    },
    {
      "cell_type": "code",
      "metadata": {
        "id": "F_ec3swVhL1j",
        "colab_type": "code",
        "colab": {
          "base_uri": "https://localhost:8080/",
          "height": 304
        },
        "outputId": "7c2ccec4-7500-4920-ab49-0a3183a90de1"
      },
      "source": [
        "kidney_df.describe()"
      ],
      "execution_count": 34,
      "outputs": [
        {
          "output_type": "execute_result",
          "data": {
            "text/html": [
              "<div>\n",
              "<style scoped>\n",
              "    .dataframe tbody tr th:only-of-type {\n",
              "        vertical-align: middle;\n",
              "    }\n",
              "\n",
              "    .dataframe tbody tr th {\n",
              "        vertical-align: top;\n",
              "    }\n",
              "\n",
              "    .dataframe thead th {\n",
              "        text-align: right;\n",
              "    }\n",
              "</style>\n",
              "<table border=\"1\" class=\"dataframe\">\n",
              "  <thead>\n",
              "    <tr style=\"text-align: right;\">\n",
              "      <th></th>\n",
              "      <th>age</th>\n",
              "      <th>bp</th>\n",
              "      <th>sg</th>\n",
              "      <th>al</th>\n",
              "      <th>su</th>\n",
              "      <th>pc</th>\n",
              "      <th>pcc</th>\n",
              "      <th>ba</th>\n",
              "      <th>bgr</th>\n",
              "      <th>bu</th>\n",
              "      <th>sc</th>\n",
              "      <th>sod</th>\n",
              "      <th>pot</th>\n",
              "      <th>hemo</th>\n",
              "      <th>pcv</th>\n",
              "      <th>htn</th>\n",
              "      <th>dm</th>\n",
              "      <th>cad</th>\n",
              "      <th>appet</th>\n",
              "      <th>pe</th>\n",
              "      <th>ane</th>\n",
              "      <th>class</th>\n",
              "    </tr>\n",
              "  </thead>\n",
              "  <tbody>\n",
              "    <tr>\n",
              "      <th>count</th>\n",
              "      <td>395.000000</td>\n",
              "      <td>395.000000</td>\n",
              "      <td>395.000000</td>\n",
              "      <td>395.000000</td>\n",
              "      <td>395.000000</td>\n",
              "      <td>395.000000</td>\n",
              "      <td>395.000000</td>\n",
              "      <td>395.000000</td>\n",
              "      <td>395.000000</td>\n",
              "      <td>395.000000</td>\n",
              "      <td>395.000000</td>\n",
              "      <td>395.000000</td>\n",
              "      <td>395.000000</td>\n",
              "      <td>395.000000</td>\n",
              "      <td>395.000000</td>\n",
              "      <td>395.000000</td>\n",
              "      <td>395.000000</td>\n",
              "      <td>395.000000</td>\n",
              "      <td>395.000000</td>\n",
              "      <td>395.000000</td>\n",
              "      <td>395.000000</td>\n",
              "      <td>395.000000</td>\n",
              "    </tr>\n",
              "    <tr>\n",
              "      <th>mean</th>\n",
              "      <td>51.455959</td>\n",
              "      <td>76.432292</td>\n",
              "      <td>1.017407</td>\n",
              "      <td>1.008571</td>\n",
              "      <td>0.455331</td>\n",
              "      <td>0.226586</td>\n",
              "      <td>0.107417</td>\n",
              "      <td>0.056266</td>\n",
              "      <td>148.031339</td>\n",
              "      <td>57.479255</td>\n",
              "      <td>3.086640</td>\n",
              "      <td>137.597087</td>\n",
              "      <td>4.628247</td>\n",
              "      <td>12.534012</td>\n",
              "      <td>38.898462</td>\n",
              "      <td>0.368957</td>\n",
              "      <td>0.340967</td>\n",
              "      <td>0.086514</td>\n",
              "      <td>0.791878</td>\n",
              "      <td>0.190355</td>\n",
              "      <td>0.152284</td>\n",
              "      <td>0.620253</td>\n",
              "    </tr>\n",
              "    <tr>\n",
              "      <th>std</th>\n",
              "      <td>16.845351</td>\n",
              "      <td>13.500540</td>\n",
              "      <td>0.005397</td>\n",
              "      <td>1.269492</td>\n",
              "      <td>1.034994</td>\n",
              "      <td>0.383697</td>\n",
              "      <td>0.308461</td>\n",
              "      <td>0.229556</td>\n",
              "      <td>75.138023</td>\n",
              "      <td>49.416675</td>\n",
              "      <td>5.648511</td>\n",
              "      <td>9.230974</td>\n",
              "      <td>2.837424</td>\n",
              "      <td>2.728991</td>\n",
              "      <td>8.195215</td>\n",
              "      <td>0.481909</td>\n",
              "      <td>0.473432</td>\n",
              "      <td>0.280765</td>\n",
              "      <td>0.405964</td>\n",
              "      <td>0.392581</td>\n",
              "      <td>0.359296</td>\n",
              "      <td>0.485939</td>\n",
              "    </tr>\n",
              "    <tr>\n",
              "      <th>min</th>\n",
              "      <td>2.000000</td>\n",
              "      <td>50.000000</td>\n",
              "      <td>1.005000</td>\n",
              "      <td>0.000000</td>\n",
              "      <td>0.000000</td>\n",
              "      <td>0.000000</td>\n",
              "      <td>0.000000</td>\n",
              "      <td>0.000000</td>\n",
              "      <td>22.000000</td>\n",
              "      <td>1.500000</td>\n",
              "      <td>0.400000</td>\n",
              "      <td>4.500000</td>\n",
              "      <td>2.500000</td>\n",
              "      <td>3.100000</td>\n",
              "      <td>9.000000</td>\n",
              "      <td>0.000000</td>\n",
              "      <td>0.000000</td>\n",
              "      <td>0.000000</td>\n",
              "      <td>0.000000</td>\n",
              "      <td>0.000000</td>\n",
              "      <td>0.000000</td>\n",
              "      <td>0.000000</td>\n",
              "    </tr>\n",
              "    <tr>\n",
              "      <th>25%</th>\n",
              "      <td>42.000000</td>\n",
              "      <td>70.000000</td>\n",
              "      <td>1.015000</td>\n",
              "      <td>0.000000</td>\n",
              "      <td>0.000000</td>\n",
              "      <td>0.000000</td>\n",
              "      <td>0.000000</td>\n",
              "      <td>0.000000</td>\n",
              "      <td>101.000000</td>\n",
              "      <td>27.000000</td>\n",
              "      <td>0.900000</td>\n",
              "      <td>135.000000</td>\n",
              "      <td>4.000000</td>\n",
              "      <td>10.850000</td>\n",
              "      <td>34.000000</td>\n",
              "      <td>0.000000</td>\n",
              "      <td>0.000000</td>\n",
              "      <td>0.000000</td>\n",
              "      <td>1.000000</td>\n",
              "      <td>0.000000</td>\n",
              "      <td>0.000000</td>\n",
              "      <td>0.000000</td>\n",
              "    </tr>\n",
              "    <tr>\n",
              "      <th>50%</th>\n",
              "      <td>54.000000</td>\n",
              "      <td>80.000000</td>\n",
              "      <td>1.017407</td>\n",
              "      <td>0.000000</td>\n",
              "      <td>0.000000</td>\n",
              "      <td>0.000000</td>\n",
              "      <td>0.000000</td>\n",
              "      <td>0.000000</td>\n",
              "      <td>125.000000</td>\n",
              "      <td>44.000000</td>\n",
              "      <td>1.400000</td>\n",
              "      <td>137.597087</td>\n",
              "      <td>4.628247</td>\n",
              "      <td>12.534012</td>\n",
              "      <td>38.898462</td>\n",
              "      <td>0.000000</td>\n",
              "      <td>0.000000</td>\n",
              "      <td>0.000000</td>\n",
              "      <td>1.000000</td>\n",
              "      <td>0.000000</td>\n",
              "      <td>0.000000</td>\n",
              "      <td>1.000000</td>\n",
              "    </tr>\n",
              "    <tr>\n",
              "      <th>75%</th>\n",
              "      <td>64.000000</td>\n",
              "      <td>80.000000</td>\n",
              "      <td>1.020000</td>\n",
              "      <td>2.000000</td>\n",
              "      <td>0.455331</td>\n",
              "      <td>0.226586</td>\n",
              "      <td>0.000000</td>\n",
              "      <td>0.000000</td>\n",
              "      <td>149.015670</td>\n",
              "      <td>62.500000</td>\n",
              "      <td>3.086640</td>\n",
              "      <td>141.000000</td>\n",
              "      <td>4.800000</td>\n",
              "      <td>14.700000</td>\n",
              "      <td>44.000000</td>\n",
              "      <td>1.000000</td>\n",
              "      <td>1.000000</td>\n",
              "      <td>0.000000</td>\n",
              "      <td>1.000000</td>\n",
              "      <td>0.000000</td>\n",
              "      <td>0.000000</td>\n",
              "      <td>1.000000</td>\n",
              "    </tr>\n",
              "    <tr>\n",
              "      <th>max</th>\n",
              "      <td>90.000000</td>\n",
              "      <td>180.000000</td>\n",
              "      <td>1.025000</td>\n",
              "      <td>5.000000</td>\n",
              "      <td>5.000000</td>\n",
              "      <td>1.000000</td>\n",
              "      <td>1.000000</td>\n",
              "      <td>1.000000</td>\n",
              "      <td>490.000000</td>\n",
              "      <td>391.000000</td>\n",
              "      <td>76.000000</td>\n",
              "      <td>163.000000</td>\n",
              "      <td>47.000000</td>\n",
              "      <td>17.800000</td>\n",
              "      <td>54.000000</td>\n",
              "      <td>1.000000</td>\n",
              "      <td>1.000000</td>\n",
              "      <td>1.000000</td>\n",
              "      <td>1.000000</td>\n",
              "      <td>1.000000</td>\n",
              "      <td>1.000000</td>\n",
              "      <td>1.000000</td>\n",
              "    </tr>\n",
              "  </tbody>\n",
              "</table>\n",
              "</div>"
            ],
            "text/plain": [
              "              age          bp          sg  ...          pe         ane       class\n",
              "count  395.000000  395.000000  395.000000  ...  395.000000  395.000000  395.000000\n",
              "mean    51.455959   76.432292    1.017407  ...    0.190355    0.152284    0.620253\n",
              "std     16.845351   13.500540    0.005397  ...    0.392581    0.359296    0.485939\n",
              "min      2.000000   50.000000    1.005000  ...    0.000000    0.000000    0.000000\n",
              "25%     42.000000   70.000000    1.015000  ...    0.000000    0.000000    0.000000\n",
              "50%     54.000000   80.000000    1.017407  ...    0.000000    0.000000    1.000000\n",
              "75%     64.000000   80.000000    1.020000  ...    0.000000    0.000000    1.000000\n",
              "max     90.000000  180.000000    1.025000  ...    1.000000    1.000000    1.000000\n",
              "\n",
              "[8 rows x 22 columns]"
            ]
          },
          "metadata": {
            "tags": []
          },
          "execution_count": 34
        }
      ]
    },
    {
      "cell_type": "markdown",
      "metadata": {
        "id": "TsGb18GilFbm",
        "colab_type": "text"
      },
      "source": [
        "## Performing EDA & correlation"
      ]
    },
    {
      "cell_type": "code",
      "metadata": {
        "id": "iiopFqVDhVbE",
        "colab_type": "code",
        "colab": {
          "base_uri": "https://localhost:8080/",
          "height": 1000
        },
        "outputId": "de645b95-e75e-44cf-af3e-3db9c6b81f73"
      },
      "source": [
        "kidney_df.hist(bins=10, figsize=(14,12))"
      ],
      "execution_count": 35,
      "outputs": [
        {
          "output_type": "execute_result",
          "data": {
            "text/plain": [
              "array([[<matplotlib.axes._subplots.AxesSubplot object at 0x7f5cd111dbe0>,\n",
              "        <matplotlib.axes._subplots.AxesSubplot object at 0x7f5cd10efeb8>,\n",
              "        <matplotlib.axes._subplots.AxesSubplot object at 0x7f5cd10ae160>,\n",
              "        <matplotlib.axes._subplots.AxesSubplot object at 0x7f5cd10603c8>,\n",
              "        <matplotlib.axes._subplots.AxesSubplot object at 0x7f5cd1014630>],\n",
              "       [<matplotlib.axes._subplots.AxesSubplot object at 0x7f5cd1045898>,\n",
              "        <matplotlib.axes._subplots.AxesSubplot object at 0x7f5cd0ffab00>,\n",
              "        <matplotlib.axes._subplots.AxesSubplot object at 0x7f5cd0fabd30>,\n",
              "        <matplotlib.axes._subplots.AxesSubplot object at 0x7f5cd0fabda0>,\n",
              "        <matplotlib.axes._subplots.AxesSubplot object at 0x7f5cd0f20278>],\n",
              "       [<matplotlib.axes._subplots.AxesSubplot object at 0x7f5cd0ed54e0>,\n",
              "        <matplotlib.axes._subplots.AxesSubplot object at 0x7f5cd0f07748>,\n",
              "        <matplotlib.axes._subplots.AxesSubplot object at 0x7f5cd0ebc9b0>,\n",
              "        <matplotlib.axes._subplots.AxesSubplot object at 0x7f5cd0e6ec18>,\n",
              "        <matplotlib.axes._subplots.AxesSubplot object at 0x7f5cd0e23e80>],\n",
              "       [<matplotlib.axes._subplots.AxesSubplot object at 0x7f5cd0de2128>,\n",
              "        <matplotlib.axes._subplots.AxesSubplot object at 0x7f5cd0d95390>,\n",
              "        <matplotlib.axes._subplots.AxesSubplot object at 0x7f5cd0dc85f8>,\n",
              "        <matplotlib.axes._subplots.AxesSubplot object at 0x7f5cd0d7c860>,\n",
              "        <matplotlib.axes._subplots.AxesSubplot object at 0x7f5cd0d2fac8>],\n",
              "       [<matplotlib.axes._subplots.AxesSubplot object at 0x7f5cd0ce3d30>,\n",
              "        <matplotlib.axes._subplots.AxesSubplot object at 0x7f5cd0c96f98>,\n",
              "        <matplotlib.axes._subplots.AxesSubplot object at 0x7f5cd0c57240>,\n",
              "        <matplotlib.axes._subplots.AxesSubplot object at 0x7f5cd0c884a8>,\n",
              "        <matplotlib.axes._subplots.AxesSubplot object at 0x7f5cd0c3d710>]],\n",
              "      dtype=object)"
            ]
          },
          "metadata": {
            "tags": []
          },
          "execution_count": 35
        },
        {
          "output_type": "display_data",
          "data": {
            "image/png": "[encoded data removed]",
            "text/plain": [
              "<Figure size 1008x864 with 25 Axes>"
            ]
          },
          "metadata": {
            "tags": [],
            "needs_background": "light"
          }
        }
      ]
    },
    {
      "cell_type": "markdown",
      "metadata": {
        "id": "M9gg-Q4-hcht",
        "colab_type": "text"
      },
      "source": [
        "** A lot of values are discountinous **"
      ]
    },
    {
      "cell_type": "markdown",
      "metadata": {
        "id": "INBU1ORJlFbv",
        "colab_type": "text"
      },
      "source": [
        "## Classification using Decision Tree"
      ]
    },
    {
      "cell_type": "code",
      "metadata": {
        "id": "NPirPxpNhvBl",
        "colab_type": "code",
        "colab": {}
      },
      "source": [
        "X = kidney_df.drop('class', axis=1)\n",
        "y = kidney_df['class']"
      ],
      "execution_count": 36,
      "outputs": []
    },
    {
      "cell_type": "code",
      "metadata": {
        "id": "UxBF-RfvhyMi",
        "colab_type": "code",
        "colab": {}
      },
      "source": [
        "from sklearn.model_selection import train_test_split\n",
        "X_train, X_test, y_train, y_test = train_test_split(X,y, test_size=0.3, random_state=0)"
      ],
      "execution_count": 38,
      "outputs": []
    },
    {
      "cell_type": "markdown",
      "metadata": {
        "id": "3U8-jB7RiSDH",
        "colab_type": "text"
      },
      "source": [
        "### Decision Tree"
      ]
    },
    {
      "cell_type": "code",
      "metadata": {
        "id": "t8tGpGODiXYy",
        "colab_type": "code",
        "colab": {}
      },
      "source": [
        "from sklearn.tree import DecisionTreeClassifier\n",
        "tree = DecisionTreeClassifier(criterion='entropy', random_state=0)\n",
        "\n",
        "tree.fit(X_train, y_train)\n",
        "pred = tree.predict(X_test) "
      ],
      "execution_count": 39,
      "outputs": []
    },
    {
      "cell_type": "code",
      "metadata": {
        "id": "64MpXYYHiixZ",
        "colab_type": "code",
        "colab": {
          "base_uri": "https://localhost:8080/",
          "height": 185
        },
        "outputId": "fd3f5f82-0b1b-499f-9b1b-afe30547e873"
      },
      "source": [
        "from sklearn.metrics import classification_report, confusion_matrix, accuracy_score\n",
        "print(\"Classification Report: \\n \", classification_report(y_test, pred))"
      ],
      "execution_count": 40,
      "outputs": [
        {
          "output_type": "stream",
          "text": [
            "Classification Report: \n",
            "                precision    recall  f1-score   support\n",
            "\n",
            "         0.0       0.98      0.96      0.97        45\n",
            "         1.0       0.97      0.99      0.98        74\n",
            "\n",
            "    accuracy                           0.97       119\n",
            "   macro avg       0.98      0.97      0.97       119\n",
            "weighted avg       0.97      0.97      0.97       119\n",
            "\n"
          ],
          "name": "stdout"
        }
      ]
    },
    {
      "cell_type": "code",
      "metadata": {
        "id": "6RlQND1BilEv",
        "colab_type": "code",
        "colab": {
          "base_uri": "https://localhost:8080/",
          "height": 67
        },
        "outputId": "cd165246-68ec-4c41-94a9-4adf3ed952ee"
      },
      "source": [
        "print(\"Confusion Matrix: \\n \", confusion_matrix(y_test, pred))"
      ],
      "execution_count": 41,
      "outputs": [
        {
          "output_type": "stream",
          "text": [
            "Confusion Matrix: \n",
            "  [[43  2]\n",
            " [ 1 73]]\n"
          ],
          "name": "stdout"
        }
      ]
    },
    {
      "cell_type": "code",
      "metadata": {
        "id": "fw2-m-KLik9R",
        "colab_type": "code",
        "colab": {
          "base_uri": "https://localhost:8080/",
          "height": 67
        },
        "outputId": "f5d4dc2e-096a-43e4-98c2-f577f8b28bad"
      },
      "source": [
        "y_test.value_counts()"
      ],
      "execution_count": 42,
      "outputs": [
        {
          "output_type": "execute_result",
          "data": {
            "text/plain": [
              "1.0    74\n",
              "0.0    45\n",
              "Name: class, dtype: int64"
            ]
          },
          "metadata": {
            "tags": []
          },
          "execution_count": 42
        }
      ]
    },
    {
      "cell_type": "code",
      "metadata": {
        "id": "xe_Hcgvmi4-z",
        "colab_type": "code",
        "colab": {}
      },
      "source": [
        "#(y_test > pred).sum()"
      ],
      "execution_count": null,
      "outputs": []
    },
    {
      "cell_type": "markdown",
      "metadata": {
        "id": "O28X00NFjB2h",
        "colab_type": "text"
      },
      "source": [
        "** Recall should be greater than precision. ** <br>\n",
        "\n",
        "TN = 43 <br>\n",
        "TP = 73 <br>\n",
        "FP = 2  <br>\n",
        "FN = 1 <br>\n",
        "\n",
        "Precision for class 1 is TP/(TP+FP) = 73/(73+2) = 0.97\n",
        "\n",
        "Recall for class 1 is TP/(TP+FN) = 73/(73+1) = 0.99\n"
      ]
    },
    {
      "cell_type": "code",
      "metadata": {
        "id": "NyYToIfmi8Eg",
        "colab_type": "code",
        "colab": {
          "base_uri": "https://localhost:8080/",
          "height": 34
        },
        "outputId": "e3ac7255-9215-4eaa-9e94-b0538d62b9a4"
      },
      "source": [
        "print(\"Accuracy Score: \", accuracy_score(y_test, pred))"
      ],
      "execution_count": 43,
      "outputs": [
        {
          "output_type": "stream",
          "text": [
            "Accuracy Score:  0.9747899159663865\n"
          ],
          "name": "stdout"
        }
      ]
    },
    {
      "cell_type": "markdown",
      "metadata": {
        "id": "O1_hxBF5lFcY",
        "colab_type": "text"
      },
      "source": [
        "## Classification using Random Forest"
      ]
    },
    {
      "cell_type": "markdown",
      "metadata": {
        "id": "gamN2nejjSbP",
        "colab_type": "text"
      },
      "source": [
        "### Random Forest"
      ]
    },
    {
      "cell_type": "code",
      "metadata": {
        "id": "TWniNJVCjP5G",
        "colab_type": "code",
        "colab": {}
      },
      "source": [
        "from sklearn.ensemble import RandomForestClassifier\n",
        "forest = RandomForestClassifier(n_estimators=10, criterion='entropy', random_state=0)\n",
        "forest.fit(X_train, y_train)\n",
        "\n",
        "pred = forest.predict(X_test)"
      ],
      "execution_count": 44,
      "outputs": []
    },
    {
      "cell_type": "code",
      "metadata": {
        "id": "iWtJ0SkwjdSG",
        "colab_type": "code",
        "colab": {
          "base_uri": "https://localhost:8080/",
          "height": 185
        },
        "outputId": "93b24099-f780-4981-9e1e-8f6e9d8379d8"
      },
      "source": [
        "from sklearn.metrics import classification_report, confusion_matrix, accuracy_score\n",
        "print(\"Classification Report: \\n \", classification_report(y_test, pred))"
      ],
      "execution_count": 45,
      "outputs": [
        {
          "output_type": "stream",
          "text": [
            "Classification Report: \n",
            "                precision    recall  f1-score   support\n",
            "\n",
            "         0.0       0.98      1.00      0.99        45\n",
            "         1.0       1.00      0.99      0.99        74\n",
            "\n",
            "    accuracy                           0.99       119\n",
            "   macro avg       0.99      0.99      0.99       119\n",
            "weighted avg       0.99      0.99      0.99       119\n",
            "\n"
          ],
          "name": "stdout"
        }
      ]
    },
    {
      "cell_type": "code",
      "metadata": {
        "id": "fKhVTkfljh5R",
        "colab_type": "code",
        "colab": {
          "base_uri": "https://localhost:8080/",
          "height": 67
        },
        "outputId": "fd4831ef-1f18-440a-b101-bbeb39e269e5"
      },
      "source": [
        "print(\"Confusion Matrix: \\n \", confusion_matrix(y_test, pred))"
      ],
      "execution_count": 46,
      "outputs": [
        {
          "output_type": "stream",
          "text": [
            "Confusion Matrix: \n",
            "  [[45  0]\n",
            " [ 1 73]]\n"
          ],
          "name": "stdout"
        }
      ]
    },
    {
      "cell_type": "markdown",
      "metadata": {
        "id": "d9hmKL2ojnzo",
        "colab_type": "text"
      },
      "source": [
        "TP = 73 <br>\n",
        "TN = 45  <br>\n",
        "FP = 0 <br>\n",
        "FN = 1 <br>\n",
        "\n",
        "Precision = 73/73 = 1  <br>\n",
        "Recall = 73/(73+1) = 0.99"
      ]
    }
  ]
}