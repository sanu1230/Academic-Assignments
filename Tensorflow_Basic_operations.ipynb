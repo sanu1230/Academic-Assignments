{
  "nbformat": 4,
  "nbformat_minor": 0,
  "metadata": {
    "colab": {
      "name": "Tensorflow - Basic_operations",
      "provenance": [],
      "collapsed_sections": [],
      "toc_visible": true,
      "include_colab_link": true
    },
    "kernelspec": {
      "name": "python3",
      "display_name": "Python 3"
    }
  },
  "cells": [
    {
      "cell_type": "markdown",
      "metadata": {
        "id": "view-in-github",
        "colab_type": "text"
      },
      "source": [
        "<a href=\"https://colab.research.google.com/github/sanu1230/Academic-Assignments/blob/master/Tensorflow_Basic_operations.ipynb\" target=\"_parent\"><img src=\"https://colab.research.google.com/assets/colab-badge.svg\" alt=\"Open In Colab\"/></a>"
      ]
    },
    {
      "cell_type": "markdown",
      "metadata": {
        "id": "sObT9PMkwKxH",
        "colab_type": "text"
      },
      "source": [
        "## Basics of Tensorflow"
      ]
    },
    {
      "cell_type": "code",
      "metadata": {
        "id": "scK5oKL0w1f6",
        "colab_type": "code",
        "colab": {}
      },
      "source": [
        "%tensorflow_version 2.x"
      ],
      "execution_count": null,
      "outputs": []
    },
    {
      "cell_type": "code",
      "metadata": {
        "id": "VmtvkuJUwi-f",
        "colab_type": "code",
        "colab": {
          "base_uri": "https://localhost:8080/",
          "height": 34
        },
        "outputId": "b3de893a-0eb6-4b1e-c674-096efff21b97"
      },
      "source": [
        "# Import package\n",
        "import tensorflow as tf\n",
        "print(tf.__version__)"
      ],
      "execution_count": null,
      "outputs": [
        {
          "output_type": "stream",
          "text": [
            "2.3.0\n"
          ],
          "name": "stdout"
        }
      ]
    },
    {
      "cell_type": "code",
      "metadata": {
        "id": "stn8JgWIzHuk",
        "colab_type": "code",
        "colab": {
          "base_uri": "https://localhost:8080/",
          "height": 34
        },
        "outputId": "d2d3a800-3360-481a-9cbb-d925deddb200"
      },
      "source": [
        "# Create a Tensor.\n",
        "hello = tf.constant(\"hello world\")\n",
        "print(hello)"
      ],
      "execution_count": null,
      "outputs": [
        {
          "output_type": "stream",
          "text": [
            "tf.Tensor(b'hello world', shape=(), dtype=string)\n"
          ],
          "name": "stdout"
        }
      ]
    },
    {
      "cell_type": "code",
      "metadata": {
        "id": "KS9pa-pqwt-n",
        "colab_type": "code",
        "colab": {}
      },
      "source": [
        "# Define tensor constants.\n",
        "a = tf.constant(2)\n",
        "b = tf.constant(3)\n",
        "c = tf.constant(5)"
      ],
      "execution_count": null,
      "outputs": []
    },
    {
      "cell_type": "code",
      "metadata": {
        "id": "BowQiBLl1_DB",
        "colab_type": "code",
        "colab": {
          "base_uri": "https://localhost:8080/",
          "height": 67
        },
        "outputId": "02252c85-d74c-4639-a31b-bb5a3c90385e"
      },
      "source": [
        "print('', a, '\\n', b, '\\n', c)"
      ],
      "execution_count": null,
      "outputs": [
        {
          "output_type": "stream",
          "text": [
            " tf.Tensor(2, shape=(), dtype=int32) \n",
            " tf.Tensor(3, shape=(), dtype=int32) \n",
            " tf.Tensor(5, shape=(), dtype=int32)\n"
          ],
          "name": "stdout"
        }
      ]
    },
    {
      "cell_type": "code",
      "metadata": {
        "id": "hLK93DLFxEd1",
        "colab_type": "code",
        "colab": {}
      },
      "source": [
        "# Basic arithmetic operations\n",
        "add = tf.add(a, b)\n",
        "sub = tf.subtract(a, b)\n",
        "mul = tf.multiply(a, b)\n",
        "div = tf.divide(a, b)"
      ],
      "execution_count": null,
      "outputs": []
    },
    {
      "cell_type": "code",
      "metadata": {
        "id": "9DQukBojxIf4",
        "colab_type": "code",
        "colab": {
          "base_uri": "https://localhost:8080/",
          "height": 84
        },
        "outputId": "de21e801-a925-4c78-8fcb-9a8ab837abf8"
      },
      "source": [
        "# Access tensors value.\n",
        "print(\"add =\", add.numpy())\n",
        "print(\"sub =\", sub.numpy())\n",
        "print(\"mul =\", mul.numpy())\n",
        "print(\"div =\", div.numpy())"
      ],
      "execution_count": null,
      "outputs": [
        {
          "output_type": "stream",
          "text": [
            "add = 5\n",
            "sub = -1\n",
            "mul = 6\n",
            "div = 0.6666666666666666\n"
          ],
          "name": "stdout"
        }
      ]
    },
    {
      "cell_type": "code",
      "metadata": {
        "id": "o-XePxgoxJzx",
        "colab_type": "code",
        "colab": {}
      },
      "source": [
        "# Matrix multiplications.\n",
        "matrix1 = tf.constant([[1., 2.], [3., 4.]])\n",
        "matrix2 = tf.constant([[5., 6.], [7., 8.]])\n",
        "\n",
        "product = tf.matmul(matrix1, matrix2)"
      ],
      "execution_count": null,
      "outputs": []
    },
    {
      "cell_type": "code",
      "metadata": {
        "id": "R0BX4A-Lx4Mh",
        "colab_type": "code",
        "colab": {
          "base_uri": "https://localhost:8080/",
          "height": 67
        },
        "outputId": "441c2886-7b95-42d7-e52b-c65cf6a37f62"
      },
      "source": [
        "product"
      ],
      "execution_count": null,
      "outputs": [
        {
          "output_type": "execute_result",
          "data": {
            "text/plain": [
              "<tf.Tensor: shape=(2, 2), dtype=float32, numpy=\n",
              "array([[19., 22.],\n",
              "       [43., 50.]], dtype=float32)>"
            ]
          },
          "metadata": {
            "tags": []
          },
          "execution_count": 29
        }
      ]
    },
    {
      "cell_type": "code",
      "metadata": {
        "id": "Pd1ceQl_x6Mg",
        "colab_type": "code",
        "colab": {
          "base_uri": "https://localhost:8080/",
          "height": 50
        },
        "outputId": "be42d8bf-b2c8-4540-a8f4-7c75d4994bbd"
      },
      "source": [
        "# Convert Tensor to Numpy.\n",
        "product.numpy()"
      ],
      "execution_count": null,
      "outputs": [
        {
          "output_type": "execute_result",
          "data": {
            "text/plain": [
              "array([[19., 22.],\n",
              "       [43., 50.]], dtype=float32)"
            ]
          },
          "metadata": {
            "tags": []
          },
          "execution_count": 30
        }
      ]
    }
  ]
}